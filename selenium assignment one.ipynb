{
 "cells": [
  {
   "cell_type": "code",
   "execution_count": 177,
   "id": "792b7fbc",
   "metadata": {},
   "outputs": [],
   "source": [
    "#Q1: Write a python program to scrape data for “Data Analyst” Job position in “Bangalore” location.\n",
    "#You have to scrape the job-title, job-location, company_name, experience_required. You have to scrape first 10 jobs data. This task will be done in following steps:\n",
    "#1. First get the webpage https://www.naukri.com/ \n",
    "#2. Enter “Data Analyst” in “Skill, Designations, Companies” field and enter “Bangalore” in “enter the location” field. \n",
    "#3. Then click the search button. \n",
    "#4. Then scrape the data for the first 10 jobs results you get. \n",
    "#5. Finally create a dataframe of the scraped data."
   ]
  },
  {
   "cell_type": "code",
   "execution_count": 178,
   "id": "93d80b5a",
   "metadata": {},
   "outputs": [],
   "source": [
    "# Importing Libraries\n",
    "import selenium\n",
    "import pandas as pd\n",
    "import time\n",
    "from selenium import webdriver\n",
    "import requests\n",
    "import warnings\n",
    "warnings.filterwarnings(\"ignore\")"
   ]
  },
  {
   "cell_type": "code",
   "execution_count": 179,
   "id": "009f35a6",
   "metadata": {},
   "outputs": [],
   "source": [
    "#connecting web driver to the installed libaray\n",
    "driver = webdriver.Chrome(\"C:/Users/Ankit anand/selenium/chromedriver.exe\")\n",
    "#commanding driver to open the url\n",
    "driver.get('https://www.naukri.com/')\n",
    "#commanding driver to wait for 5 sec \n",
    "time.sleep(5)\n",
    "#selecting diloague box to fill that with location & skills  \n",
    "skill=driver.find_element_by_class_name('suggestor-input') \n",
    "location= driver.find_element_by_xpath('/html/body/div/div[2]/div[3]/div/div/div[3]/div/div/div/input')\n",
    "skill.send_keys('Data Analyst')\n",
    "location.send_keys('Bangalore')\n"
   ]
  },
  {
   "cell_type": "code",
   "execution_count": 180,
   "id": "e1344134",
   "metadata": {},
   "outputs": [],
   "source": [
    "#clicking on the search button\n",
    "buton=driver.find_element_by_class_name('qsbSubmit')\n",
    "buton.click()\n"
   ]
  },
  {
   "cell_type": "code",
   "execution_count": 181,
   "id": "36cd78aa",
   "metadata": {},
   "outputs": [],
   "source": [
    "#creating list of which data going in scrapped\n",
    "job_titles=[]\n",
    "job_location=[]\n",
    "company_name=[]\n",
    "experience_required=[]"
   ]
  },
  {
   "cell_type": "code",
   "execution_count": 182,
   "id": "cfab3094",
   "metadata": {},
   "outputs": [
    {
     "data": {
      "text/plain": [
       "[<selenium.webdriver.remote.webelement.WebElement (session=\"12fb25530272d2c75c3a0e8c6d9fe6d1\", element=\"49469efe-3917-4bed-aa6a-7e29af6cb094\")>,\n",
       " <selenium.webdriver.remote.webelement.WebElement (session=\"12fb25530272d2c75c3a0e8c6d9fe6d1\", element=\"988be2fe-2006-427d-a84f-b530acb062c5\")>,\n",
       " <selenium.webdriver.remote.webelement.WebElement (session=\"12fb25530272d2c75c3a0e8c6d9fe6d1\", element=\"72c7c8b7-c317-40c6-9c12-f906a884f0a0\")>,\n",
       " <selenium.webdriver.remote.webelement.WebElement (session=\"12fb25530272d2c75c3a0e8c6d9fe6d1\", element=\"062dd5f2-cee7-429b-801d-22556727e1f2\")>,\n",
       " <selenium.webdriver.remote.webelement.WebElement (session=\"12fb25530272d2c75c3a0e8c6d9fe6d1\", element=\"e77ea9b6-cdf7-4fa9-8a60-feaf62cf73ff\")>,\n",
       " <selenium.webdriver.remote.webelement.WebElement (session=\"12fb25530272d2c75c3a0e8c6d9fe6d1\", element=\"a85fe47f-d003-4012-9313-d4429ec01571\")>,\n",
       " <selenium.webdriver.remote.webelement.WebElement (session=\"12fb25530272d2c75c3a0e8c6d9fe6d1\", element=\"e48fa974-7208-4875-9968-a4df29d8fc13\")>,\n",
       " <selenium.webdriver.remote.webelement.WebElement (session=\"12fb25530272d2c75c3a0e8c6d9fe6d1\", element=\"25436ff5-482d-4bd9-9773-e420f491ea69\")>,\n",
       " <selenium.webdriver.remote.webelement.WebElement (session=\"12fb25530272d2c75c3a0e8c6d9fe6d1\", element=\"6edff6d2-a4fe-489e-b223-3faf2b5285e2\")>,\n",
       " <selenium.webdriver.remote.webelement.WebElement (session=\"12fb25530272d2c75c3a0e8c6d9fe6d1\", element=\"b34ba811-58e3-4670-a5da-559f771d8b9b\")>,\n",
       " <selenium.webdriver.remote.webelement.WebElement (session=\"12fb25530272d2c75c3a0e8c6d9fe6d1\", element=\"b2b227aa-e9a5-4a61-909d-38e8443b642f\")>,\n",
       " <selenium.webdriver.remote.webelement.WebElement (session=\"12fb25530272d2c75c3a0e8c6d9fe6d1\", element=\"3d063651-1082-442c-af57-a99907acf81c\")>,\n",
       " <selenium.webdriver.remote.webelement.WebElement (session=\"12fb25530272d2c75c3a0e8c6d9fe6d1\", element=\"456438d7-941f-4551-9103-60965bca1ad5\")>,\n",
       " <selenium.webdriver.remote.webelement.WebElement (session=\"12fb25530272d2c75c3a0e8c6d9fe6d1\", element=\"c7a0eeed-00ba-4a6a-ba86-95d71d9282ac\")>,\n",
       " <selenium.webdriver.remote.webelement.WebElement (session=\"12fb25530272d2c75c3a0e8c6d9fe6d1\", element=\"c61f055f-7e3e-405d-9332-76571acc1d4f\")>,\n",
       " <selenium.webdriver.remote.webelement.WebElement (session=\"12fb25530272d2c75c3a0e8c6d9fe6d1\", element=\"5c02dd98-044d-494b-a62a-1fbdfc849eb2\")>,\n",
       " <selenium.webdriver.remote.webelement.WebElement (session=\"12fb25530272d2c75c3a0e8c6d9fe6d1\", element=\"1c7e1197-4fb7-4c6a-bc95-e4c33c83df6d\")>,\n",
       " <selenium.webdriver.remote.webelement.WebElement (session=\"12fb25530272d2c75c3a0e8c6d9fe6d1\", element=\"6ad18e6e-9c8e-485d-81b4-d12c97296d30\")>,\n",
       " <selenium.webdriver.remote.webelement.WebElement (session=\"12fb25530272d2c75c3a0e8c6d9fe6d1\", element=\"cd3c06f8-8dfe-452e-99a8-88b98519f230\")>,\n",
       " <selenium.webdriver.remote.webelement.WebElement (session=\"12fb25530272d2c75c3a0e8c6d9fe6d1\", element=\"1b25bfe6-6f63-4544-b7d4-af8b2f1a8554\")>]"
      ]
     },
     "execution_count": 182,
     "metadata": {},
     "output_type": "execute_result"
    }
   ],
   "source": [
    "#scrape job-titles form naukari.com\n",
    "title=driver.find_elements_by_xpath(\"//a[@class='title fw500 ellipsis']\")\n",
    "title"
   ]
  },
  {
   "cell_type": "code",
   "execution_count": 183,
   "id": "161a2db5",
   "metadata": {},
   "outputs": [
    {
     "data": {
      "text/plain": [
       "['Senior Data Analyst',\n",
       " 'Data Analyst- customer facing',\n",
       " 'Sr Data Analyst II',\n",
       " 'Data Analyst',\n",
       " 'Hiring For Data Analyst with SAP ABAP & BW - C2H Wipro',\n",
       " 'Senior Business Analyst - Data Sciences and Advanced Analytics',\n",
       " 'Business and Data Analyst',\n",
       " 'Senior Data Analyst | Lululemon',\n",
       " 'Urgent hiring For Senior Data Analyst',\n",
       " 'Senior Data Analyst']"
      ]
     },
     "execution_count": 183,
     "metadata": {},
     "output_type": "execute_result"
    }
   ],
   "source": [
    "# creating loop in order tp create a series\n",
    "for i in title:\n",
    "    job_titles.append(i.text)\n",
    "job_titles[0:10] "
   ]
  },
  {
   "cell_type": "code",
   "execution_count": 184,
   "id": "99ea653d",
   "metadata": {},
   "outputs": [
    {
     "data": {
      "text/plain": [
       "[<selenium.webdriver.remote.webelement.WebElement (session=\"12fb25530272d2c75c3a0e8c6d9fe6d1\", element=\"1afabaea-d4e3-454d-9caf-8aa33f6c8d46\")>,\n",
       " <selenium.webdriver.remote.webelement.WebElement (session=\"12fb25530272d2c75c3a0e8c6d9fe6d1\", element=\"c3befa17-5f9e-496a-8afb-d97e59199577\")>,\n",
       " <selenium.webdriver.remote.webelement.WebElement (session=\"12fb25530272d2c75c3a0e8c6d9fe6d1\", element=\"79b54387-7fd4-483b-b116-4a88b46f275d\")>,\n",
       " <selenium.webdriver.remote.webelement.WebElement (session=\"12fb25530272d2c75c3a0e8c6d9fe6d1\", element=\"df95ac72-e6e0-4699-8f94-04dd78f095a4\")>,\n",
       " <selenium.webdriver.remote.webelement.WebElement (session=\"12fb25530272d2c75c3a0e8c6d9fe6d1\", element=\"434a39f4-eb65-47ec-b176-630d1efb6a7f\")>,\n",
       " <selenium.webdriver.remote.webelement.WebElement (session=\"12fb25530272d2c75c3a0e8c6d9fe6d1\", element=\"320a2622-7b49-4e6b-a7ee-81c9b96fa829\")>,\n",
       " <selenium.webdriver.remote.webelement.WebElement (session=\"12fb25530272d2c75c3a0e8c6d9fe6d1\", element=\"0217924a-1ec5-4d83-b2b7-5ce2ed1c8906\")>,\n",
       " <selenium.webdriver.remote.webelement.WebElement (session=\"12fb25530272d2c75c3a0e8c6d9fe6d1\", element=\"c29e2842-fd53-41c7-a72f-662f125d67f2\")>,\n",
       " <selenium.webdriver.remote.webelement.WebElement (session=\"12fb25530272d2c75c3a0e8c6d9fe6d1\", element=\"601f887a-a0b7-4284-9d99-52539474088a\")>,\n",
       " <selenium.webdriver.remote.webelement.WebElement (session=\"12fb25530272d2c75c3a0e8c6d9fe6d1\", element=\"56566534-2c0e-4dc8-9a32-2b7b0270ffe8\")>,\n",
       " <selenium.webdriver.remote.webelement.WebElement (session=\"12fb25530272d2c75c3a0e8c6d9fe6d1\", element=\"66f65632-85a6-45ed-b3ee-2ee7cd7edd92\")>,\n",
       " <selenium.webdriver.remote.webelement.WebElement (session=\"12fb25530272d2c75c3a0e8c6d9fe6d1\", element=\"3d753021-16e8-46dd-aa34-bfd7870a2793\")>,\n",
       " <selenium.webdriver.remote.webelement.WebElement (session=\"12fb25530272d2c75c3a0e8c6d9fe6d1\", element=\"bd3bdc95-f065-4f6f-b50c-153ae64e9366\")>,\n",
       " <selenium.webdriver.remote.webelement.WebElement (session=\"12fb25530272d2c75c3a0e8c6d9fe6d1\", element=\"d434cb9b-9aa8-48bf-a6e4-10302083384d\")>,\n",
       " <selenium.webdriver.remote.webelement.WebElement (session=\"12fb25530272d2c75c3a0e8c6d9fe6d1\", element=\"2ebf6d3b-eec7-4ec7-9e05-42e62b0e9c36\")>,\n",
       " <selenium.webdriver.remote.webelement.WebElement (session=\"12fb25530272d2c75c3a0e8c6d9fe6d1\", element=\"374779c7-1127-4cd4-b0c7-b42ec01e3aed\")>,\n",
       " <selenium.webdriver.remote.webelement.WebElement (session=\"12fb25530272d2c75c3a0e8c6d9fe6d1\", element=\"27a4e209-d515-45c5-a4af-d7830de63152\")>,\n",
       " <selenium.webdriver.remote.webelement.WebElement (session=\"12fb25530272d2c75c3a0e8c6d9fe6d1\", element=\"de5828f2-b97e-4e2a-b58b-09bb7f7ff96e\")>,\n",
       " <selenium.webdriver.remote.webelement.WebElement (session=\"12fb25530272d2c75c3a0e8c6d9fe6d1\", element=\"6b4162e9-20cd-42f3-9778-2d480ac1dab1\")>,\n",
       " <selenium.webdriver.remote.webelement.WebElement (session=\"12fb25530272d2c75c3a0e8c6d9fe6d1\", element=\"69554f2e-3f4c-472a-b064-c5b88e1c746e\")>,\n",
       " <selenium.webdriver.remote.webelement.WebElement (session=\"12fb25530272d2c75c3a0e8c6d9fe6d1\", element=\"0e977116-27f5-423b-aafc-0d22476bcbbd\")>,\n",
       " <selenium.webdriver.remote.webelement.WebElement (session=\"12fb25530272d2c75c3a0e8c6d9fe6d1\", element=\"e1c22f39-9c8d-40b5-be5a-2547a09e25ad\")>,\n",
       " <selenium.webdriver.remote.webelement.WebElement (session=\"12fb25530272d2c75c3a0e8c6d9fe6d1\", element=\"f886a1ba-942b-4dc0-beb7-8cd154874178\")>]"
      ]
     },
     "execution_count": 184,
     "metadata": {},
     "output_type": "execute_result"
    }
   ],
   "source": [
    "location=driver.find_elements_by_xpath(\"//li[@class='fleft grey-text br2 placeHolderLi location']/span\")\n",
    "location "
   ]
  },
  {
   "cell_type": "code",
   "execution_count": 185,
   "id": "4a3aeeb9",
   "metadata": {},
   "outputs": [
    {
     "data": {
      "text/plain": [
       "['Bangalore/Bengaluru',\n",
       " 'Bangalore/Bengaluru',\n",
       " 'Gurgaon/Gurugram, Bangalore/Bengaluru',\n",
       " 'Bangalore/Bengaluru',\n",
       " 'Bangalore/Bengaluru',\n",
       " '(WFH during Covid)',\n",
       " 'Bangalore/Bengaluru',\n",
       " 'Bangalore/Bengaluru',\n",
       " '(WFH during Covid)',\n",
       " 'Bangalore/Bengaluru']"
      ]
     },
     "execution_count": 185,
     "metadata": {},
     "output_type": "execute_result"
    }
   ],
   "source": [
    "for i in location:\n",
    "    job_location.append(i.text)\n",
    "job_location[0:10]    "
   ]
  },
  {
   "cell_type": "code",
   "execution_count": 186,
   "id": "bfa1aa98",
   "metadata": {},
   "outputs": [
    {
     "data": {
      "text/plain": [
       "[<selenium.webdriver.remote.webelement.WebElement (session=\"12fb25530272d2c75c3a0e8c6d9fe6d1\", element=\"77cd4178-1dd2-413c-84ec-5981dbb9a9c8\")>,\n",
       " <selenium.webdriver.remote.webelement.WebElement (session=\"12fb25530272d2c75c3a0e8c6d9fe6d1\", element=\"c3f0773c-b445-4017-a6b9-5e26f7f0a9e1\")>,\n",
       " <selenium.webdriver.remote.webelement.WebElement (session=\"12fb25530272d2c75c3a0e8c6d9fe6d1\", element=\"68b323b6-261a-4224-9b3b-362634dd03c6\")>,\n",
       " <selenium.webdriver.remote.webelement.WebElement (session=\"12fb25530272d2c75c3a0e8c6d9fe6d1\", element=\"7c153cb0-ddaa-42fd-8417-710344958815\")>,\n",
       " <selenium.webdriver.remote.webelement.WebElement (session=\"12fb25530272d2c75c3a0e8c6d9fe6d1\", element=\"2712b7ac-0b14-4c9b-96d4-2ae2dd3a53b1\")>,\n",
       " <selenium.webdriver.remote.webelement.WebElement (session=\"12fb25530272d2c75c3a0e8c6d9fe6d1\", element=\"597b7465-caa8-4400-9a04-7becd64a7400\")>,\n",
       " <selenium.webdriver.remote.webelement.WebElement (session=\"12fb25530272d2c75c3a0e8c6d9fe6d1\", element=\"5d7f347c-a1af-473a-9e16-dc0eeb5d9268\")>,\n",
       " <selenium.webdriver.remote.webelement.WebElement (session=\"12fb25530272d2c75c3a0e8c6d9fe6d1\", element=\"f3a5112e-a58a-49bf-ba3c-caff51c61239\")>,\n",
       " <selenium.webdriver.remote.webelement.WebElement (session=\"12fb25530272d2c75c3a0e8c6d9fe6d1\", element=\"e10c30a0-eddf-4d6e-9aa4-e8d6dfa2aa2b\")>,\n",
       " <selenium.webdriver.remote.webelement.WebElement (session=\"12fb25530272d2c75c3a0e8c6d9fe6d1\", element=\"38d8257b-1a25-47c3-b28c-6f1ff3219cad\")>,\n",
       " <selenium.webdriver.remote.webelement.WebElement (session=\"12fb25530272d2c75c3a0e8c6d9fe6d1\", element=\"1a2c345e-f0e6-4361-a13f-27761b403b55\")>,\n",
       " <selenium.webdriver.remote.webelement.WebElement (session=\"12fb25530272d2c75c3a0e8c6d9fe6d1\", element=\"8c09367d-e010-4c8d-b8bb-3d9be9d3affc\")>,\n",
       " <selenium.webdriver.remote.webelement.WebElement (session=\"12fb25530272d2c75c3a0e8c6d9fe6d1\", element=\"607aa922-61f5-4f46-a6b2-bd01684365c0\")>,\n",
       " <selenium.webdriver.remote.webelement.WebElement (session=\"12fb25530272d2c75c3a0e8c6d9fe6d1\", element=\"6c59ae71-3a5b-4d5c-8f86-38afc2c40c18\")>,\n",
       " <selenium.webdriver.remote.webelement.WebElement (session=\"12fb25530272d2c75c3a0e8c6d9fe6d1\", element=\"b6f0f438-81df-4d06-a7c9-da5d5ed98537\")>,\n",
       " <selenium.webdriver.remote.webelement.WebElement (session=\"12fb25530272d2c75c3a0e8c6d9fe6d1\", element=\"4c33ee43-d326-43bf-b090-f6446cdc0f5d\")>,\n",
       " <selenium.webdriver.remote.webelement.WebElement (session=\"12fb25530272d2c75c3a0e8c6d9fe6d1\", element=\"98d30cb2-ba33-474d-9399-306335f4591b\")>,\n",
       " <selenium.webdriver.remote.webelement.WebElement (session=\"12fb25530272d2c75c3a0e8c6d9fe6d1\", element=\"a7f88e25-3f6d-41fc-bc81-50a6d1bf3fec\")>,\n",
       " <selenium.webdriver.remote.webelement.WebElement (session=\"12fb25530272d2c75c3a0e8c6d9fe6d1\", element=\"ca7e09e1-c7c5-48a6-b907-7fd93037c157\")>,\n",
       " <selenium.webdriver.remote.webelement.WebElement (session=\"12fb25530272d2c75c3a0e8c6d9fe6d1\", element=\"a5e34597-1d9e-466b-aad4-e2d9d604a308\")>]"
      ]
     },
     "execution_count": 186,
     "metadata": {},
     "output_type": "execute_result"
    }
   ],
   "source": [
    "company=driver.find_elements_by_xpath(\"//a[@class='subTitle ellipsis fleft']\")\n",
    "company"
   ]
  },
  {
   "cell_type": "code",
   "execution_count": 187,
   "id": "4b9002ff",
   "metadata": {},
   "outputs": [
    {
     "data": {
      "text/plain": [
       "['Thomson Reuters',\n",
       " 'Synamedia',\n",
       " 'IHS Markit',\n",
       " 'VOLVO ASSET FINANCE INDIA PRIVATE LIMITED',\n",
       " 'MILLION MINDS INFOTECH PRIVATE LIMITED',\n",
       " 'Vmware',\n",
       " 'CAREERDOST ENTERPRISE',\n",
       " 'TALENT500 TECH (INDIA) PRIVATE LIMITED',\n",
       " 'upGrad',\n",
       " 'Capco']"
      ]
     },
     "execution_count": 187,
     "metadata": {},
     "output_type": "execute_result"
    }
   ],
   "source": [
    "for i in company:\n",
    "    company_name.append(i.text)\n",
    "company_name[0:10]"
   ]
  },
  {
   "cell_type": "code",
   "execution_count": 188,
   "id": "e4b4da65",
   "metadata": {},
   "outputs": [
    {
     "data": {
      "text/plain": [
       "[<selenium.webdriver.remote.webelement.WebElement (session=\"12fb25530272d2c75c3a0e8c6d9fe6d1\", element=\"94a1021c-2635-4603-9629-22fe986e6675\")>,\n",
       " <selenium.webdriver.remote.webelement.WebElement (session=\"12fb25530272d2c75c3a0e8c6d9fe6d1\", element=\"c26c4eee-9745-43fd-94b2-147952f093b8\")>,\n",
       " <selenium.webdriver.remote.webelement.WebElement (session=\"12fb25530272d2c75c3a0e8c6d9fe6d1\", element=\"53c56c63-8299-49dd-9998-cc28566cc647\")>,\n",
       " <selenium.webdriver.remote.webelement.WebElement (session=\"12fb25530272d2c75c3a0e8c6d9fe6d1\", element=\"73b16b72-9ab8-4186-aafe-3adb124a8682\")>,\n",
       " <selenium.webdriver.remote.webelement.WebElement (session=\"12fb25530272d2c75c3a0e8c6d9fe6d1\", element=\"c5fdd428-91bf-4f05-b25f-7afb513c2bc9\")>,\n",
       " <selenium.webdriver.remote.webelement.WebElement (session=\"12fb25530272d2c75c3a0e8c6d9fe6d1\", element=\"8d8a130e-119f-4d00-954e-f4d06904fdf5\")>,\n",
       " <selenium.webdriver.remote.webelement.WebElement (session=\"12fb25530272d2c75c3a0e8c6d9fe6d1\", element=\"3242edc4-b738-4d69-9fae-f555decf7d7e\")>,\n",
       " <selenium.webdriver.remote.webelement.WebElement (session=\"12fb25530272d2c75c3a0e8c6d9fe6d1\", element=\"e8318a8a-0ead-431c-89ba-7411c4c052a6\")>,\n",
       " <selenium.webdriver.remote.webelement.WebElement (session=\"12fb25530272d2c75c3a0e8c6d9fe6d1\", element=\"06412917-4815-46cb-b7e3-ee950fa55728\")>,\n",
       " <selenium.webdriver.remote.webelement.WebElement (session=\"12fb25530272d2c75c3a0e8c6d9fe6d1\", element=\"cb11006c-1648-4e06-90f4-21650aa98185\")>,\n",
       " <selenium.webdriver.remote.webelement.WebElement (session=\"12fb25530272d2c75c3a0e8c6d9fe6d1\", element=\"260546d5-bb41-48b8-b711-300656b64d14\")>,\n",
       " <selenium.webdriver.remote.webelement.WebElement (session=\"12fb25530272d2c75c3a0e8c6d9fe6d1\", element=\"1968843c-c3df-4c36-bce8-12dfbe679689\")>,\n",
       " <selenium.webdriver.remote.webelement.WebElement (session=\"12fb25530272d2c75c3a0e8c6d9fe6d1\", element=\"1f2c4a1d-0ae5-4b34-8fa3-00d61cdd5041\")>,\n",
       " <selenium.webdriver.remote.webelement.WebElement (session=\"12fb25530272d2c75c3a0e8c6d9fe6d1\", element=\"4d672223-9b15-4a19-8b70-d1ad85020d89\")>,\n",
       " <selenium.webdriver.remote.webelement.WebElement (session=\"12fb25530272d2c75c3a0e8c6d9fe6d1\", element=\"89113b51-9599-4395-9801-5029de6a5848\")>,\n",
       " <selenium.webdriver.remote.webelement.WebElement (session=\"12fb25530272d2c75c3a0e8c6d9fe6d1\", element=\"637bd1d4-7dce-4356-9385-b3e31a8986d0\")>,\n",
       " <selenium.webdriver.remote.webelement.WebElement (session=\"12fb25530272d2c75c3a0e8c6d9fe6d1\", element=\"da348e1b-f62c-48ef-94d5-ae7255ddfbb3\")>,\n",
       " <selenium.webdriver.remote.webelement.WebElement (session=\"12fb25530272d2c75c3a0e8c6d9fe6d1\", element=\"346687b1-ced9-40c3-97c5-368cfee1050a\")>,\n",
       " <selenium.webdriver.remote.webelement.WebElement (session=\"12fb25530272d2c75c3a0e8c6d9fe6d1\", element=\"35bb5f9a-1125-4cf1-af39-6aef4900999d\")>,\n",
       " <selenium.webdriver.remote.webelement.WebElement (session=\"12fb25530272d2c75c3a0e8c6d9fe6d1\", element=\"85b41694-05cf-4b9d-a711-af7a18d80b6d\")>]"
      ]
     },
     "execution_count": 188,
     "metadata": {},
     "output_type": "execute_result"
    }
   ],
   "source": [
    "experience=driver.find_elements_by_xpath('//li[@class=\"fleft grey-text br2 placeHolderLi experience\"]')\n",
    "experience"
   ]
  },
  {
   "cell_type": "code",
   "execution_count": 189,
   "id": "a46e7526",
   "metadata": {},
   "outputs": [
    {
     "data": {
      "text/plain": [
       "['2-4 Yrs',\n",
       " '0-3 Yrs',\n",
       " '3-6 Yrs',\n",
       " '2-4 Yrs',\n",
       " '7-10 Yrs',\n",
       " '3-7 Yrs',\n",
       " '0-5 Yrs',\n",
       " '5-8 Yrs',\n",
       " '2-7 Yrs',\n",
       " '7-12 Yrs']"
      ]
     },
     "execution_count": 189,
     "metadata": {},
     "output_type": "execute_result"
    }
   ],
   "source": [
    "for i in experience:\n",
    "    experience_required.append(i.text)\n",
    "experience_required[0:10]   "
   ]
  },
  {
   "cell_type": "code",
   "execution_count": 190,
   "id": "95b1eb00",
   "metadata": {},
   "outputs": [
    {
     "data": {
      "text/html": [
       "<div>\n",
       "<style scoped>\n",
       "    .dataframe tbody tr th:only-of-type {\n",
       "        vertical-align: middle;\n",
       "    }\n",
       "\n",
       "    .dataframe tbody tr th {\n",
       "        vertical-align: top;\n",
       "    }\n",
       "\n",
       "    .dataframe thead th {\n",
       "        text-align: right;\n",
       "    }\n",
       "</style>\n",
       "<table border=\"1\" class=\"dataframe\">\n",
       "  <thead>\n",
       "    <tr style=\"text-align: right;\">\n",
       "      <th></th>\n",
       "      <th>Job Titles</th>\n",
       "      <th>Job Location</th>\n",
       "      <th>Company Name</th>\n",
       "      <th>Experience Required</th>\n",
       "    </tr>\n",
       "  </thead>\n",
       "  <tbody>\n",
       "    <tr>\n",
       "      <th>0</th>\n",
       "      <td>Senior Data Analyst</td>\n",
       "      <td>Bangalore/Bengaluru</td>\n",
       "      <td>Thomson Reuters</td>\n",
       "      <td>2-4 Yrs</td>\n",
       "    </tr>\n",
       "    <tr>\n",
       "      <th>1</th>\n",
       "      <td>Data Analyst- customer facing</td>\n",
       "      <td>Bangalore/Bengaluru</td>\n",
       "      <td>Synamedia</td>\n",
       "      <td>0-3 Yrs</td>\n",
       "    </tr>\n",
       "    <tr>\n",
       "      <th>2</th>\n",
       "      <td>Sr Data Analyst II</td>\n",
       "      <td>Gurgaon/Gurugram, Bangalore/Bengaluru</td>\n",
       "      <td>IHS Markit</td>\n",
       "      <td>3-6 Yrs</td>\n",
       "    </tr>\n",
       "    <tr>\n",
       "      <th>3</th>\n",
       "      <td>Data Analyst</td>\n",
       "      <td>Bangalore/Bengaluru</td>\n",
       "      <td>VOLVO ASSET FINANCE INDIA PRIVATE LIMITED</td>\n",
       "      <td>2-4 Yrs</td>\n",
       "    </tr>\n",
       "    <tr>\n",
       "      <th>4</th>\n",
       "      <td>Hiring For Data Analyst with SAP ABAP &amp; BW - C...</td>\n",
       "      <td>Bangalore/Bengaluru</td>\n",
       "      <td>MILLION MINDS INFOTECH PRIVATE LIMITED</td>\n",
       "      <td>7-10 Yrs</td>\n",
       "    </tr>\n",
       "    <tr>\n",
       "      <th>5</th>\n",
       "      <td>Senior Business Analyst - Data Sciences and Ad...</td>\n",
       "      <td>(WFH during Covid)</td>\n",
       "      <td>Vmware</td>\n",
       "      <td>3-7 Yrs</td>\n",
       "    </tr>\n",
       "    <tr>\n",
       "      <th>6</th>\n",
       "      <td>Business and Data Analyst</td>\n",
       "      <td>Bangalore/Bengaluru</td>\n",
       "      <td>CAREERDOST ENTERPRISE</td>\n",
       "      <td>0-5 Yrs</td>\n",
       "    </tr>\n",
       "    <tr>\n",
       "      <th>7</th>\n",
       "      <td>Senior Data Analyst | Lululemon</td>\n",
       "      <td>Bangalore/Bengaluru</td>\n",
       "      <td>TALENT500 TECH (INDIA) PRIVATE LIMITED</td>\n",
       "      <td>5-8 Yrs</td>\n",
       "    </tr>\n",
       "    <tr>\n",
       "      <th>8</th>\n",
       "      <td>Urgent hiring For Senior Data Analyst</td>\n",
       "      <td>(WFH during Covid)</td>\n",
       "      <td>upGrad</td>\n",
       "      <td>2-7 Yrs</td>\n",
       "    </tr>\n",
       "    <tr>\n",
       "      <th>9</th>\n",
       "      <td>Senior Data Analyst</td>\n",
       "      <td>Bangalore/Bengaluru</td>\n",
       "      <td>Capco</td>\n",
       "      <td>7-12 Yrs</td>\n",
       "    </tr>\n",
       "  </tbody>\n",
       "</table>\n",
       "</div>"
      ],
      "text/plain": [
       "                                          Job Titles  \\\n",
       "0                                Senior Data Analyst   \n",
       "1                      Data Analyst- customer facing   \n",
       "2                                 Sr Data Analyst II   \n",
       "3                                       Data Analyst   \n",
       "4  Hiring For Data Analyst with SAP ABAP & BW - C...   \n",
       "5  Senior Business Analyst - Data Sciences and Ad...   \n",
       "6                          Business and Data Analyst   \n",
       "7                    Senior Data Analyst | Lululemon   \n",
       "8              Urgent hiring For Senior Data Analyst   \n",
       "9                                Senior Data Analyst   \n",
       "\n",
       "                            Job Location  \\\n",
       "0                    Bangalore/Bengaluru   \n",
       "1                    Bangalore/Bengaluru   \n",
       "2  Gurgaon/Gurugram, Bangalore/Bengaluru   \n",
       "3                    Bangalore/Bengaluru   \n",
       "4                    Bangalore/Bengaluru   \n",
       "5                     (WFH during Covid)   \n",
       "6                    Bangalore/Bengaluru   \n",
       "7                    Bangalore/Bengaluru   \n",
       "8                     (WFH during Covid)   \n",
       "9                    Bangalore/Bengaluru   \n",
       "\n",
       "                                Company Name Experience Required  \n",
       "0                            Thomson Reuters             2-4 Yrs  \n",
       "1                                  Synamedia             0-3 Yrs  \n",
       "2                                 IHS Markit             3-6 Yrs  \n",
       "3  VOLVO ASSET FINANCE INDIA PRIVATE LIMITED             2-4 Yrs  \n",
       "4     MILLION MINDS INFOTECH PRIVATE LIMITED            7-10 Yrs  \n",
       "5                                     Vmware             3-7 Yrs  \n",
       "6                      CAREERDOST ENTERPRISE             0-5 Yrs  \n",
       "7     TALENT500 TECH (INDIA) PRIVATE LIMITED             5-8 Yrs  \n",
       "8                                     upGrad             2-7 Yrs  \n",
       "9                                      Capco            7-12 Yrs  "
      ]
     },
     "execution_count": 190,
     "metadata": {},
     "output_type": "execute_result"
    }
   ],
   "source": [
    "df=pd.DataFrame({('Job Titles'):job_titles[0:10],('Job Location'):job_location[0:10],('Company Name'):company_name[0:10],('Experience Required'):experience_required[0:10]})\n",
    "df"
   ]
  },
  {
   "cell_type": "code",
   "execution_count": 191,
   "id": "508aab04",
   "metadata": {},
   "outputs": [],
   "source": [
    "driver.close()"
   ]
  },
  {
   "cell_type": "code",
   "execution_count": 192,
   "id": "b97f2f9d",
   "metadata": {},
   "outputs": [],
   "source": [
    "#Q2: Write a python program to scrape data for “Data Scientist” Job position in “Bangalore” location. \n",
    "#You have to scrape the job-title, job-location, company_name. You have to scrape first 10 jobs data. This task will be done in following steps: \n",
    "#1. First get the webpage https://www.naukri.com/ \n",
    "#2.  Enter “Data Scientist” in “Skill, Designations, Companies” field and enter “Bangalore” in “enter the location” field.\n",
    "#3. Then click the search button. \n",
    "#4. Then scrape the data for the first 10 jobs results you get. \n",
    "#5. Finally create a dataframe of the scraped data. "
   ]
  },
  {
   "cell_type": "code",
   "execution_count": 193,
   "id": "12d7fb61",
   "metadata": {},
   "outputs": [],
   "source": [
    "#connecting web driver to the installed libaray\n",
    "driver = webdriver.Chrome(\"C:/Users/Ankit anand/selenium/chromedriver.exe\")\n",
    "#commanding driver to open the url\n",
    "driver.get('https://www.naukri.com/')\n",
    "#commanding driver to wait for 5 sec \n",
    "time.sleep(5)\n",
    "#selecting diloague box to fill that with location & skills  \n",
    "skill=driver.find_element_by_class_name('suggestor-input') \n",
    "location= driver.find_element_by_xpath('/html/body/div/div[2]/div[3]/div/div/div[3]/div/div/div/input')\n",
    "skill.send_keys('Data Scientist')\n",
    "location.send_keys('Bangalore')\n",
    "#clicking on the search button\n",
    "buton=driver.find_element_by_class_name('qsbSubmit')\n",
    "buton.click()"
   ]
  },
  {
   "cell_type": "code",
   "execution_count": 194,
   "id": "74479b20",
   "metadata": {},
   "outputs": [
    {
     "data": {
      "text/plain": [
       "[<selenium.webdriver.remote.webelement.WebElement (session=\"35a7d34f23578316973a92f9b855de9c\", element=\"0f072591-330a-4391-a1dc-4d1d129925f6\")>,\n",
       " <selenium.webdriver.remote.webelement.WebElement (session=\"35a7d34f23578316973a92f9b855de9c\", element=\"240333fc-763f-4f2d-8611-bd84ecf951aa\")>,\n",
       " <selenium.webdriver.remote.webelement.WebElement (session=\"35a7d34f23578316973a92f9b855de9c\", element=\"f1b05356-48e1-426a-95f2-f3da9e009c3e\")>,\n",
       " <selenium.webdriver.remote.webelement.WebElement (session=\"35a7d34f23578316973a92f9b855de9c\", element=\"255d8788-8de4-449b-93bb-3423f1a8af54\")>,\n",
       " <selenium.webdriver.remote.webelement.WebElement (session=\"35a7d34f23578316973a92f9b855de9c\", element=\"d3d2b6fb-fb9c-41df-bdf8-a507d878f69b\")>,\n",
       " <selenium.webdriver.remote.webelement.WebElement (session=\"35a7d34f23578316973a92f9b855de9c\", element=\"1217fab7-28a3-4577-8959-5616611a1f4d\")>,\n",
       " <selenium.webdriver.remote.webelement.WebElement (session=\"35a7d34f23578316973a92f9b855de9c\", element=\"f22e0b36-104e-44b7-a010-d6137e7b673c\")>,\n",
       " <selenium.webdriver.remote.webelement.WebElement (session=\"35a7d34f23578316973a92f9b855de9c\", element=\"34db910c-bd43-4ee9-9b5b-22c281c05ae3\")>,\n",
       " <selenium.webdriver.remote.webelement.WebElement (session=\"35a7d34f23578316973a92f9b855de9c\", element=\"909a69a4-27c8-4329-aa3b-013469a6ef19\")>,\n",
       " <selenium.webdriver.remote.webelement.WebElement (session=\"35a7d34f23578316973a92f9b855de9c\", element=\"d52dc86c-a61b-437b-8413-293d809f733e\")>,\n",
       " <selenium.webdriver.remote.webelement.WebElement (session=\"35a7d34f23578316973a92f9b855de9c\", element=\"3eff51bb-b3f6-4019-a2b3-15cd62474d06\")>,\n",
       " <selenium.webdriver.remote.webelement.WebElement (session=\"35a7d34f23578316973a92f9b855de9c\", element=\"6205e279-e751-4830-89b4-35cdc047e0ef\")>,\n",
       " <selenium.webdriver.remote.webelement.WebElement (session=\"35a7d34f23578316973a92f9b855de9c\", element=\"4c66f8ff-aaba-4b19-92ab-127ea8be7d45\")>,\n",
       " <selenium.webdriver.remote.webelement.WebElement (session=\"35a7d34f23578316973a92f9b855de9c\", element=\"2f628bb3-afa1-4b16-a7af-354c85ae3aee\")>,\n",
       " <selenium.webdriver.remote.webelement.WebElement (session=\"35a7d34f23578316973a92f9b855de9c\", element=\"c8f2a801-bd8f-46a2-90e9-ccf292c0b2dc\")>,\n",
       " <selenium.webdriver.remote.webelement.WebElement (session=\"35a7d34f23578316973a92f9b855de9c\", element=\"1dd596e7-bcbe-4bd6-831a-79cfa450965f\")>,\n",
       " <selenium.webdriver.remote.webelement.WebElement (session=\"35a7d34f23578316973a92f9b855de9c\", element=\"abb9de6f-eadb-45d6-9bb1-b9c924101dd9\")>,\n",
       " <selenium.webdriver.remote.webelement.WebElement (session=\"35a7d34f23578316973a92f9b855de9c\", element=\"1f019400-0f1d-4a39-a10e-b58dbcaf1540\")>,\n",
       " <selenium.webdriver.remote.webelement.WebElement (session=\"35a7d34f23578316973a92f9b855de9c\", element=\"4783fe01-bd46-46bc-b2b9-982ccf1ae6a2\")>,\n",
       " <selenium.webdriver.remote.webelement.WebElement (session=\"35a7d34f23578316973a92f9b855de9c\", element=\"eaa49d4c-eab7-46ee-98a4-7e68e8b45196\")>]"
      ]
     },
     "execution_count": 194,
     "metadata": {},
     "output_type": "execute_result"
    }
   ],
   "source": [
    "#creating list of which data going in scrapped\n",
    "job_titles=[]\n",
    "job_location=[]\n",
    "company_name=[]\n",
    "experience_required=[]\n",
    "#scrape job-titles form naukari.com\n",
    "title=driver.find_elements_by_xpath(\"//a[@class='title fw500 ellipsis']\")\n",
    "title"
   ]
  },
  {
   "cell_type": "code",
   "execution_count": 195,
   "id": "41d1eee8",
   "metadata": {},
   "outputs": [
    {
     "data": {
      "text/plain": [
       "['Senior Data Scientist',\n",
       " 'Data Scientist: Advanced Analytics',\n",
       " 'Data Scientist: Artificial Intelligence',\n",
       " 'Data Scientist: Artificial Intelligence',\n",
       " 'Data Scientist: Artificial Intelligence',\n",
       " 'Data Scientist: Artificial Intelligence',\n",
       " 'Data Scientist, Machine Learning (AIML)',\n",
       " 'Sr. Data Scientist',\n",
       " 'Lead Data Scientist',\n",
       " 'Senior Data Scientist']"
      ]
     },
     "execution_count": 195,
     "metadata": {},
     "output_type": "execute_result"
    }
   ],
   "source": [
    "# creating loop in order tp create a series\n",
    "for i in title:\n",
    "    job_titles.append(i.text)\n",
    "job_titles[0:10] "
   ]
  },
  {
   "cell_type": "code",
   "execution_count": 196,
   "id": "059e0374",
   "metadata": {},
   "outputs": [
    {
     "data": {
      "text/plain": [
       "[<selenium.webdriver.remote.webelement.WebElement (session=\"35a7d34f23578316973a92f9b855de9c\", element=\"74b0429a-3e6a-427e-b61b-aef1746b5450\")>,\n",
       " <selenium.webdriver.remote.webelement.WebElement (session=\"35a7d34f23578316973a92f9b855de9c\", element=\"408f6331-f65e-4780-8a6f-010cf703daed\")>,\n",
       " <selenium.webdriver.remote.webelement.WebElement (session=\"35a7d34f23578316973a92f9b855de9c\", element=\"db5abdea-11b1-4b50-8d51-e9060147f358\")>,\n",
       " <selenium.webdriver.remote.webelement.WebElement (session=\"35a7d34f23578316973a92f9b855de9c\", element=\"1d5e7659-c46c-46ad-aac7-3183ba1dc3ee\")>,\n",
       " <selenium.webdriver.remote.webelement.WebElement (session=\"35a7d34f23578316973a92f9b855de9c\", element=\"ffb6a3fe-3d15-4b82-a2c6-a836b8c881a7\")>,\n",
       " <selenium.webdriver.remote.webelement.WebElement (session=\"35a7d34f23578316973a92f9b855de9c\", element=\"abd8618d-c235-40ff-b50f-92bdef4c0c8f\")>,\n",
       " <selenium.webdriver.remote.webelement.WebElement (session=\"35a7d34f23578316973a92f9b855de9c\", element=\"6fddcb06-17b7-4fbd-a3c4-5dc2978fa48c\")>,\n",
       " <selenium.webdriver.remote.webelement.WebElement (session=\"35a7d34f23578316973a92f9b855de9c\", element=\"e1051e06-e7b6-42a9-a219-2f27a61c39db\")>,\n",
       " <selenium.webdriver.remote.webelement.WebElement (session=\"35a7d34f23578316973a92f9b855de9c\", element=\"fc36e1ad-147f-444c-802d-241fa8ed5fe7\")>,\n",
       " <selenium.webdriver.remote.webelement.WebElement (session=\"35a7d34f23578316973a92f9b855de9c\", element=\"1ded82b8-5696-4791-93f6-725abfdddc0e\")>,\n",
       " <selenium.webdriver.remote.webelement.WebElement (session=\"35a7d34f23578316973a92f9b855de9c\", element=\"95dcf995-117b-44b8-b6aa-ff7a5b056d0c\")>,\n",
       " <selenium.webdriver.remote.webelement.WebElement (session=\"35a7d34f23578316973a92f9b855de9c\", element=\"3621e387-862b-4af8-adc8-611077447aaa\")>,\n",
       " <selenium.webdriver.remote.webelement.WebElement (session=\"35a7d34f23578316973a92f9b855de9c\", element=\"f61f13d4-3d5c-4275-88ef-5b94bdcbdede\")>,\n",
       " <selenium.webdriver.remote.webelement.WebElement (session=\"35a7d34f23578316973a92f9b855de9c\", element=\"5ce53c93-b322-4b7a-ad0d-34a53ba96c5a\")>,\n",
       " <selenium.webdriver.remote.webelement.WebElement (session=\"35a7d34f23578316973a92f9b855de9c\", element=\"d020488b-9676-4894-abeb-6b2d67bb1e13\")>,\n",
       " <selenium.webdriver.remote.webelement.WebElement (session=\"35a7d34f23578316973a92f9b855de9c\", element=\"6d19b8d6-5a21-4a96-b820-395f1fcf855f\")>,\n",
       " <selenium.webdriver.remote.webelement.WebElement (session=\"35a7d34f23578316973a92f9b855de9c\", element=\"b90ff2e3-4f01-4cef-aede-05fc07add49c\")>,\n",
       " <selenium.webdriver.remote.webelement.WebElement (session=\"35a7d34f23578316973a92f9b855de9c\", element=\"d3a62f39-bbc8-4319-8204-2850aac3057e\")>,\n",
       " <selenium.webdriver.remote.webelement.WebElement (session=\"35a7d34f23578316973a92f9b855de9c\", element=\"dddf020d-064e-4e36-a606-3ceb7cf8e004\")>,\n",
       " <selenium.webdriver.remote.webelement.WebElement (session=\"35a7d34f23578316973a92f9b855de9c\", element=\"a3417256-5c97-4968-9271-e11de9896b4f\")>,\n",
       " <selenium.webdriver.remote.webelement.WebElement (session=\"35a7d34f23578316973a92f9b855de9c\", element=\"66013e6f-7135-46df-9755-c003316e9148\")>,\n",
       " <selenium.webdriver.remote.webelement.WebElement (session=\"35a7d34f23578316973a92f9b855de9c\", element=\"ab4ec020-1845-4619-821e-cafce476351e\")>]"
      ]
     },
     "execution_count": 196,
     "metadata": {},
     "output_type": "execute_result"
    }
   ],
   "source": [
    "location=driver.find_elements_by_xpath(\"//li[@class='fleft grey-text br2 placeHolderLi location']/span\")\n",
    "location "
   ]
  },
  {
   "cell_type": "code",
   "execution_count": 197,
   "id": "271822ed",
   "metadata": {},
   "outputs": [
    {
     "data": {
      "text/plain": [
       "['Bangalore/Bengaluru',\n",
       " 'Bengaluru/Bangalore',\n",
       " 'Bangalore/Bengaluru',\n",
       " 'Bengaluru/Bangalore',\n",
       " 'Bengaluru/Bangalore',\n",
       " 'Bengaluru/Bangalore',\n",
       " 'Bangalore/Bengaluru',\n",
       " 'Bangalore/Bengaluru',\n",
       " 'Bangalore/Bengaluru, Delhi / NCR, Mumbai (All Areas)',\n",
       " '(WFH during Covid)']"
      ]
     },
     "execution_count": 197,
     "metadata": {},
     "output_type": "execute_result"
    }
   ],
   "source": [
    "for i in location:\n",
    "    job_location.append(i.text)\n",
    "job_location[0:10]    "
   ]
  },
  {
   "cell_type": "code",
   "execution_count": 198,
   "id": "a98deae4",
   "metadata": {},
   "outputs": [
    {
     "data": {
      "text/plain": [
       "[<selenium.webdriver.remote.webelement.WebElement (session=\"35a7d34f23578316973a92f9b855de9c\", element=\"7fa03441-53a3-408a-949d-b73744844495\")>,\n",
       " <selenium.webdriver.remote.webelement.WebElement (session=\"35a7d34f23578316973a92f9b855de9c\", element=\"c8e9be43-4102-471c-a21a-01f16b6e2c00\")>,\n",
       " <selenium.webdriver.remote.webelement.WebElement (session=\"35a7d34f23578316973a92f9b855de9c\", element=\"a59c3402-7e0c-443a-b77a-196f5b756e66\")>,\n",
       " <selenium.webdriver.remote.webelement.WebElement (session=\"35a7d34f23578316973a92f9b855de9c\", element=\"88aa3eda-1f7f-4875-8230-e93000e8f595\")>,\n",
       " <selenium.webdriver.remote.webelement.WebElement (session=\"35a7d34f23578316973a92f9b855de9c\", element=\"ed7ce885-4fa1-4081-8fbb-f2d5ee51ee54\")>,\n",
       " <selenium.webdriver.remote.webelement.WebElement (session=\"35a7d34f23578316973a92f9b855de9c\", element=\"d8d303ee-52ca-44e5-aff0-ac65b00d9ee3\")>,\n",
       " <selenium.webdriver.remote.webelement.WebElement (session=\"35a7d34f23578316973a92f9b855de9c\", element=\"9b4bf31d-84ad-4022-ad02-135a161d628b\")>,\n",
       " <selenium.webdriver.remote.webelement.WebElement (session=\"35a7d34f23578316973a92f9b855de9c\", element=\"97d00336-e7c3-43ca-9edf-6f4012084952\")>,\n",
       " <selenium.webdriver.remote.webelement.WebElement (session=\"35a7d34f23578316973a92f9b855de9c\", element=\"228ee7a3-107a-4a9f-a7a2-799dd9192460\")>,\n",
       " <selenium.webdriver.remote.webelement.WebElement (session=\"35a7d34f23578316973a92f9b855de9c\", element=\"6b51d7e8-cb2c-4ab5-a9df-b81da4975b97\")>,\n",
       " <selenium.webdriver.remote.webelement.WebElement (session=\"35a7d34f23578316973a92f9b855de9c\", element=\"c0012c18-74ec-4aea-8771-6f0e12651326\")>,\n",
       " <selenium.webdriver.remote.webelement.WebElement (session=\"35a7d34f23578316973a92f9b855de9c\", element=\"9880e2c2-6a98-468e-8a3c-33dadf8765dd\")>,\n",
       " <selenium.webdriver.remote.webelement.WebElement (session=\"35a7d34f23578316973a92f9b855de9c\", element=\"607d8265-8032-428c-823b-85c074ebd722\")>,\n",
       " <selenium.webdriver.remote.webelement.WebElement (session=\"35a7d34f23578316973a92f9b855de9c\", element=\"133811c9-33b0-4fa7-ac9e-509215e17724\")>,\n",
       " <selenium.webdriver.remote.webelement.WebElement (session=\"35a7d34f23578316973a92f9b855de9c\", element=\"94c5dc2f-bf2a-4ccb-851e-7c8efa9e0ca2\")>,\n",
       " <selenium.webdriver.remote.webelement.WebElement (session=\"35a7d34f23578316973a92f9b855de9c\", element=\"3ae46da1-2e90-410a-8b7c-b2fdd8f368bc\")>,\n",
       " <selenium.webdriver.remote.webelement.WebElement (session=\"35a7d34f23578316973a92f9b855de9c\", element=\"e707cd2a-83d5-44f3-8d23-58fb60f4853f\")>,\n",
       " <selenium.webdriver.remote.webelement.WebElement (session=\"35a7d34f23578316973a92f9b855de9c\", element=\"2bcb332a-6610-4d23-a167-b0b47c8e1711\")>,\n",
       " <selenium.webdriver.remote.webelement.WebElement (session=\"35a7d34f23578316973a92f9b855de9c\", element=\"268b969c-44f5-465a-93e7-63e4604a3ba3\")>,\n",
       " <selenium.webdriver.remote.webelement.WebElement (session=\"35a7d34f23578316973a92f9b855de9c\", element=\"cddf32b7-3f24-454d-b07b-6ad55c2ceb60\")>]"
      ]
     },
     "execution_count": 198,
     "metadata": {},
     "output_type": "execute_result"
    }
   ],
   "source": [
    "company=driver.find_elements_by_xpath(\"//a[@class='subTitle ellipsis fleft']\")\n",
    "company"
   ]
  },
  {
   "cell_type": "code",
   "execution_count": 199,
   "id": "8758e50f",
   "metadata": {},
   "outputs": [
    {
     "data": {
      "text/plain": [
       "['Fractal Analytics',\n",
       " 'IBM',\n",
       " 'IBM',\n",
       " 'IBM',\n",
       " 'IBM',\n",
       " 'IBM',\n",
       " 'Fractal Analytics',\n",
       " \"HUDSON'S BAY SERVICES PRIVATE LIMITED\",\n",
       " 'TransOrg Solutions Services (P) Ltd.',\n",
       " 'Walmart']"
      ]
     },
     "execution_count": 199,
     "metadata": {},
     "output_type": "execute_result"
    }
   ],
   "source": [
    "for i in company:\n",
    "    company_name.append(i.text)\n",
    "company_name[0:10]"
   ]
  },
  {
   "cell_type": "code",
   "execution_count": 200,
   "id": "e6e740b4",
   "metadata": {},
   "outputs": [
    {
     "data": {
      "text/plain": [
       "[<selenium.webdriver.remote.webelement.WebElement (session=\"35a7d34f23578316973a92f9b855de9c\", element=\"36eabc49-b399-4fdc-af75-64f9f5e621d9\")>,\n",
       " <selenium.webdriver.remote.webelement.WebElement (session=\"35a7d34f23578316973a92f9b855de9c\", element=\"1f9047fc-c7a7-49d2-8d41-d41fb989fe25\")>,\n",
       " <selenium.webdriver.remote.webelement.WebElement (session=\"35a7d34f23578316973a92f9b855de9c\", element=\"6a9f8cfe-ae93-4241-9370-46049ba6dfbd\")>,\n",
       " <selenium.webdriver.remote.webelement.WebElement (session=\"35a7d34f23578316973a92f9b855de9c\", element=\"cb442585-2571-4e46-9ce9-ed9f8610a769\")>,\n",
       " <selenium.webdriver.remote.webelement.WebElement (session=\"35a7d34f23578316973a92f9b855de9c\", element=\"98270f70-c6f8-4bd1-b66e-479ccd18607b\")>,\n",
       " <selenium.webdriver.remote.webelement.WebElement (session=\"35a7d34f23578316973a92f9b855de9c\", element=\"e05394c6-3ae7-424a-a37b-4ac9697ec4a1\")>,\n",
       " <selenium.webdriver.remote.webelement.WebElement (session=\"35a7d34f23578316973a92f9b855de9c\", element=\"64d55b5b-060e-4f1a-93ef-58d4e10ea347\")>,\n",
       " <selenium.webdriver.remote.webelement.WebElement (session=\"35a7d34f23578316973a92f9b855de9c\", element=\"75ce00e4-81a7-4407-8837-80d004791534\")>,\n",
       " <selenium.webdriver.remote.webelement.WebElement (session=\"35a7d34f23578316973a92f9b855de9c\", element=\"0bb0de8b-cb91-418c-b420-24cf3e3a0c05\")>,\n",
       " <selenium.webdriver.remote.webelement.WebElement (session=\"35a7d34f23578316973a92f9b855de9c\", element=\"9f23e91b-dba5-4d72-a085-654bfcbfbaa9\")>,\n",
       " <selenium.webdriver.remote.webelement.WebElement (session=\"35a7d34f23578316973a92f9b855de9c\", element=\"22ac3d9d-6c3e-4c67-a5bd-da9b03eb845b\")>,\n",
       " <selenium.webdriver.remote.webelement.WebElement (session=\"35a7d34f23578316973a92f9b855de9c\", element=\"97971593-9e11-4b3d-b93a-7eb37bb25688\")>,\n",
       " <selenium.webdriver.remote.webelement.WebElement (session=\"35a7d34f23578316973a92f9b855de9c\", element=\"cdc58407-c3bd-44f4-86c5-0dcbfd9bb42e\")>,\n",
       " <selenium.webdriver.remote.webelement.WebElement (session=\"35a7d34f23578316973a92f9b855de9c\", element=\"5bdcf3c5-6920-4128-8641-1c18615784f6\")>,\n",
       " <selenium.webdriver.remote.webelement.WebElement (session=\"35a7d34f23578316973a92f9b855de9c\", element=\"28b46474-cafd-4856-a216-7d0df87b610c\")>,\n",
       " <selenium.webdriver.remote.webelement.WebElement (session=\"35a7d34f23578316973a92f9b855de9c\", element=\"89c9ff9d-72b8-4c3e-987b-0d422e21bede\")>,\n",
       " <selenium.webdriver.remote.webelement.WebElement (session=\"35a7d34f23578316973a92f9b855de9c\", element=\"b3c8e68b-d9ac-4f26-ac8d-5fd00c9b55c8\")>,\n",
       " <selenium.webdriver.remote.webelement.WebElement (session=\"35a7d34f23578316973a92f9b855de9c\", element=\"7e0a9799-ec26-4172-a3f6-95475f83c3f3\")>,\n",
       " <selenium.webdriver.remote.webelement.WebElement (session=\"35a7d34f23578316973a92f9b855de9c\", element=\"1f7a8e92-9cbe-4728-9732-3e9141e16ece\")>,\n",
       " <selenium.webdriver.remote.webelement.WebElement (session=\"35a7d34f23578316973a92f9b855de9c\", element=\"51205cb9-bcdb-4fcb-a009-b521a2d4ddc2\")>]"
      ]
     },
     "execution_count": 200,
     "metadata": {},
     "output_type": "execute_result"
    }
   ],
   "source": [
    "experience=driver.find_elements_by_xpath('//li[@class=\"fleft grey-text br2 placeHolderLi experience\"]')\n",
    "experience"
   ]
  },
  {
   "cell_type": "code",
   "execution_count": 201,
   "id": "22c96f80",
   "metadata": {},
   "outputs": [
    {
     "data": {
      "text/plain": [
       "['5-10 Yrs',\n",
       " '5-7 Yrs',\n",
       " '10-12 Yrs',\n",
       " '11-12 Yrs',\n",
       " '11-12 Yrs',\n",
       " '11-12 Yrs',\n",
       " '3-7 Yrs',\n",
       " '4-9 Yrs',\n",
       " '4-9 Yrs',\n",
       " '5-10 Yrs']"
      ]
     },
     "execution_count": 201,
     "metadata": {},
     "output_type": "execute_result"
    }
   ],
   "source": [
    "for i in experience:\n",
    "    experience_required.append(i.text)\n",
    "experience_required[0:10]   "
   ]
  },
  {
   "cell_type": "code",
   "execution_count": 202,
   "id": "9f53d263",
   "metadata": {},
   "outputs": [
    {
     "data": {
      "text/html": [
       "<div>\n",
       "<style scoped>\n",
       "    .dataframe tbody tr th:only-of-type {\n",
       "        vertical-align: middle;\n",
       "    }\n",
       "\n",
       "    .dataframe tbody tr th {\n",
       "        vertical-align: top;\n",
       "    }\n",
       "\n",
       "    .dataframe thead th {\n",
       "        text-align: right;\n",
       "    }\n",
       "</style>\n",
       "<table border=\"1\" class=\"dataframe\">\n",
       "  <thead>\n",
       "    <tr style=\"text-align: right;\">\n",
       "      <th></th>\n",
       "      <th>Job Titles</th>\n",
       "      <th>Job Location</th>\n",
       "      <th>Company Name</th>\n",
       "      <th>Experience Required</th>\n",
       "    </tr>\n",
       "  </thead>\n",
       "  <tbody>\n",
       "    <tr>\n",
       "      <th>0</th>\n",
       "      <td>Senior Data Scientist</td>\n",
       "      <td>Bangalore/Bengaluru</td>\n",
       "      <td>Fractal Analytics</td>\n",
       "      <td>5-10 Yrs</td>\n",
       "    </tr>\n",
       "    <tr>\n",
       "      <th>1</th>\n",
       "      <td>Data Scientist: Advanced Analytics</td>\n",
       "      <td>Bengaluru/Bangalore</td>\n",
       "      <td>IBM</td>\n",
       "      <td>5-7 Yrs</td>\n",
       "    </tr>\n",
       "    <tr>\n",
       "      <th>2</th>\n",
       "      <td>Data Scientist: Artificial Intelligence</td>\n",
       "      <td>Bangalore/Bengaluru</td>\n",
       "      <td>IBM</td>\n",
       "      <td>10-12 Yrs</td>\n",
       "    </tr>\n",
       "    <tr>\n",
       "      <th>3</th>\n",
       "      <td>Data Scientist: Artificial Intelligence</td>\n",
       "      <td>Bengaluru/Bangalore</td>\n",
       "      <td>IBM</td>\n",
       "      <td>11-12 Yrs</td>\n",
       "    </tr>\n",
       "    <tr>\n",
       "      <th>4</th>\n",
       "      <td>Data Scientist: Artificial Intelligence</td>\n",
       "      <td>Bengaluru/Bangalore</td>\n",
       "      <td>IBM</td>\n",
       "      <td>11-12 Yrs</td>\n",
       "    </tr>\n",
       "    <tr>\n",
       "      <th>5</th>\n",
       "      <td>Data Scientist: Artificial Intelligence</td>\n",
       "      <td>Bengaluru/Bangalore</td>\n",
       "      <td>IBM</td>\n",
       "      <td>11-12 Yrs</td>\n",
       "    </tr>\n",
       "    <tr>\n",
       "      <th>6</th>\n",
       "      <td>Data Scientist, Machine Learning (AIML)</td>\n",
       "      <td>Bangalore/Bengaluru</td>\n",
       "      <td>Fractal Analytics</td>\n",
       "      <td>3-7 Yrs</td>\n",
       "    </tr>\n",
       "    <tr>\n",
       "      <th>7</th>\n",
       "      <td>Sr. Data Scientist</td>\n",
       "      <td>Bangalore/Bengaluru</td>\n",
       "      <td>HUDSON'S BAY SERVICES PRIVATE LIMITED</td>\n",
       "      <td>4-9 Yrs</td>\n",
       "    </tr>\n",
       "    <tr>\n",
       "      <th>8</th>\n",
       "      <td>Lead Data Scientist</td>\n",
       "      <td>Bangalore/Bengaluru, Delhi / NCR, Mumbai (All ...</td>\n",
       "      <td>TransOrg Solutions Services (P) Ltd.</td>\n",
       "      <td>4-9 Yrs</td>\n",
       "    </tr>\n",
       "    <tr>\n",
       "      <th>9</th>\n",
       "      <td>Senior Data Scientist</td>\n",
       "      <td>(WFH during Covid)</td>\n",
       "      <td>Walmart</td>\n",
       "      <td>5-10 Yrs</td>\n",
       "    </tr>\n",
       "  </tbody>\n",
       "</table>\n",
       "</div>"
      ],
      "text/plain": [
       "                                Job Titles  \\\n",
       "0                    Senior Data Scientist   \n",
       "1       Data Scientist: Advanced Analytics   \n",
       "2  Data Scientist: Artificial Intelligence   \n",
       "3  Data Scientist: Artificial Intelligence   \n",
       "4  Data Scientist: Artificial Intelligence   \n",
       "5  Data Scientist: Artificial Intelligence   \n",
       "6  Data Scientist, Machine Learning (AIML)   \n",
       "7                       Sr. Data Scientist   \n",
       "8                      Lead Data Scientist   \n",
       "9                    Senior Data Scientist   \n",
       "\n",
       "                                        Job Location  \\\n",
       "0                                Bangalore/Bengaluru   \n",
       "1                                Bengaluru/Bangalore   \n",
       "2                                Bangalore/Bengaluru   \n",
       "3                                Bengaluru/Bangalore   \n",
       "4                                Bengaluru/Bangalore   \n",
       "5                                Bengaluru/Bangalore   \n",
       "6                                Bangalore/Bengaluru   \n",
       "7                                Bangalore/Bengaluru   \n",
       "8  Bangalore/Bengaluru, Delhi / NCR, Mumbai (All ...   \n",
       "9                                 (WFH during Covid)   \n",
       "\n",
       "                            Company Name Experience Required  \n",
       "0                      Fractal Analytics            5-10 Yrs  \n",
       "1                                    IBM             5-7 Yrs  \n",
       "2                                    IBM           10-12 Yrs  \n",
       "3                                    IBM           11-12 Yrs  \n",
       "4                                    IBM           11-12 Yrs  \n",
       "5                                    IBM           11-12 Yrs  \n",
       "6                      Fractal Analytics             3-7 Yrs  \n",
       "7  HUDSON'S BAY SERVICES PRIVATE LIMITED             4-9 Yrs  \n",
       "8   TransOrg Solutions Services (P) Ltd.             4-9 Yrs  \n",
       "9                                Walmart            5-10 Yrs  "
      ]
     },
     "execution_count": 202,
     "metadata": {},
     "output_type": "execute_result"
    }
   ],
   "source": [
    "df=pd.DataFrame({('Job Titles'):job_titles[0:10],('Job Location'):job_location[0:10],('Company Name'):company_name[0:10],('Experience Required'):experience_required[0:10]})\n",
    "df"
   ]
  },
  {
   "cell_type": "code",
   "execution_count": 203,
   "id": "f6f0cfad",
   "metadata": {},
   "outputs": [],
   "source": [
    "driver.close()"
   ]
  },
  {
   "cell_type": "code",
   "execution_count": 204,
   "id": "23c2d009",
   "metadata": {},
   "outputs": [],
   "source": [
    "#Q3: In this question you have to scrape data using the filters available on the webpage as shown below: \n",
    "#You have to use the location and salary filter. \n",
    "#You have to scrape data for “Data Scientist” designation for first 10 job results. \n",
    "#You have to scrape the job-title, job-location, company name, experience required.\n",
    "#The location filter to be used is “Delhi/NCR”. The salary filter to be used is “3-6” lakhs "
   ]
  },
  {
   "cell_type": "code",
   "execution_count": 205,
   "id": "492c2996",
   "metadata": {},
   "outputs": [],
   "source": [
    "#connecting web driver to the installed libaray\n",
    "driver = webdriver.Chrome(\"C:/Users/Ankit anand/selenium/chromedriver.exe\")\n",
    "#commanding driver to open the url\n",
    "driver.get('https://www.naukri.com/')\n",
    "#commanding driver to wait for 5 sec \n",
    "time.sleep(5)\n",
    "#selecting diloague box to fill that with location & skills  \n",
    "skill=driver.find_element_by_class_name('suggestor-input') \n",
    "skill.send_keys('Data Scientist')\n",
    "#clickin on th search button\n",
    "buton=driver.find_element_by_class_name('qsbSubmit')\n",
    "buton.click()\n",
    "time.sleep(5)"
   ]
  },
  {
   "cell_type": "code",
   "execution_count": 206,
   "id": "260aaf97",
   "metadata": {},
   "outputs": [],
   "source": [
    "# clicking on the checkbox\n",
    "clicks=driver.find_element_by_xpath(\"/html/body/div[1]/div[3]/div[2]/section[1]/div[2]/div[4]/div[2]/div[3]/label/i\")\n",
    "clicks.click()\n",
    "time.sleep(5)"
   ]
  },
  {
   "cell_type": "code",
   "execution_count": 207,
   "id": "82f2e478",
   "metadata": {},
   "outputs": [],
   "source": [
    "# clicking on th exprience checkbox\n",
    "exp=driver.find_element_by_xpath(\"/html/body/div[1]/div[3]/div[2]/section[1]/div[2]/div[5]/div[2]/div[2]/label/i\")\n",
    "exp.click()\n",
    "time.sleep(5)"
   ]
  },
  {
   "cell_type": "code",
   "execution_count": 208,
   "id": "6eacf309",
   "metadata": {},
   "outputs": [
    {
     "data": {
      "text/plain": [
       "[<selenium.webdriver.remote.webelement.WebElement (session=\"51cd6a35d39dacddc29d5ca3d5696502\", element=\"d266d5e5-ba15-4a73-851f-0bab4242c023\")>,\n",
       " <selenium.webdriver.remote.webelement.WebElement (session=\"51cd6a35d39dacddc29d5ca3d5696502\", element=\"75811b92-b156-4b51-97d7-5c64596ff16d\")>,\n",
       " <selenium.webdriver.remote.webelement.WebElement (session=\"51cd6a35d39dacddc29d5ca3d5696502\", element=\"f660e195-83c7-4e99-8f30-292d0a0a9b79\")>,\n",
       " <selenium.webdriver.remote.webelement.WebElement (session=\"51cd6a35d39dacddc29d5ca3d5696502\", element=\"dd3c20c7-0aa8-4cf3-8278-85cefc92d31a\")>,\n",
       " <selenium.webdriver.remote.webelement.WebElement (session=\"51cd6a35d39dacddc29d5ca3d5696502\", element=\"2da583f2-c2c9-4de1-93f3-89e413285640\")>,\n",
       " <selenium.webdriver.remote.webelement.WebElement (session=\"51cd6a35d39dacddc29d5ca3d5696502\", element=\"e9fba1ac-9729-4abe-82f4-55bfdbbbb91f\")>,\n",
       " <selenium.webdriver.remote.webelement.WebElement (session=\"51cd6a35d39dacddc29d5ca3d5696502\", element=\"bf08aa8a-dc16-4d1d-9123-22a164f83d3a\")>,\n",
       " <selenium.webdriver.remote.webelement.WebElement (session=\"51cd6a35d39dacddc29d5ca3d5696502\", element=\"37d70c31-78d9-4fdc-8784-6026463465a1\")>,\n",
       " <selenium.webdriver.remote.webelement.WebElement (session=\"51cd6a35d39dacddc29d5ca3d5696502\", element=\"9c46d89d-8318-44f1-a152-f4054c20409a\")>,\n",
       " <selenium.webdriver.remote.webelement.WebElement (session=\"51cd6a35d39dacddc29d5ca3d5696502\", element=\"b8378d56-a0fd-4621-bae9-dd7a0f87af07\")>,\n",
       " <selenium.webdriver.remote.webelement.WebElement (session=\"51cd6a35d39dacddc29d5ca3d5696502\", element=\"6a8c4f8a-4726-4c1d-856f-a557e3685018\")>,\n",
       " <selenium.webdriver.remote.webelement.WebElement (session=\"51cd6a35d39dacddc29d5ca3d5696502\", element=\"dd3c1a8e-b305-4155-a7db-48ef064fd6e5\")>,\n",
       " <selenium.webdriver.remote.webelement.WebElement (session=\"51cd6a35d39dacddc29d5ca3d5696502\", element=\"dff8dc87-caf8-4207-a3c7-04bedf5be4e7\")>,\n",
       " <selenium.webdriver.remote.webelement.WebElement (session=\"51cd6a35d39dacddc29d5ca3d5696502\", element=\"b2fd6de9-c19d-483c-ae9f-0d837bd4a731\")>,\n",
       " <selenium.webdriver.remote.webelement.WebElement (session=\"51cd6a35d39dacddc29d5ca3d5696502\", element=\"ba00531d-0e43-4d5a-b0c2-1cad8ea38202\")>,\n",
       " <selenium.webdriver.remote.webelement.WebElement (session=\"51cd6a35d39dacddc29d5ca3d5696502\", element=\"2e83c36e-1b18-4cfb-9559-f6e4d25a575a\")>,\n",
       " <selenium.webdriver.remote.webelement.WebElement (session=\"51cd6a35d39dacddc29d5ca3d5696502\", element=\"4761d7b8-2a43-403d-a48f-1b28a45e1ace\")>,\n",
       " <selenium.webdriver.remote.webelement.WebElement (session=\"51cd6a35d39dacddc29d5ca3d5696502\", element=\"3354dd54-289a-4650-87b6-7db144f60849\")>,\n",
       " <selenium.webdriver.remote.webelement.WebElement (session=\"51cd6a35d39dacddc29d5ca3d5696502\", element=\"d12428a0-de1c-4fee-8dee-fe2e1a7a970b\")>,\n",
       " <selenium.webdriver.remote.webelement.WebElement (session=\"51cd6a35d39dacddc29d5ca3d5696502\", element=\"46b0c90a-e2be-4ae3-8697-542ac0a15b6f\")>]"
      ]
     },
     "execution_count": 208,
     "metadata": {},
     "output_type": "execute_result"
    }
   ],
   "source": [
    "#creating list of which data going in scrapped\n",
    "job_titles=[]\n",
    "job_location=[]\n",
    "company_name=[]\n",
    "experience_required=[]\n",
    "#scrape job-titles form naukari.com\n",
    "title=driver.find_elements_by_xpath(\"//a[@class='title fw500 ellipsis']\")\n",
    "title"
   ]
  },
  {
   "cell_type": "code",
   "execution_count": 209,
   "id": "637af812",
   "metadata": {},
   "outputs": [],
   "source": [
    "# creating loop in order tp create a series\n",
    "for i in title:\n",
    "    job_titles.append(i.text)"
   ]
  },
  {
   "cell_type": "code",
   "execution_count": 210,
   "id": "87d76e01",
   "metadata": {},
   "outputs": [
    {
     "data": {
      "text/plain": [
       "[<selenium.webdriver.remote.webelement.WebElement (session=\"51cd6a35d39dacddc29d5ca3d5696502\", element=\"4bd36f39-146e-4a3e-acfe-5578a22a4c9d\")>,\n",
       " <selenium.webdriver.remote.webelement.WebElement (session=\"51cd6a35d39dacddc29d5ca3d5696502\", element=\"5f56a58e-9b9e-4e63-b621-72bb3bd3fb75\")>,\n",
       " <selenium.webdriver.remote.webelement.WebElement (session=\"51cd6a35d39dacddc29d5ca3d5696502\", element=\"9f4db39e-3d87-4a51-8231-24710de8363d\")>,\n",
       " <selenium.webdriver.remote.webelement.WebElement (session=\"51cd6a35d39dacddc29d5ca3d5696502\", element=\"87049e5a-ea8c-42f6-92a9-53f23156bdeb\")>,\n",
       " <selenium.webdriver.remote.webelement.WebElement (session=\"51cd6a35d39dacddc29d5ca3d5696502\", element=\"516a59d6-03ed-4a0c-8800-ee4dfc4bfb5a\")>,\n",
       " <selenium.webdriver.remote.webelement.WebElement (session=\"51cd6a35d39dacddc29d5ca3d5696502\", element=\"27be6955-fb69-4162-8ab6-b9e0390471b5\")>,\n",
       " <selenium.webdriver.remote.webelement.WebElement (session=\"51cd6a35d39dacddc29d5ca3d5696502\", element=\"527ed82b-2365-4474-9d79-6d229d204809\")>,\n",
       " <selenium.webdriver.remote.webelement.WebElement (session=\"51cd6a35d39dacddc29d5ca3d5696502\", element=\"597b9d90-2e3d-4204-bc56-91661d28df94\")>,\n",
       " <selenium.webdriver.remote.webelement.WebElement (session=\"51cd6a35d39dacddc29d5ca3d5696502\", element=\"a3d5e637-af67-4e03-8bf3-8664bd10b4b1\")>,\n",
       " <selenium.webdriver.remote.webelement.WebElement (session=\"51cd6a35d39dacddc29d5ca3d5696502\", element=\"4f9ba8fd-260d-485e-b4ad-16467ec5b40e\")>,\n",
       " <selenium.webdriver.remote.webelement.WebElement (session=\"51cd6a35d39dacddc29d5ca3d5696502\", element=\"d7e54c13-1e4e-44b0-9d72-0b0fda0989e0\")>,\n",
       " <selenium.webdriver.remote.webelement.WebElement (session=\"51cd6a35d39dacddc29d5ca3d5696502\", element=\"972bf07e-8522-4c20-913b-3e425893ba16\")>,\n",
       " <selenium.webdriver.remote.webelement.WebElement (session=\"51cd6a35d39dacddc29d5ca3d5696502\", element=\"ffb8237e-7f83-4606-9060-76357a1c45af\")>,\n",
       " <selenium.webdriver.remote.webelement.WebElement (session=\"51cd6a35d39dacddc29d5ca3d5696502\", element=\"129ed3eb-0f08-4bc0-a7ef-9db56fb841ad\")>,\n",
       " <selenium.webdriver.remote.webelement.WebElement (session=\"51cd6a35d39dacddc29d5ca3d5696502\", element=\"dbe1bbf4-d742-48cd-afe2-8f907e0b1ed2\")>,\n",
       " <selenium.webdriver.remote.webelement.WebElement (session=\"51cd6a35d39dacddc29d5ca3d5696502\", element=\"81934af3-2be1-4a96-97a1-a5513c46732c\")>,\n",
       " <selenium.webdriver.remote.webelement.WebElement (session=\"51cd6a35d39dacddc29d5ca3d5696502\", element=\"1a570f0b-8d08-487c-a0e2-dbb11afaf8d1\")>,\n",
       " <selenium.webdriver.remote.webelement.WebElement (session=\"51cd6a35d39dacddc29d5ca3d5696502\", element=\"909ed745-7050-4157-9899-ed6e8e6fb860\")>,\n",
       " <selenium.webdriver.remote.webelement.WebElement (session=\"51cd6a35d39dacddc29d5ca3d5696502\", element=\"b5abce4e-e1fd-4ff1-a660-a0dad6d75b3f\")>,\n",
       " <selenium.webdriver.remote.webelement.WebElement (session=\"51cd6a35d39dacddc29d5ca3d5696502\", element=\"d0fed091-bec2-4223-8a52-5c5487de77ab\")>]"
      ]
     },
     "execution_count": 210,
     "metadata": {},
     "output_type": "execute_result"
    }
   ],
   "source": [
    "location=driver.find_elements_by_xpath(\"//li[@class='fleft grey-text br2 placeHolderLi location']/span\")\n",
    "location "
   ]
  },
  {
   "cell_type": "code",
   "execution_count": 211,
   "id": "accd40b6",
   "metadata": {},
   "outputs": [],
   "source": [
    "for i in location:\n",
    "    job_location.append(i.text) "
   ]
  },
  {
   "cell_type": "code",
   "execution_count": 212,
   "id": "ffbe9cfa",
   "metadata": {},
   "outputs": [
    {
     "data": {
      "text/plain": [
       "[<selenium.webdriver.remote.webelement.WebElement (session=\"51cd6a35d39dacddc29d5ca3d5696502\", element=\"d2ce15ff-1581-448a-a778-5f08f6c727d6\")>,\n",
       " <selenium.webdriver.remote.webelement.WebElement (session=\"51cd6a35d39dacddc29d5ca3d5696502\", element=\"cc30970e-aa55-45c0-8cb4-d45f4ef001ed\")>,\n",
       " <selenium.webdriver.remote.webelement.WebElement (session=\"51cd6a35d39dacddc29d5ca3d5696502\", element=\"92b998ca-b9f4-42b1-9e87-f20d105c4b5e\")>,\n",
       " <selenium.webdriver.remote.webelement.WebElement (session=\"51cd6a35d39dacddc29d5ca3d5696502\", element=\"b69e87a3-1709-44dd-9ad8-8e4179ab7a28\")>,\n",
       " <selenium.webdriver.remote.webelement.WebElement (session=\"51cd6a35d39dacddc29d5ca3d5696502\", element=\"9e54f84d-5086-43a7-93b5-205e90160275\")>,\n",
       " <selenium.webdriver.remote.webelement.WebElement (session=\"51cd6a35d39dacddc29d5ca3d5696502\", element=\"11e9c2e6-e57b-4aa2-bef6-fe5db5dc4f61\")>,\n",
       " <selenium.webdriver.remote.webelement.WebElement (session=\"51cd6a35d39dacddc29d5ca3d5696502\", element=\"768bedbc-c1d9-419b-bdde-e233831c2fdf\")>,\n",
       " <selenium.webdriver.remote.webelement.WebElement (session=\"51cd6a35d39dacddc29d5ca3d5696502\", element=\"c14d2a95-c763-4863-bd0f-6f1faf642a11\")>,\n",
       " <selenium.webdriver.remote.webelement.WebElement (session=\"51cd6a35d39dacddc29d5ca3d5696502\", element=\"095e38b5-bcb1-424c-b509-144d42a47573\")>,\n",
       " <selenium.webdriver.remote.webelement.WebElement (session=\"51cd6a35d39dacddc29d5ca3d5696502\", element=\"e8663986-e688-4bc0-9831-0333445c0d52\")>,\n",
       " <selenium.webdriver.remote.webelement.WebElement (session=\"51cd6a35d39dacddc29d5ca3d5696502\", element=\"184aca9e-b8ec-4a18-a2fe-2a13bae37837\")>,\n",
       " <selenium.webdriver.remote.webelement.WebElement (session=\"51cd6a35d39dacddc29d5ca3d5696502\", element=\"53e2ba32-2333-4dc3-a38f-65deef7e3ba6\")>,\n",
       " <selenium.webdriver.remote.webelement.WebElement (session=\"51cd6a35d39dacddc29d5ca3d5696502\", element=\"8dc0dfb1-64ed-4735-867d-b0e870cf5bc9\")>,\n",
       " <selenium.webdriver.remote.webelement.WebElement (session=\"51cd6a35d39dacddc29d5ca3d5696502\", element=\"a302698f-712c-4b39-83a5-fb5bff4bd530\")>,\n",
       " <selenium.webdriver.remote.webelement.WebElement (session=\"51cd6a35d39dacddc29d5ca3d5696502\", element=\"b6dfa21a-9bd4-4647-b93c-b9bb168b31fc\")>,\n",
       " <selenium.webdriver.remote.webelement.WebElement (session=\"51cd6a35d39dacddc29d5ca3d5696502\", element=\"fd78632d-7d15-45e5-a99d-4f65fb86dfcb\")>,\n",
       " <selenium.webdriver.remote.webelement.WebElement (session=\"51cd6a35d39dacddc29d5ca3d5696502\", element=\"a882c6c4-9e6d-4da4-ab67-4e4040abd1c6\")>,\n",
       " <selenium.webdriver.remote.webelement.WebElement (session=\"51cd6a35d39dacddc29d5ca3d5696502\", element=\"575f258d-d6e8-4acb-9208-57413799f7e0\")>,\n",
       " <selenium.webdriver.remote.webelement.WebElement (session=\"51cd6a35d39dacddc29d5ca3d5696502\", element=\"ac9e19c3-cf23-4fdc-805a-f1381713d07b\")>,\n",
       " <selenium.webdriver.remote.webelement.WebElement (session=\"51cd6a35d39dacddc29d5ca3d5696502\", element=\"243b4f83-8c02-44fe-83fe-b013c06c3137\")>]"
      ]
     },
     "execution_count": 212,
     "metadata": {},
     "output_type": "execute_result"
    }
   ],
   "source": [
    "company=driver.find_elements_by_xpath(\"//a[@class='subTitle ellipsis fleft']\")\n",
    "company"
   ]
  },
  {
   "cell_type": "code",
   "execution_count": 213,
   "id": "c9cf56c0",
   "metadata": {},
   "outputs": [],
   "source": [
    "for i in company:\n",
    "    company_name.append(i.text)"
   ]
  },
  {
   "cell_type": "code",
   "execution_count": 214,
   "id": "1fe3eaa4",
   "metadata": {},
   "outputs": [
    {
     "data": {
      "text/plain": [
       "[<selenium.webdriver.remote.webelement.WebElement (session=\"51cd6a35d39dacddc29d5ca3d5696502\", element=\"77cc57d7-778c-4bfe-b736-ab2442cb6a33\")>,\n",
       " <selenium.webdriver.remote.webelement.WebElement (session=\"51cd6a35d39dacddc29d5ca3d5696502\", element=\"8f011dc8-1f47-4215-ad52-b9121e5dd4ac\")>,\n",
       " <selenium.webdriver.remote.webelement.WebElement (session=\"51cd6a35d39dacddc29d5ca3d5696502\", element=\"9bd2655c-36d9-43b7-9d37-4e1c941becf6\")>,\n",
       " <selenium.webdriver.remote.webelement.WebElement (session=\"51cd6a35d39dacddc29d5ca3d5696502\", element=\"2b3e3be5-3a9d-451e-bf83-7d33ac8153ce\")>,\n",
       " <selenium.webdriver.remote.webelement.WebElement (session=\"51cd6a35d39dacddc29d5ca3d5696502\", element=\"ad15271a-54c7-4ce7-bcb8-f4936c000b37\")>,\n",
       " <selenium.webdriver.remote.webelement.WebElement (session=\"51cd6a35d39dacddc29d5ca3d5696502\", element=\"3edd62df-f4fd-49fe-8418-9fce76f38903\")>,\n",
       " <selenium.webdriver.remote.webelement.WebElement (session=\"51cd6a35d39dacddc29d5ca3d5696502\", element=\"cc65a67a-7106-4482-8fe6-724d55f176c3\")>,\n",
       " <selenium.webdriver.remote.webelement.WebElement (session=\"51cd6a35d39dacddc29d5ca3d5696502\", element=\"7ee0393e-3942-491a-ad97-bb1a97d68c59\")>,\n",
       " <selenium.webdriver.remote.webelement.WebElement (session=\"51cd6a35d39dacddc29d5ca3d5696502\", element=\"7cb83a91-3f4d-4dcd-afc6-b31af59954b4\")>,\n",
       " <selenium.webdriver.remote.webelement.WebElement (session=\"51cd6a35d39dacddc29d5ca3d5696502\", element=\"19d7db00-5408-4f38-b8ab-a817f1be9598\")>,\n",
       " <selenium.webdriver.remote.webelement.WebElement (session=\"51cd6a35d39dacddc29d5ca3d5696502\", element=\"d6e847a5-6cb0-45d5-8dac-6c4282080ab9\")>,\n",
       " <selenium.webdriver.remote.webelement.WebElement (session=\"51cd6a35d39dacddc29d5ca3d5696502\", element=\"3900000e-cc2d-4cb7-8cf6-37362b499153\")>,\n",
       " <selenium.webdriver.remote.webelement.WebElement (session=\"51cd6a35d39dacddc29d5ca3d5696502\", element=\"6565f388-eda4-4aac-91ee-70630a10698b\")>,\n",
       " <selenium.webdriver.remote.webelement.WebElement (session=\"51cd6a35d39dacddc29d5ca3d5696502\", element=\"f5bef447-363e-4303-b514-36cb1168c34e\")>,\n",
       " <selenium.webdriver.remote.webelement.WebElement (session=\"51cd6a35d39dacddc29d5ca3d5696502\", element=\"b2cb2490-83f5-4563-81f5-b6e5c8a64bc6\")>,\n",
       " <selenium.webdriver.remote.webelement.WebElement (session=\"51cd6a35d39dacddc29d5ca3d5696502\", element=\"edbd0215-c55b-485d-b5ff-36932bd74d78\")>,\n",
       " <selenium.webdriver.remote.webelement.WebElement (session=\"51cd6a35d39dacddc29d5ca3d5696502\", element=\"b90cd6c0-e6b2-4dfc-a38c-9901499d5a0f\")>,\n",
       " <selenium.webdriver.remote.webelement.WebElement (session=\"51cd6a35d39dacddc29d5ca3d5696502\", element=\"a939b31f-9b0a-4965-8839-1e1a0487f5ea\")>,\n",
       " <selenium.webdriver.remote.webelement.WebElement (session=\"51cd6a35d39dacddc29d5ca3d5696502\", element=\"18610185-dfa6-4dda-8f54-0a71786b7227\")>,\n",
       " <selenium.webdriver.remote.webelement.WebElement (session=\"51cd6a35d39dacddc29d5ca3d5696502\", element=\"1411ff34-8db4-4db6-9c81-c8b6a20a9981\")>]"
      ]
     },
     "execution_count": 214,
     "metadata": {},
     "output_type": "execute_result"
    }
   ],
   "source": [
    "experience=driver.find_elements_by_xpath('//li[@class=\"fleft grey-text br2 placeHolderLi experience\"]')\n",
    "experience"
   ]
  },
  {
   "cell_type": "code",
   "execution_count": 215,
   "id": "ac43785b",
   "metadata": {},
   "outputs": [],
   "source": [
    "for i in experience:\n",
    "    experience_required.append(i.text) "
   ]
  },
  {
   "cell_type": "code",
   "execution_count": 216,
   "id": "5689c769",
   "metadata": {},
   "outputs": [
    {
     "data": {
      "text/html": [
       "<div>\n",
       "<style scoped>\n",
       "    .dataframe tbody tr th:only-of-type {\n",
       "        vertical-align: middle;\n",
       "    }\n",
       "\n",
       "    .dataframe tbody tr th {\n",
       "        vertical-align: top;\n",
       "    }\n",
       "\n",
       "    .dataframe thead th {\n",
       "        text-align: right;\n",
       "    }\n",
       "</style>\n",
       "<table border=\"1\" class=\"dataframe\">\n",
       "  <thead>\n",
       "    <tr style=\"text-align: right;\">\n",
       "      <th></th>\n",
       "      <th>Job Titles</th>\n",
       "      <th>Job Location</th>\n",
       "      <th>Company Name</th>\n",
       "      <th>Experience Required</th>\n",
       "    </tr>\n",
       "  </thead>\n",
       "  <tbody>\n",
       "    <tr>\n",
       "      <th>0</th>\n",
       "      <td>Data Scientist</td>\n",
       "      <td>Noida, Bangalore/Bengaluru</td>\n",
       "      <td>Ashkom Media India Private Limited</td>\n",
       "      <td>3-6 Yrs</td>\n",
       "    </tr>\n",
       "    <tr>\n",
       "      <th>1</th>\n",
       "      <td>Associate Data Scientist</td>\n",
       "      <td>Gurgaon/Gurugram</td>\n",
       "      <td>Optum</td>\n",
       "      <td>1-5 Yrs</td>\n",
       "    </tr>\n",
       "    <tr>\n",
       "      <th>2</th>\n",
       "      <td>Associate Scientist - Data Engineering</td>\n",
       "      <td>Gurgaon/Gurugram</td>\n",
       "      <td>AXA Technology Services India Pvt. Ltd</td>\n",
       "      <td>2-5 Yrs</td>\n",
       "    </tr>\n",
       "    <tr>\n",
       "      <th>3</th>\n",
       "      <td>Data Scientist || Software Company || Immediat...</td>\n",
       "      <td>Gurgaon/Gurugram, Bangalore/Bengaluru</td>\n",
       "      <td>Skyleaf Consultants</td>\n",
       "      <td>3-8 Yrs</td>\n",
       "    </tr>\n",
       "    <tr>\n",
       "      <th>4</th>\n",
       "      <td>Hiring For Data Analyst and Data Scientist For...</td>\n",
       "      <td>Noida, Gurgaon/Gurugram, Delhi / NCR</td>\n",
       "      <td>Shadow Placements</td>\n",
       "      <td>3-7 Yrs</td>\n",
       "    </tr>\n",
       "    <tr>\n",
       "      <th>5</th>\n",
       "      <td>Data Scientist (freelance)</td>\n",
       "      <td>New Delhi, Delhi</td>\n",
       "      <td>2Coms</td>\n",
       "      <td>2-7 Yrs</td>\n",
       "    </tr>\n",
       "    <tr>\n",
       "      <th>6</th>\n",
       "      <td>Data Scientist/ Machine Learning, 2022 Passout...</td>\n",
       "      <td>Hyderabad/Secunderabad, Pune, Chennai, Delhi /...</td>\n",
       "      <td>Creative Hands HR Consultancy</td>\n",
       "      <td>0-4 Yrs</td>\n",
       "    </tr>\n",
       "    <tr>\n",
       "      <th>7</th>\n",
       "      <td>Data Scientist</td>\n",
       "      <td>Gurgaon, Bengaluru</td>\n",
       "      <td>BlackBuck</td>\n",
       "      <td>3-7 Yrs</td>\n",
       "    </tr>\n",
       "    <tr>\n",
       "      <th>8</th>\n",
       "      <td>Data Scientist</td>\n",
       "      <td>New Delhi</td>\n",
       "      <td>Boston Consulting Group</td>\n",
       "      <td>2-5 Yrs</td>\n",
       "    </tr>\n",
       "    <tr>\n",
       "      <th>9</th>\n",
       "      <td>Hiring For Senior Data Scientist-Noida</td>\n",
       "      <td>Noida, Greater Noida, Delhi / NCR</td>\n",
       "      <td>Lumiq.ai</td>\n",
       "      <td>2-6 Yrs</td>\n",
       "    </tr>\n",
       "  </tbody>\n",
       "</table>\n",
       "</div>"
      ],
      "text/plain": [
       "                                          Job Titles  \\\n",
       "0                                     Data Scientist   \n",
       "1                           Associate Data Scientist   \n",
       "2             Associate Scientist - Data Engineering   \n",
       "3  Data Scientist || Software Company || Immediat...   \n",
       "4  Hiring For Data Analyst and Data Scientist For...   \n",
       "5                         Data Scientist (freelance)   \n",
       "6  Data Scientist/ Machine Learning, 2022 Passout...   \n",
       "7                                     Data Scientist   \n",
       "8                                     Data Scientist   \n",
       "9             Hiring For Senior Data Scientist-Noida   \n",
       "\n",
       "                                        Job Location  \\\n",
       "0                         Noida, Bangalore/Bengaluru   \n",
       "1                                   Gurgaon/Gurugram   \n",
       "2                                   Gurgaon/Gurugram   \n",
       "3              Gurgaon/Gurugram, Bangalore/Bengaluru   \n",
       "4               Noida, Gurgaon/Gurugram, Delhi / NCR   \n",
       "5                                   New Delhi, Delhi   \n",
       "6  Hyderabad/Secunderabad, Pune, Chennai, Delhi /...   \n",
       "7                                 Gurgaon, Bengaluru   \n",
       "8                                          New Delhi   \n",
       "9                  Noida, Greater Noida, Delhi / NCR   \n",
       "\n",
       "                             Company Name Experience Required  \n",
       "0      Ashkom Media India Private Limited             3-6 Yrs  \n",
       "1                                   Optum             1-5 Yrs  \n",
       "2  AXA Technology Services India Pvt. Ltd             2-5 Yrs  \n",
       "3                     Skyleaf Consultants             3-8 Yrs  \n",
       "4                       Shadow Placements             3-7 Yrs  \n",
       "5                                   2Coms             2-7 Yrs  \n",
       "6           Creative Hands HR Consultancy             0-4 Yrs  \n",
       "7                               BlackBuck             3-7 Yrs  \n",
       "8                 Boston Consulting Group             2-5 Yrs  \n",
       "9                                Lumiq.ai             2-6 Yrs  "
      ]
     },
     "execution_count": 216,
     "metadata": {},
     "output_type": "execute_result"
    }
   ],
   "source": [
    "df=pd.DataFrame({('Job Titles'):job_titles[0:10],('Job Location'):job_location[0:10],('Company Name'):company_name[0:10],('Experience Required'):experience_required[0:10]})\n",
    "df"
   ]
  },
  {
   "cell_type": "code",
   "execution_count": 217,
   "id": "b5f3006b",
   "metadata": {},
   "outputs": [],
   "source": [
    "driver.close()"
   ]
  },
  {
   "cell_type": "code",
   "execution_count": 218,
   "id": "7d29b1f1",
   "metadata": {},
   "outputs": [],
   "source": [
    "#Q4: Scrape data of first 100 sunglasses listings on flipkart.com. \n",
    "#You have to scrape four attributes: 1. Brand \n",
    "#2. Product Description \n",
    "#3. Price \n",
    "#The attributes which you have to scrape is ticked marked in the below image. "
   ]
  },
  {
   "cell_type": "code",
   "execution_count": 219,
   "id": "49e3468e",
   "metadata": {},
   "outputs": [],
   "source": [
    "#connecting web driver to the installed libaray\n",
    "driver = webdriver.Chrome(\"C:/Users/Ankit anand/selenium/chromedriver.exe\")\n",
    "#commanding driver to open the url\n",
    "driver.get('https://www.flipkart.com/')\n",
    "#commanding driver to wait for 5 sec \n",
    "time.sleep(5)\n",
    "#clicking on the close button for the pop-up\n",
    "clo=driver.find_element_by_xpath(\"//button[@class='_2KpZ6l _2doB4z']\")\n",
    "clo.click()\n",
    "# entering search terms in searchbox\n",
    "boox=driver.find_element_by_xpath(\"/html/body/div[1]/div/div[1]/div[1]/div[2]/div[2]/form/div/div/input\")\n",
    "boox.send_keys('sunglasses')\n",
    "#clicking on the search button \n",
    "button=driver.find_element_by_xpath(\"//button[@class='L0Z3Pu']\")\n",
    "button.click()\n",
    "time.sleep(5)"
   ]
  },
  {
   "cell_type": "code",
   "execution_count": 220,
   "id": "09a6ea53",
   "metadata": {},
   "outputs": [
    {
     "data": {
      "text/plain": [
       "[<selenium.webdriver.remote.webelement.WebElement (session=\"c343cbb1f867d0148dd6b53407c4457e\", element=\"6a9ff36a-5908-4e48-9369-17fbc73ce2f5\")>,\n",
       " <selenium.webdriver.remote.webelement.WebElement (session=\"c343cbb1f867d0148dd6b53407c4457e\", element=\"649f930f-3f8a-41ed-ada3-8cfac27a91d1\")>,\n",
       " <selenium.webdriver.remote.webelement.WebElement (session=\"c343cbb1f867d0148dd6b53407c4457e\", element=\"ad1c27e6-56f5-4107-ae19-da2a7ef79de4\")>,\n",
       " <selenium.webdriver.remote.webelement.WebElement (session=\"c343cbb1f867d0148dd6b53407c4457e\", element=\"3f483bab-27cc-4a3d-a36b-ae4ac1848a3b\")>,\n",
       " <selenium.webdriver.remote.webelement.WebElement (session=\"c343cbb1f867d0148dd6b53407c4457e\", element=\"77f5ef22-49c1-453b-8366-886dd92c5cfd\")>,\n",
       " <selenium.webdriver.remote.webelement.WebElement (session=\"c343cbb1f867d0148dd6b53407c4457e\", element=\"d91cdca0-8668-4e0a-a1f2-f8fb08e7abcd\")>,\n",
       " <selenium.webdriver.remote.webelement.WebElement (session=\"c343cbb1f867d0148dd6b53407c4457e\", element=\"d7da0fdd-3322-41ff-b345-c6a414d8b62d\")>,\n",
       " <selenium.webdriver.remote.webelement.WebElement (session=\"c343cbb1f867d0148dd6b53407c4457e\", element=\"6dff35e4-317b-41a6-a5ef-6b2da8fe5a05\")>,\n",
       " <selenium.webdriver.remote.webelement.WebElement (session=\"c343cbb1f867d0148dd6b53407c4457e\", element=\"0f578231-4dba-4755-b923-d6bb55f36abe\")>,\n",
       " <selenium.webdriver.remote.webelement.WebElement (session=\"c343cbb1f867d0148dd6b53407c4457e\", element=\"98d2bbcb-6944-4ffc-b1bd-05e8a207802b\")>,\n",
       " <selenium.webdriver.remote.webelement.WebElement (session=\"c343cbb1f867d0148dd6b53407c4457e\", element=\"089886d4-8b8b-48f1-8da6-49a35b6c8ea1\")>,\n",
       " <selenium.webdriver.remote.webelement.WebElement (session=\"c343cbb1f867d0148dd6b53407c4457e\", element=\"3b9c4fb9-4b5b-4f9a-865a-df08d881f93f\")>,\n",
       " <selenium.webdriver.remote.webelement.WebElement (session=\"c343cbb1f867d0148dd6b53407c4457e\", element=\"2d365a71-f8c2-48f1-a4ed-0eee9cacbbc5\")>,\n",
       " <selenium.webdriver.remote.webelement.WebElement (session=\"c343cbb1f867d0148dd6b53407c4457e\", element=\"b032089c-5feb-4355-91e7-090234c78b56\")>,\n",
       " <selenium.webdriver.remote.webelement.WebElement (session=\"c343cbb1f867d0148dd6b53407c4457e\", element=\"b0028eb8-8518-49d1-b178-956039f338e5\")>,\n",
       " <selenium.webdriver.remote.webelement.WebElement (session=\"c343cbb1f867d0148dd6b53407c4457e\", element=\"d1d60a9b-7553-4e2f-9d39-b1bafbb500b5\")>,\n",
       " <selenium.webdriver.remote.webelement.WebElement (session=\"c343cbb1f867d0148dd6b53407c4457e\", element=\"163ab0de-c042-4903-8014-c22266efec78\")>,\n",
       " <selenium.webdriver.remote.webelement.WebElement (session=\"c343cbb1f867d0148dd6b53407c4457e\", element=\"9f470bad-ace5-4930-b59b-5f1789e7fb03\")>,\n",
       " <selenium.webdriver.remote.webelement.WebElement (session=\"c343cbb1f867d0148dd6b53407c4457e\", element=\"4ea4d67b-29f6-4247-be1d-2ff996875d4e\")>,\n",
       " <selenium.webdriver.remote.webelement.WebElement (session=\"c343cbb1f867d0148dd6b53407c4457e\", element=\"e5bdf017-e20c-4ea1-844a-0f5fa96f5584\")>,\n",
       " <selenium.webdriver.remote.webelement.WebElement (session=\"c343cbb1f867d0148dd6b53407c4457e\", element=\"a0466aed-1562-4b72-ac7b-c4b23bb3c210\")>,\n",
       " <selenium.webdriver.remote.webelement.WebElement (session=\"c343cbb1f867d0148dd6b53407c4457e\", element=\"3b0cd82b-dcc1-47f2-9973-74eeae9175d5\")>,\n",
       " <selenium.webdriver.remote.webelement.WebElement (session=\"c343cbb1f867d0148dd6b53407c4457e\", element=\"a957e407-9048-40c9-b538-1db378aaa7f0\")>,\n",
       " <selenium.webdriver.remote.webelement.WebElement (session=\"c343cbb1f867d0148dd6b53407c4457e\", element=\"f6f6ddc6-8aab-4be4-8225-9147aa999e58\")>,\n",
       " <selenium.webdriver.remote.webelement.WebElement (session=\"c343cbb1f867d0148dd6b53407c4457e\", element=\"ef01ccb3-81ba-489f-926d-0c8c4e93457e\")>,\n",
       " <selenium.webdriver.remote.webelement.WebElement (session=\"c343cbb1f867d0148dd6b53407c4457e\", element=\"bdb5071a-d31d-4c54-aa57-2a15abdc5bb1\")>,\n",
       " <selenium.webdriver.remote.webelement.WebElement (session=\"c343cbb1f867d0148dd6b53407c4457e\", element=\"4863391d-fa60-458c-a1b9-3a0d69d15f77\")>,\n",
       " <selenium.webdriver.remote.webelement.WebElement (session=\"c343cbb1f867d0148dd6b53407c4457e\", element=\"648fd111-fa5a-46b2-b746-3c7e396a2fca\")>,\n",
       " <selenium.webdriver.remote.webelement.WebElement (session=\"c343cbb1f867d0148dd6b53407c4457e\", element=\"307e54fd-31d6-452f-ad4f-70690706b062\")>,\n",
       " <selenium.webdriver.remote.webelement.WebElement (session=\"c343cbb1f867d0148dd6b53407c4457e\", element=\"7466c444-36d1-4410-94d6-13cb0771985b\")>,\n",
       " <selenium.webdriver.remote.webelement.WebElement (session=\"c343cbb1f867d0148dd6b53407c4457e\", element=\"89330168-e300-468e-a8fc-27af5ab6e7c6\")>,\n",
       " <selenium.webdriver.remote.webelement.WebElement (session=\"c343cbb1f867d0148dd6b53407c4457e\", element=\"6a2e804e-107c-4329-9598-b855cfeb03ab\")>,\n",
       " <selenium.webdriver.remote.webelement.WebElement (session=\"c343cbb1f867d0148dd6b53407c4457e\", element=\"50266979-c160-4cea-a4ef-d94b642af978\")>,\n",
       " <selenium.webdriver.remote.webelement.WebElement (session=\"c343cbb1f867d0148dd6b53407c4457e\", element=\"5a18ff5d-5ca7-459b-a952-9c2069f36c40\")>,\n",
       " <selenium.webdriver.remote.webelement.WebElement (session=\"c343cbb1f867d0148dd6b53407c4457e\", element=\"09f07437-2b6f-4f17-a82a-444cd99917b1\")>,\n",
       " <selenium.webdriver.remote.webelement.WebElement (session=\"c343cbb1f867d0148dd6b53407c4457e\", element=\"5e2ca42d-5d27-43bd-b266-83d73d2cdd7d\")>,\n",
       " <selenium.webdriver.remote.webelement.WebElement (session=\"c343cbb1f867d0148dd6b53407c4457e\", element=\"a87516e9-645d-4ff0-980b-188a744f41c8\")>,\n",
       " <selenium.webdriver.remote.webelement.WebElement (session=\"c343cbb1f867d0148dd6b53407c4457e\", element=\"7f078dfd-9a96-46ed-b022-38a37f96fa9b\")>,\n",
       " <selenium.webdriver.remote.webelement.WebElement (session=\"c343cbb1f867d0148dd6b53407c4457e\", element=\"2cc6a275-baab-4515-a9aa-545e553e61c5\")>,\n",
       " <selenium.webdriver.remote.webelement.WebElement (session=\"c343cbb1f867d0148dd6b53407c4457e\", element=\"05b919db-f968-4faf-8ee0-4d0443d85a6b\")>]"
      ]
     },
     "execution_count": 220,
     "metadata": {},
     "output_type": "execute_result"
    }
   ],
   "source": [
    "#creating empty list & scraping the brand name form the driver \n",
    "Brand_name=[]\n",
    "brand=driver.find_elements_by_xpath(\"//div[@class='_2WkVRV']\")\n",
    "brand"
   ]
  },
  {
   "cell_type": "code",
   "execution_count": 221,
   "id": "e014a608",
   "metadata": {},
   "outputs": [],
   "source": [
    "for i in brand:\n",
    "    Brand_name.append(i.text)   "
   ]
  },
  {
   "cell_type": "code",
   "execution_count": 222,
   "id": "8e2d0982",
   "metadata": {},
   "outputs": [
    {
     "data": {
      "text/plain": [
       "[<selenium.webdriver.remote.webelement.WebElement (session=\"c343cbb1f867d0148dd6b53407c4457e\", element=\"b496152a-4b5d-4755-8d25-1e90250d9f5f\")>,\n",
       " <selenium.webdriver.remote.webelement.WebElement (session=\"c343cbb1f867d0148dd6b53407c4457e\", element=\"b94dba64-15d8-4ba0-ab4c-0ab6cf831577\")>,\n",
       " <selenium.webdriver.remote.webelement.WebElement (session=\"c343cbb1f867d0148dd6b53407c4457e\", element=\"f6c15728-e456-4ffe-a805-f09961490dd5\")>,\n",
       " <selenium.webdriver.remote.webelement.WebElement (session=\"c343cbb1f867d0148dd6b53407c4457e\", element=\"746ebc61-71fe-42c6-86ae-58d83462ea40\")>,\n",
       " <selenium.webdriver.remote.webelement.WebElement (session=\"c343cbb1f867d0148dd6b53407c4457e\", element=\"718168d5-799c-489e-8766-42bb54527aac\")>,\n",
       " <selenium.webdriver.remote.webelement.WebElement (session=\"c343cbb1f867d0148dd6b53407c4457e\", element=\"5b61f128-d06e-4716-a829-bb248b1c95af\")>,\n",
       " <selenium.webdriver.remote.webelement.WebElement (session=\"c343cbb1f867d0148dd6b53407c4457e\", element=\"c5735889-45d9-4e3d-8622-eb9495de12d3\")>,\n",
       " <selenium.webdriver.remote.webelement.WebElement (session=\"c343cbb1f867d0148dd6b53407c4457e\", element=\"ac188176-2967-4434-8d69-dcd2a8262069\")>,\n",
       " <selenium.webdriver.remote.webelement.WebElement (session=\"c343cbb1f867d0148dd6b53407c4457e\", element=\"d4d73881-7d21-4dfb-84bc-0e6f698e33ec\")>,\n",
       " <selenium.webdriver.remote.webelement.WebElement (session=\"c343cbb1f867d0148dd6b53407c4457e\", element=\"06a83a4b-930e-4fb8-bda2-4a31fdc974aa\")>,\n",
       " <selenium.webdriver.remote.webelement.WebElement (session=\"c343cbb1f867d0148dd6b53407c4457e\", element=\"476b18ee-a680-4ed2-8447-78ef96a9360b\")>,\n",
       " <selenium.webdriver.remote.webelement.WebElement (session=\"c343cbb1f867d0148dd6b53407c4457e\", element=\"d5c248e4-93d7-4ad6-ad34-fa1989881c75\")>,\n",
       " <selenium.webdriver.remote.webelement.WebElement (session=\"c343cbb1f867d0148dd6b53407c4457e\", element=\"be27a0fe-8327-49b1-bfb6-8cf6d2935ed0\")>,\n",
       " <selenium.webdriver.remote.webelement.WebElement (session=\"c343cbb1f867d0148dd6b53407c4457e\", element=\"f8dd09aa-361c-42b7-9c0e-c9d97fa2f513\")>,\n",
       " <selenium.webdriver.remote.webelement.WebElement (session=\"c343cbb1f867d0148dd6b53407c4457e\", element=\"f1a7cede-9f8c-498c-a6c1-252fb25e5569\")>,\n",
       " <selenium.webdriver.remote.webelement.WebElement (session=\"c343cbb1f867d0148dd6b53407c4457e\", element=\"8095a629-04d1-47b7-8595-67c1764ef59e\")>,\n",
       " <selenium.webdriver.remote.webelement.WebElement (session=\"c343cbb1f867d0148dd6b53407c4457e\", element=\"362b388b-b37c-4aaa-a14a-d4fb49678124\")>,\n",
       " <selenium.webdriver.remote.webelement.WebElement (session=\"c343cbb1f867d0148dd6b53407c4457e\", element=\"e02cd5e5-67af-45d3-ae4a-3dfcc8ae6632\")>,\n",
       " <selenium.webdriver.remote.webelement.WebElement (session=\"c343cbb1f867d0148dd6b53407c4457e\", element=\"2c598c92-6a02-4ce8-96e8-043580a532d5\")>,\n",
       " <selenium.webdriver.remote.webelement.WebElement (session=\"c343cbb1f867d0148dd6b53407c4457e\", element=\"5a5cc796-79d6-4b22-836f-e0cbfb08a641\")>,\n",
       " <selenium.webdriver.remote.webelement.WebElement (session=\"c343cbb1f867d0148dd6b53407c4457e\", element=\"ce892149-0ad4-4d67-b457-dfd0f055d3c8\")>,\n",
       " <selenium.webdriver.remote.webelement.WebElement (session=\"c343cbb1f867d0148dd6b53407c4457e\", element=\"5053ce05-9ed9-4599-bc18-540bd0bcb50c\")>,\n",
       " <selenium.webdriver.remote.webelement.WebElement (session=\"c343cbb1f867d0148dd6b53407c4457e\", element=\"9b687492-654d-4084-88c9-1a4d4f56e9df\")>,\n",
       " <selenium.webdriver.remote.webelement.WebElement (session=\"c343cbb1f867d0148dd6b53407c4457e\", element=\"bae07a7d-3287-4bd0-9475-0f5970f3e3e9\")>,\n",
       " <selenium.webdriver.remote.webelement.WebElement (session=\"c343cbb1f867d0148dd6b53407c4457e\", element=\"119868cf-3bd8-468b-9528-acffe5b2b884\")>,\n",
       " <selenium.webdriver.remote.webelement.WebElement (session=\"c343cbb1f867d0148dd6b53407c4457e\", element=\"6620c475-dac4-4820-909a-dbeeeb648b79\")>,\n",
       " <selenium.webdriver.remote.webelement.WebElement (session=\"c343cbb1f867d0148dd6b53407c4457e\", element=\"c7977d09-2ff6-41a5-94cc-8f0ea1dcd05d\")>,\n",
       " <selenium.webdriver.remote.webelement.WebElement (session=\"c343cbb1f867d0148dd6b53407c4457e\", element=\"58b27cfa-202c-474b-9cec-d1d55c256663\")>,\n",
       " <selenium.webdriver.remote.webelement.WebElement (session=\"c343cbb1f867d0148dd6b53407c4457e\", element=\"fb406741-c2fa-4881-b498-e24cf21064c6\")>,\n",
       " <selenium.webdriver.remote.webelement.WebElement (session=\"c343cbb1f867d0148dd6b53407c4457e\", element=\"601d06ea-fcbd-427b-a766-964c41dee7b9\")>,\n",
       " <selenium.webdriver.remote.webelement.WebElement (session=\"c343cbb1f867d0148dd6b53407c4457e\", element=\"56e88380-4ae1-4764-83c5-89fd69ea0ba6\")>,\n",
       " <selenium.webdriver.remote.webelement.WebElement (session=\"c343cbb1f867d0148dd6b53407c4457e\", element=\"28f23b26-33f4-45f4-8acb-6503980e7381\")>,\n",
       " <selenium.webdriver.remote.webelement.WebElement (session=\"c343cbb1f867d0148dd6b53407c4457e\", element=\"9d00e001-fcf7-4e54-ab94-9198ee4493ad\")>,\n",
       " <selenium.webdriver.remote.webelement.WebElement (session=\"c343cbb1f867d0148dd6b53407c4457e\", element=\"3ddda88f-a5e9-4c15-8185-e0f13d096052\")>,\n",
       " <selenium.webdriver.remote.webelement.WebElement (session=\"c343cbb1f867d0148dd6b53407c4457e\", element=\"c9984fc4-8cec-43e5-940a-86ca2ca0996b\")>,\n",
       " <selenium.webdriver.remote.webelement.WebElement (session=\"c343cbb1f867d0148dd6b53407c4457e\", element=\"9473dfa8-b254-49cc-a6fc-be0ba334a9f1\")>,\n",
       " <selenium.webdriver.remote.webelement.WebElement (session=\"c343cbb1f867d0148dd6b53407c4457e\", element=\"91941c0e-e00a-47f8-97c9-255f1142e6e1\")>,\n",
       " <selenium.webdriver.remote.webelement.WebElement (session=\"c343cbb1f867d0148dd6b53407c4457e\", element=\"942e3b7c-002e-4992-a9a0-103a9f4ea7db\")>,\n",
       " <selenium.webdriver.remote.webelement.WebElement (session=\"c343cbb1f867d0148dd6b53407c4457e\", element=\"4f1bc55f-8e56-45fe-b0c7-f0ecad0df3ba\")>,\n",
       " <selenium.webdriver.remote.webelement.WebElement (session=\"c343cbb1f867d0148dd6b53407c4457e\", element=\"707a0cd7-eed8-429c-9b6d-655699a19342\")>]"
      ]
     },
     "execution_count": 222,
     "metadata": {},
     "output_type": "execute_result"
    }
   ],
   "source": [
    "#repating the above ste to scrap the Product Description \n",
    "Product_Description=[]\n",
    "Description=driver.find_elements_by_xpath(\"//a[@class='IRpwTa']\")\n",
    "Description"
   ]
  },
  {
   "cell_type": "code",
   "execution_count": 223,
   "id": "406e7881",
   "metadata": {},
   "outputs": [],
   "source": [
    "for i in Description:\n",
    "    Product_Description.append(i.text)    "
   ]
  },
  {
   "cell_type": "code",
   "execution_count": 224,
   "id": "47308fe5",
   "metadata": {},
   "outputs": [
    {
     "data": {
      "text/plain": [
       "[<selenium.webdriver.remote.webelement.WebElement (session=\"c343cbb1f867d0148dd6b53407c4457e\", element=\"88c3386b-a13f-4945-abfa-71351df123b7\")>,\n",
       " <selenium.webdriver.remote.webelement.WebElement (session=\"c343cbb1f867d0148dd6b53407c4457e\", element=\"328fe598-7fc2-4ae0-8bba-1f5597563a8f\")>,\n",
       " <selenium.webdriver.remote.webelement.WebElement (session=\"c343cbb1f867d0148dd6b53407c4457e\", element=\"7c55aa45-ae5b-4350-acf3-e3270d5e82c1\")>,\n",
       " <selenium.webdriver.remote.webelement.WebElement (session=\"c343cbb1f867d0148dd6b53407c4457e\", element=\"79a14fa7-eef3-4f3e-87e7-865f955c6a1b\")>,\n",
       " <selenium.webdriver.remote.webelement.WebElement (session=\"c343cbb1f867d0148dd6b53407c4457e\", element=\"f92345f1-b201-4602-ba10-85847bef7e95\")>,\n",
       " <selenium.webdriver.remote.webelement.WebElement (session=\"c343cbb1f867d0148dd6b53407c4457e\", element=\"c24bcda0-24c3-423d-afa2-479ac6f2c69b\")>,\n",
       " <selenium.webdriver.remote.webelement.WebElement (session=\"c343cbb1f867d0148dd6b53407c4457e\", element=\"d0a185be-799b-4127-b206-8447ad5ebb56\")>,\n",
       " <selenium.webdriver.remote.webelement.WebElement (session=\"c343cbb1f867d0148dd6b53407c4457e\", element=\"c00a3adc-a2b8-4e24-8271-c9c60fbe63d8\")>,\n",
       " <selenium.webdriver.remote.webelement.WebElement (session=\"c343cbb1f867d0148dd6b53407c4457e\", element=\"84d1f0a0-f899-4a75-ba9a-b282e9273efb\")>,\n",
       " <selenium.webdriver.remote.webelement.WebElement (session=\"c343cbb1f867d0148dd6b53407c4457e\", element=\"106ad43c-ab1b-4d3a-9f24-adb45c9889c3\")>,\n",
       " <selenium.webdriver.remote.webelement.WebElement (session=\"c343cbb1f867d0148dd6b53407c4457e\", element=\"d8aceaa0-5601-47f4-99b5-b0e883ad252f\")>,\n",
       " <selenium.webdriver.remote.webelement.WebElement (session=\"c343cbb1f867d0148dd6b53407c4457e\", element=\"42ea9a29-169c-458a-a6b6-a96ef14c7195\")>,\n",
       " <selenium.webdriver.remote.webelement.WebElement (session=\"c343cbb1f867d0148dd6b53407c4457e\", element=\"9d0301ed-7c64-4ae0-9f08-3b7c7b79a1f3\")>,\n",
       " <selenium.webdriver.remote.webelement.WebElement (session=\"c343cbb1f867d0148dd6b53407c4457e\", element=\"86d3f305-1e3b-4b6f-8d75-6fdecd00b234\")>,\n",
       " <selenium.webdriver.remote.webelement.WebElement (session=\"c343cbb1f867d0148dd6b53407c4457e\", element=\"d92b8b54-9511-4955-b0f2-fda30e9f56aa\")>,\n",
       " <selenium.webdriver.remote.webelement.WebElement (session=\"c343cbb1f867d0148dd6b53407c4457e\", element=\"3fcb52da-bcc6-4d35-9a7b-e07baa2a8260\")>,\n",
       " <selenium.webdriver.remote.webelement.WebElement (session=\"c343cbb1f867d0148dd6b53407c4457e\", element=\"96846cd9-96c0-4ad0-b14b-fef5970d523e\")>,\n",
       " <selenium.webdriver.remote.webelement.WebElement (session=\"c343cbb1f867d0148dd6b53407c4457e\", element=\"14ccf365-3783-4707-b3c6-f45fb94a21e6\")>,\n",
       " <selenium.webdriver.remote.webelement.WebElement (session=\"c343cbb1f867d0148dd6b53407c4457e\", element=\"bdc0f795-d71c-4f60-a7c6-dd3ee840ee41\")>,\n",
       " <selenium.webdriver.remote.webelement.WebElement (session=\"c343cbb1f867d0148dd6b53407c4457e\", element=\"b9d89e8f-93e8-4136-abf8-bd7eec0aa836\")>,\n",
       " <selenium.webdriver.remote.webelement.WebElement (session=\"c343cbb1f867d0148dd6b53407c4457e\", element=\"fafaac19-66dd-429f-ac73-04bafb73d9c1\")>,\n",
       " <selenium.webdriver.remote.webelement.WebElement (session=\"c343cbb1f867d0148dd6b53407c4457e\", element=\"528c0344-7c8e-4016-b092-7fb2fcc0e0dc\")>,\n",
       " <selenium.webdriver.remote.webelement.WebElement (session=\"c343cbb1f867d0148dd6b53407c4457e\", element=\"5e1c7b99-e949-4bca-97de-554208325f00\")>,\n",
       " <selenium.webdriver.remote.webelement.WebElement (session=\"c343cbb1f867d0148dd6b53407c4457e\", element=\"fcf109e1-dc78-48e4-b6d3-8d8ee7b90024\")>,\n",
       " <selenium.webdriver.remote.webelement.WebElement (session=\"c343cbb1f867d0148dd6b53407c4457e\", element=\"c00fb132-5298-4c8d-98ee-f956978b2c0b\")>,\n",
       " <selenium.webdriver.remote.webelement.WebElement (session=\"c343cbb1f867d0148dd6b53407c4457e\", element=\"e506c9a8-8e5b-4224-95e3-63a20f088197\")>,\n",
       " <selenium.webdriver.remote.webelement.WebElement (session=\"c343cbb1f867d0148dd6b53407c4457e\", element=\"aa5c9bce-39ab-4c7c-891b-3ffb4af55a3a\")>,\n",
       " <selenium.webdriver.remote.webelement.WebElement (session=\"c343cbb1f867d0148dd6b53407c4457e\", element=\"6b78ac3b-aab9-4b3e-abb2-fb97c48f2ddd\")>,\n",
       " <selenium.webdriver.remote.webelement.WebElement (session=\"c343cbb1f867d0148dd6b53407c4457e\", element=\"d682fab0-587e-4243-bcfa-8cba51219ec0\")>,\n",
       " <selenium.webdriver.remote.webelement.WebElement (session=\"c343cbb1f867d0148dd6b53407c4457e\", element=\"a8a5c80b-8704-4795-acf1-5a394dd574fe\")>,\n",
       " <selenium.webdriver.remote.webelement.WebElement (session=\"c343cbb1f867d0148dd6b53407c4457e\", element=\"f3960990-1c23-4ecc-a1be-59a3374560ff\")>,\n",
       " <selenium.webdriver.remote.webelement.WebElement (session=\"c343cbb1f867d0148dd6b53407c4457e\", element=\"f566ab0b-7e66-4047-af25-b7fd1ec9dd63\")>,\n",
       " <selenium.webdriver.remote.webelement.WebElement (session=\"c343cbb1f867d0148dd6b53407c4457e\", element=\"dceb1759-874e-4430-94e5-a460c1dd0b89\")>,\n",
       " <selenium.webdriver.remote.webelement.WebElement (session=\"c343cbb1f867d0148dd6b53407c4457e\", element=\"d0db97c2-f04f-4cb3-9541-9a489cda0d0a\")>,\n",
       " <selenium.webdriver.remote.webelement.WebElement (session=\"c343cbb1f867d0148dd6b53407c4457e\", element=\"3e32e926-fc90-471a-8632-76c305a817c9\")>,\n",
       " <selenium.webdriver.remote.webelement.WebElement (session=\"c343cbb1f867d0148dd6b53407c4457e\", element=\"48828c13-e650-4013-bb35-480abcf6df20\")>,\n",
       " <selenium.webdriver.remote.webelement.WebElement (session=\"c343cbb1f867d0148dd6b53407c4457e\", element=\"91be8e41-8e82-490a-923f-440dd5b9d198\")>,\n",
       " <selenium.webdriver.remote.webelement.WebElement (session=\"c343cbb1f867d0148dd6b53407c4457e\", element=\"339fb2c1-b678-4fdb-9aa2-a9e84173a18a\")>,\n",
       " <selenium.webdriver.remote.webelement.WebElement (session=\"c343cbb1f867d0148dd6b53407c4457e\", element=\"10663c21-158a-4e8d-8425-4a980b092880\")>,\n",
       " <selenium.webdriver.remote.webelement.WebElement (session=\"c343cbb1f867d0148dd6b53407c4457e\", element=\"34de13fb-8f59-42f8-833f-541d56829951\")>]"
      ]
     },
     "execution_count": 224,
     "metadata": {},
     "output_type": "execute_result"
    }
   ],
   "source": [
    "pri=driver.find_elements_by_xpath(\"//a[@class='_3bPFwb']\")\n",
    "pri"
   ]
  },
  {
   "cell_type": "code",
   "execution_count": 225,
   "id": "d68830d1",
   "metadata": {},
   "outputs": [],
   "source": [
    "price=[]\n",
    "for i in pri:\n",
    "    price.append(i.text.replace('\\n','').split('₹')[1])"
   ]
  },
  {
   "cell_type": "code",
   "execution_count": 226,
   "id": "97206810",
   "metadata": {},
   "outputs": [
    {
     "name": "stdout",
     "output_type": "stream",
     "text": [
      "40 40 40\n"
     ]
    }
   ],
   "source": [
    "print(len(Brand_name),len(Product_Description),len(price))"
   ]
  },
  {
   "cell_type": "code",
   "execution_count": 227,
   "id": "81762268",
   "metadata": {},
   "outputs": [],
   "source": [
    "#we hbave to scarp 100 data so going on another page by clicking on the next btton\n",
    "nex=driver.find_element_by_xpath(\"//a[@class='_1LKTO3']\")\n",
    "nex.click()\n",
    "time.sleep(5)"
   ]
  },
  {
   "cell_type": "code",
   "execution_count": 228,
   "id": "23785485",
   "metadata": {},
   "outputs": [
    {
     "data": {
      "text/plain": [
       "[<selenium.webdriver.remote.webelement.WebElement (session=\"c343cbb1f867d0148dd6b53407c4457e\", element=\"013a4047-dbee-4792-83c2-fc72e03ad154\")>,\n",
       " <selenium.webdriver.remote.webelement.WebElement (session=\"c343cbb1f867d0148dd6b53407c4457e\", element=\"5faaa6fe-41a0-4cb8-a7f3-c8174d56cd74\")>,\n",
       " <selenium.webdriver.remote.webelement.WebElement (session=\"c343cbb1f867d0148dd6b53407c4457e\", element=\"d86af9a2-3ff5-4a41-9e10-6375d8fbbd77\")>,\n",
       " <selenium.webdriver.remote.webelement.WebElement (session=\"c343cbb1f867d0148dd6b53407c4457e\", element=\"ce05cc4d-d764-49d1-a84b-49aa92a6c25b\")>,\n",
       " <selenium.webdriver.remote.webelement.WebElement (session=\"c343cbb1f867d0148dd6b53407c4457e\", element=\"7d03b149-8115-40f5-a322-3f5368fa8abb\")>,\n",
       " <selenium.webdriver.remote.webelement.WebElement (session=\"c343cbb1f867d0148dd6b53407c4457e\", element=\"83ed3991-b136-4477-9faa-71081331970f\")>,\n",
       " <selenium.webdriver.remote.webelement.WebElement (session=\"c343cbb1f867d0148dd6b53407c4457e\", element=\"f1990bff-557b-4257-b9fa-da8731a965ca\")>,\n",
       " <selenium.webdriver.remote.webelement.WebElement (session=\"c343cbb1f867d0148dd6b53407c4457e\", element=\"b715f31f-6409-4384-bbdf-9d4362ec77a0\")>,\n",
       " <selenium.webdriver.remote.webelement.WebElement (session=\"c343cbb1f867d0148dd6b53407c4457e\", element=\"9d29eb66-8fdf-40c3-b0ed-a6b1d3acb9c6\")>,\n",
       " <selenium.webdriver.remote.webelement.WebElement (session=\"c343cbb1f867d0148dd6b53407c4457e\", element=\"3a56ad74-2e18-485c-b5b8-5c1bc94d368b\")>,\n",
       " <selenium.webdriver.remote.webelement.WebElement (session=\"c343cbb1f867d0148dd6b53407c4457e\", element=\"f01d6802-bdce-456a-b324-292955f7e5bd\")>,\n",
       " <selenium.webdriver.remote.webelement.WebElement (session=\"c343cbb1f867d0148dd6b53407c4457e\", element=\"b0516189-a17c-437e-9a76-e53906c6a746\")>,\n",
       " <selenium.webdriver.remote.webelement.WebElement (session=\"c343cbb1f867d0148dd6b53407c4457e\", element=\"51a0c554-055c-44e3-b46e-5417bf544c86\")>,\n",
       " <selenium.webdriver.remote.webelement.WebElement (session=\"c343cbb1f867d0148dd6b53407c4457e\", element=\"c9b76309-f737-40f0-a5dc-21de50107379\")>,\n",
       " <selenium.webdriver.remote.webelement.WebElement (session=\"c343cbb1f867d0148dd6b53407c4457e\", element=\"fdbbf1bf-c9af-40b2-b0db-d6e2896c709f\")>,\n",
       " <selenium.webdriver.remote.webelement.WebElement (session=\"c343cbb1f867d0148dd6b53407c4457e\", element=\"8f831814-435a-4836-8921-6362ee39c5e5\")>,\n",
       " <selenium.webdriver.remote.webelement.WebElement (session=\"c343cbb1f867d0148dd6b53407c4457e\", element=\"754c20ec-0c55-47a3-94ff-8b908de975d0\")>,\n",
       " <selenium.webdriver.remote.webelement.WebElement (session=\"c343cbb1f867d0148dd6b53407c4457e\", element=\"73660c15-7b0e-4dbf-b2a8-eaa3b88401e4\")>,\n",
       " <selenium.webdriver.remote.webelement.WebElement (session=\"c343cbb1f867d0148dd6b53407c4457e\", element=\"98eb57ea-56be-4d2e-b959-fd83df5c3e04\")>,\n",
       " <selenium.webdriver.remote.webelement.WebElement (session=\"c343cbb1f867d0148dd6b53407c4457e\", element=\"6800a77c-5995-4ed1-9db6-da690a474239\")>,\n",
       " <selenium.webdriver.remote.webelement.WebElement (session=\"c343cbb1f867d0148dd6b53407c4457e\", element=\"e28c4e92-0de5-4e39-a1a8-f6dc0eda825d\")>,\n",
       " <selenium.webdriver.remote.webelement.WebElement (session=\"c343cbb1f867d0148dd6b53407c4457e\", element=\"bff9c7d9-697f-42f8-b48c-7a628b7a268a\")>,\n",
       " <selenium.webdriver.remote.webelement.WebElement (session=\"c343cbb1f867d0148dd6b53407c4457e\", element=\"91171454-86eb-413e-b15c-6483c9c06d2d\")>,\n",
       " <selenium.webdriver.remote.webelement.WebElement (session=\"c343cbb1f867d0148dd6b53407c4457e\", element=\"51a69469-59c7-48fe-a493-303143f6cd54\")>,\n",
       " <selenium.webdriver.remote.webelement.WebElement (session=\"c343cbb1f867d0148dd6b53407c4457e\", element=\"f8cb9845-f4b5-48d5-92a0-a3227c2e1012\")>,\n",
       " <selenium.webdriver.remote.webelement.WebElement (session=\"c343cbb1f867d0148dd6b53407c4457e\", element=\"4025ec65-e238-4d50-abdb-927f5df4e65f\")>,\n",
       " <selenium.webdriver.remote.webelement.WebElement (session=\"c343cbb1f867d0148dd6b53407c4457e\", element=\"96a218c7-ef4e-49f9-8d3a-8266a61fe370\")>,\n",
       " <selenium.webdriver.remote.webelement.WebElement (session=\"c343cbb1f867d0148dd6b53407c4457e\", element=\"072c82ed-ea81-4e9c-85be-d79d04dc1b11\")>,\n",
       " <selenium.webdriver.remote.webelement.WebElement (session=\"c343cbb1f867d0148dd6b53407c4457e\", element=\"b0f5f55d-b7b0-49e9-8fac-1f5292d9b2b2\")>,\n",
       " <selenium.webdriver.remote.webelement.WebElement (session=\"c343cbb1f867d0148dd6b53407c4457e\", element=\"2534e1ac-7a07-47fe-aaa8-7575b530c3d9\")>,\n",
       " <selenium.webdriver.remote.webelement.WebElement (session=\"c343cbb1f867d0148dd6b53407c4457e\", element=\"dc3405da-6a13-4a64-a147-b483daa21bd3\")>,\n",
       " <selenium.webdriver.remote.webelement.WebElement (session=\"c343cbb1f867d0148dd6b53407c4457e\", element=\"8a664be7-cb98-4985-857b-06ca707badbd\")>,\n",
       " <selenium.webdriver.remote.webelement.WebElement (session=\"c343cbb1f867d0148dd6b53407c4457e\", element=\"a7dc4f6f-9279-4860-b143-97c33bce8996\")>,\n",
       " <selenium.webdriver.remote.webelement.WebElement (session=\"c343cbb1f867d0148dd6b53407c4457e\", element=\"12cb19b7-e431-4109-8ac3-43b2539a8cd1\")>,\n",
       " <selenium.webdriver.remote.webelement.WebElement (session=\"c343cbb1f867d0148dd6b53407c4457e\", element=\"b8399700-4e6f-497d-a503-9e75d67c921e\")>,\n",
       " <selenium.webdriver.remote.webelement.WebElement (session=\"c343cbb1f867d0148dd6b53407c4457e\", element=\"764e7370-fb46-46d3-b118-4aa950bc7151\")>,\n",
       " <selenium.webdriver.remote.webelement.WebElement (session=\"c343cbb1f867d0148dd6b53407c4457e\", element=\"e354c80a-43e2-4541-8624-58a48859ee7b\")>,\n",
       " <selenium.webdriver.remote.webelement.WebElement (session=\"c343cbb1f867d0148dd6b53407c4457e\", element=\"ce60d6ee-52dd-457b-a879-462721efe530\")>,\n",
       " <selenium.webdriver.remote.webelement.WebElement (session=\"c343cbb1f867d0148dd6b53407c4457e\", element=\"6c624a10-7ef9-4574-892b-9a472a050bd3\")>,\n",
       " <selenium.webdriver.remote.webelement.WebElement (session=\"c343cbb1f867d0148dd6b53407c4457e\", element=\"037e87eb-7127-4d6e-9a80-5f9ec48884aa\")>]"
      ]
     },
     "execution_count": 228,
     "metadata": {},
     "output_type": "execute_result"
    }
   ],
   "source": [
    "brand=driver.find_elements_by_xpath(\"//div[@class='_2WkVRV']\")\n",
    "brand"
   ]
  },
  {
   "cell_type": "code",
   "execution_count": 229,
   "id": "e1f8f25e",
   "metadata": {},
   "outputs": [],
   "source": [
    "for i in brand:\n",
    "    Brand_name.append(i.text)    "
   ]
  },
  {
   "cell_type": "code",
   "execution_count": 230,
   "id": "b48126d6",
   "metadata": {},
   "outputs": [
    {
     "data": {
      "text/plain": [
       "[<selenium.webdriver.remote.webelement.WebElement (session=\"c343cbb1f867d0148dd6b53407c4457e\", element=\"b5943c63-d191-4aa5-93b1-2359b04a5e97\")>,\n",
       " <selenium.webdriver.remote.webelement.WebElement (session=\"c343cbb1f867d0148dd6b53407c4457e\", element=\"f5b09651-4822-4a7d-a462-b9c118cce1ae\")>,\n",
       " <selenium.webdriver.remote.webelement.WebElement (session=\"c343cbb1f867d0148dd6b53407c4457e\", element=\"3af9294e-6ea4-4c2c-9794-7348d249821a\")>,\n",
       " <selenium.webdriver.remote.webelement.WebElement (session=\"c343cbb1f867d0148dd6b53407c4457e\", element=\"db7fecd3-1a6b-4f4f-b1e6-89a271b27347\")>,\n",
       " <selenium.webdriver.remote.webelement.WebElement (session=\"c343cbb1f867d0148dd6b53407c4457e\", element=\"6f140041-fbfe-43f4-a76e-8e2ac98ab0fc\")>,\n",
       " <selenium.webdriver.remote.webelement.WebElement (session=\"c343cbb1f867d0148dd6b53407c4457e\", element=\"4d3ff002-2761-4ec7-b728-c2212517394b\")>,\n",
       " <selenium.webdriver.remote.webelement.WebElement (session=\"c343cbb1f867d0148dd6b53407c4457e\", element=\"b06da111-6d98-47e9-9542-a821b433fb46\")>,\n",
       " <selenium.webdriver.remote.webelement.WebElement (session=\"c343cbb1f867d0148dd6b53407c4457e\", element=\"7369af0a-ee0c-46c1-947f-22225572d03d\")>,\n",
       " <selenium.webdriver.remote.webelement.WebElement (session=\"c343cbb1f867d0148dd6b53407c4457e\", element=\"f83dc93d-4580-4986-b03d-01f3b18f84c6\")>,\n",
       " <selenium.webdriver.remote.webelement.WebElement (session=\"c343cbb1f867d0148dd6b53407c4457e\", element=\"5c52990e-9cc2-424f-84ad-21b94ad488e8\")>,\n",
       " <selenium.webdriver.remote.webelement.WebElement (session=\"c343cbb1f867d0148dd6b53407c4457e\", element=\"fea253f0-fbd4-465d-a03e-a59761b08995\")>,\n",
       " <selenium.webdriver.remote.webelement.WebElement (session=\"c343cbb1f867d0148dd6b53407c4457e\", element=\"66c1e06b-aeb1-4ea1-9e71-e31c088596ff\")>,\n",
       " <selenium.webdriver.remote.webelement.WebElement (session=\"c343cbb1f867d0148dd6b53407c4457e\", element=\"efe82d55-2ed9-49ac-a279-b96457617dd3\")>,\n",
       " <selenium.webdriver.remote.webelement.WebElement (session=\"c343cbb1f867d0148dd6b53407c4457e\", element=\"7a79fa03-5ed2-42d2-a591-87373c27b277\")>,\n",
       " <selenium.webdriver.remote.webelement.WebElement (session=\"c343cbb1f867d0148dd6b53407c4457e\", element=\"e23dfe7d-3143-426c-83d5-176cb0709ab3\")>,\n",
       " <selenium.webdriver.remote.webelement.WebElement (session=\"c343cbb1f867d0148dd6b53407c4457e\", element=\"0c894864-98e9-47a9-affc-b4d0b65bc7d1\")>,\n",
       " <selenium.webdriver.remote.webelement.WebElement (session=\"c343cbb1f867d0148dd6b53407c4457e\", element=\"bd1139dd-a2be-4826-964f-c532d12ce1c8\")>,\n",
       " <selenium.webdriver.remote.webelement.WebElement (session=\"c343cbb1f867d0148dd6b53407c4457e\", element=\"6baabc9d-32d7-4629-bb6b-5f8b91cb5744\")>,\n",
       " <selenium.webdriver.remote.webelement.WebElement (session=\"c343cbb1f867d0148dd6b53407c4457e\", element=\"59c8ef1e-cc88-4dcb-b8c0-ce302c369004\")>,\n",
       " <selenium.webdriver.remote.webelement.WebElement (session=\"c343cbb1f867d0148dd6b53407c4457e\", element=\"d7ffe1a3-85ec-44dd-a597-52baa78ff10c\")>,\n",
       " <selenium.webdriver.remote.webelement.WebElement (session=\"c343cbb1f867d0148dd6b53407c4457e\", element=\"e7fab11b-f6f0-480c-b992-98ca8b5befcc\")>,\n",
       " <selenium.webdriver.remote.webelement.WebElement (session=\"c343cbb1f867d0148dd6b53407c4457e\", element=\"a6f9effb-eb4f-4f89-97f8-6d7e3b3ff519\")>,\n",
       " <selenium.webdriver.remote.webelement.WebElement (session=\"c343cbb1f867d0148dd6b53407c4457e\", element=\"ae51c11d-f20a-4a93-a6a0-054b10d51991\")>,\n",
       " <selenium.webdriver.remote.webelement.WebElement (session=\"c343cbb1f867d0148dd6b53407c4457e\", element=\"6d66e3c0-2d25-44f7-b486-e79a40baa2c5\")>,\n",
       " <selenium.webdriver.remote.webelement.WebElement (session=\"c343cbb1f867d0148dd6b53407c4457e\", element=\"e3c7ca54-c893-4688-9c57-ca8859723263\")>,\n",
       " <selenium.webdriver.remote.webelement.WebElement (session=\"c343cbb1f867d0148dd6b53407c4457e\", element=\"d6cd537a-2be1-4687-95b3-811380f94511\")>,\n",
       " <selenium.webdriver.remote.webelement.WebElement (session=\"c343cbb1f867d0148dd6b53407c4457e\", element=\"11530ad4-b9a3-42c2-b959-06539157d960\")>,\n",
       " <selenium.webdriver.remote.webelement.WebElement (session=\"c343cbb1f867d0148dd6b53407c4457e\", element=\"a9946b07-f668-453e-9051-8ce7f8b1b6db\")>,\n",
       " <selenium.webdriver.remote.webelement.WebElement (session=\"c343cbb1f867d0148dd6b53407c4457e\", element=\"7be28573-3e61-44ee-9976-2bce972b7f98\")>,\n",
       " <selenium.webdriver.remote.webelement.WebElement (session=\"c343cbb1f867d0148dd6b53407c4457e\", element=\"9f5ad9b1-839e-48fe-88e1-391f8be06774\")>,\n",
       " <selenium.webdriver.remote.webelement.WebElement (session=\"c343cbb1f867d0148dd6b53407c4457e\", element=\"15c5583a-7a3f-4330-b389-6542027c0910\")>,\n",
       " <selenium.webdriver.remote.webelement.WebElement (session=\"c343cbb1f867d0148dd6b53407c4457e\", element=\"557363ba-af0b-495d-8b34-62a926442bed\")>,\n",
       " <selenium.webdriver.remote.webelement.WebElement (session=\"c343cbb1f867d0148dd6b53407c4457e\", element=\"cfb8d0ee-b38e-4e08-b4b3-1895cf72720a\")>,\n",
       " <selenium.webdriver.remote.webelement.WebElement (session=\"c343cbb1f867d0148dd6b53407c4457e\", element=\"6e5dad4f-be0d-4a1e-b3a8-fca298fa12f3\")>,\n",
       " <selenium.webdriver.remote.webelement.WebElement (session=\"c343cbb1f867d0148dd6b53407c4457e\", element=\"9774f284-383e-4080-82d8-10d3d31347b2\")>,\n",
       " <selenium.webdriver.remote.webelement.WebElement (session=\"c343cbb1f867d0148dd6b53407c4457e\", element=\"bddd4978-eb2d-4db3-a170-29331d67cd79\")>,\n",
       " <selenium.webdriver.remote.webelement.WebElement (session=\"c343cbb1f867d0148dd6b53407c4457e\", element=\"586a14c1-29a7-4f0e-b193-b4bd031ab3ce\")>,\n",
       " <selenium.webdriver.remote.webelement.WebElement (session=\"c343cbb1f867d0148dd6b53407c4457e\", element=\"6822cd76-0791-421f-a429-84286b38eb4c\")>,\n",
       " <selenium.webdriver.remote.webelement.WebElement (session=\"c343cbb1f867d0148dd6b53407c4457e\", element=\"95317513-58c4-4e72-9af1-29e4c5caa2f4\")>]"
      ]
     },
     "execution_count": 230,
     "metadata": {},
     "output_type": "execute_result"
    }
   ],
   "source": [
    "Description=driver.find_elements_by_xpath(\"//a[@class='IRpwTa']\")\n",
    "Description"
   ]
  },
  {
   "cell_type": "code",
   "execution_count": 231,
   "id": "e00cdfa9",
   "metadata": {},
   "outputs": [],
   "source": [
    "for i in Description:\n",
    "    Product_Description.append(i.text)\n",
    " "
   ]
  },
  {
   "cell_type": "code",
   "execution_count": 232,
   "id": "8907e592",
   "metadata": {},
   "outputs": [
    {
     "data": {
      "text/plain": [
       "[<selenium.webdriver.remote.webelement.WebElement (session=\"c343cbb1f867d0148dd6b53407c4457e\", element=\"a2264194-68e8-418b-acd4-d289249316fb\")>,\n",
       " <selenium.webdriver.remote.webelement.WebElement (session=\"c343cbb1f867d0148dd6b53407c4457e\", element=\"e561ffbb-11f8-4a2b-b4eb-2345c1c76611\")>,\n",
       " <selenium.webdriver.remote.webelement.WebElement (session=\"c343cbb1f867d0148dd6b53407c4457e\", element=\"c27706db-b36e-4b74-a622-f2ca932d3069\")>,\n",
       " <selenium.webdriver.remote.webelement.WebElement (session=\"c343cbb1f867d0148dd6b53407c4457e\", element=\"9f59a528-bb18-4be0-bf54-646c0fed9dbe\")>,\n",
       " <selenium.webdriver.remote.webelement.WebElement (session=\"c343cbb1f867d0148dd6b53407c4457e\", element=\"c0a6bdd2-6a83-40cb-a116-d46fea16685a\")>,\n",
       " <selenium.webdriver.remote.webelement.WebElement (session=\"c343cbb1f867d0148dd6b53407c4457e\", element=\"33a72217-33d6-438a-b3ba-426527362b88\")>,\n",
       " <selenium.webdriver.remote.webelement.WebElement (session=\"c343cbb1f867d0148dd6b53407c4457e\", element=\"e150195e-3bfd-4581-b057-636957ed26aa\")>,\n",
       " <selenium.webdriver.remote.webelement.WebElement (session=\"c343cbb1f867d0148dd6b53407c4457e\", element=\"e8fd4de5-8194-4d2a-b739-d7ca6e46879f\")>,\n",
       " <selenium.webdriver.remote.webelement.WebElement (session=\"c343cbb1f867d0148dd6b53407c4457e\", element=\"f9c0970e-2b77-403a-9607-7478816c3270\")>,\n",
       " <selenium.webdriver.remote.webelement.WebElement (session=\"c343cbb1f867d0148dd6b53407c4457e\", element=\"679ec5ae-e75b-4ca7-ad81-41d2efda237f\")>,\n",
       " <selenium.webdriver.remote.webelement.WebElement (session=\"c343cbb1f867d0148dd6b53407c4457e\", element=\"ba192c3f-52fe-4d20-946b-4ca2f84c24a7\")>,\n",
       " <selenium.webdriver.remote.webelement.WebElement (session=\"c343cbb1f867d0148dd6b53407c4457e\", element=\"fd640db7-5f36-4d5d-a315-99f7bc808d48\")>,\n",
       " <selenium.webdriver.remote.webelement.WebElement (session=\"c343cbb1f867d0148dd6b53407c4457e\", element=\"1d6ff65f-e3ce-4634-a75e-da1e810e7e7b\")>,\n",
       " <selenium.webdriver.remote.webelement.WebElement (session=\"c343cbb1f867d0148dd6b53407c4457e\", element=\"051d6e16-e558-4f23-91f2-3ae431042fca\")>,\n",
       " <selenium.webdriver.remote.webelement.WebElement (session=\"c343cbb1f867d0148dd6b53407c4457e\", element=\"42ee8f53-cdb9-402d-a570-3976348dc0c2\")>,\n",
       " <selenium.webdriver.remote.webelement.WebElement (session=\"c343cbb1f867d0148dd6b53407c4457e\", element=\"50b9ebf6-e224-409c-9685-4091cc98b508\")>,\n",
       " <selenium.webdriver.remote.webelement.WebElement (session=\"c343cbb1f867d0148dd6b53407c4457e\", element=\"e56da2f5-8045-4c2b-b695-38f9e2f4e369\")>,\n",
       " <selenium.webdriver.remote.webelement.WebElement (session=\"c343cbb1f867d0148dd6b53407c4457e\", element=\"7862766b-f0f6-4764-a1c5-5ccd902f9f61\")>,\n",
       " <selenium.webdriver.remote.webelement.WebElement (session=\"c343cbb1f867d0148dd6b53407c4457e\", element=\"62300b83-c99e-4ff9-a5b3-eb7e229a5988\")>,\n",
       " <selenium.webdriver.remote.webelement.WebElement (session=\"c343cbb1f867d0148dd6b53407c4457e\", element=\"5d9a9a5a-a7f0-437e-b61c-5821af781b79\")>,\n",
       " <selenium.webdriver.remote.webelement.WebElement (session=\"c343cbb1f867d0148dd6b53407c4457e\", element=\"c3906817-c5bf-4065-a2ed-1b98528e75c4\")>,\n",
       " <selenium.webdriver.remote.webelement.WebElement (session=\"c343cbb1f867d0148dd6b53407c4457e\", element=\"ba70bc4b-a384-4e07-9c79-df1c200d7586\")>,\n",
       " <selenium.webdriver.remote.webelement.WebElement (session=\"c343cbb1f867d0148dd6b53407c4457e\", element=\"137810bd-f29c-44fa-af64-f0584658ea3d\")>,\n",
       " <selenium.webdriver.remote.webelement.WebElement (session=\"c343cbb1f867d0148dd6b53407c4457e\", element=\"8362651e-bde5-4c58-9e11-fa4fe861c665\")>,\n",
       " <selenium.webdriver.remote.webelement.WebElement (session=\"c343cbb1f867d0148dd6b53407c4457e\", element=\"a4e8afb8-b909-4d60-bd97-58fb5dd9e78a\")>,\n",
       " <selenium.webdriver.remote.webelement.WebElement (session=\"c343cbb1f867d0148dd6b53407c4457e\", element=\"11c3ca6f-3609-4383-9b8c-7a7fe2490a48\")>,\n",
       " <selenium.webdriver.remote.webelement.WebElement (session=\"c343cbb1f867d0148dd6b53407c4457e\", element=\"ecf0f109-aed8-45b1-b267-3bc0e0928a58\")>,\n",
       " <selenium.webdriver.remote.webelement.WebElement (session=\"c343cbb1f867d0148dd6b53407c4457e\", element=\"c2b89b13-9fe0-4721-97d4-8a6569e7b208\")>,\n",
       " <selenium.webdriver.remote.webelement.WebElement (session=\"c343cbb1f867d0148dd6b53407c4457e\", element=\"729766d4-c6c6-4f54-b04f-51395669e3e8\")>,\n",
       " <selenium.webdriver.remote.webelement.WebElement (session=\"c343cbb1f867d0148dd6b53407c4457e\", element=\"c2e89e48-41e4-493b-bc2e-737df82884d2\")>,\n",
       " <selenium.webdriver.remote.webelement.WebElement (session=\"c343cbb1f867d0148dd6b53407c4457e\", element=\"ab08a409-be05-4e80-9ace-4468c4874439\")>,\n",
       " <selenium.webdriver.remote.webelement.WebElement (session=\"c343cbb1f867d0148dd6b53407c4457e\", element=\"3fee5de5-925f-4ec7-95fc-96dbe68f926d\")>,\n",
       " <selenium.webdriver.remote.webelement.WebElement (session=\"c343cbb1f867d0148dd6b53407c4457e\", element=\"8926a779-b9a4-4990-bf2a-5aa3c0a2741c\")>,\n",
       " <selenium.webdriver.remote.webelement.WebElement (session=\"c343cbb1f867d0148dd6b53407c4457e\", element=\"62d9385b-3aac-4d1e-a329-7e183e2611c2\")>,\n",
       " <selenium.webdriver.remote.webelement.WebElement (session=\"c343cbb1f867d0148dd6b53407c4457e\", element=\"5ebcc783-9eac-4eca-8dc0-6abed0f56e49\")>,\n",
       " <selenium.webdriver.remote.webelement.WebElement (session=\"c343cbb1f867d0148dd6b53407c4457e\", element=\"13df0fd1-1d39-440d-aa92-8b8bc784d702\")>,\n",
       " <selenium.webdriver.remote.webelement.WebElement (session=\"c343cbb1f867d0148dd6b53407c4457e\", element=\"a891eb5a-9c26-480f-ae0e-54c26ecf4fd8\")>,\n",
       " <selenium.webdriver.remote.webelement.WebElement (session=\"c343cbb1f867d0148dd6b53407c4457e\", element=\"1fdf51e6-bdaf-4d78-871a-7a11fc40aeef\")>,\n",
       " <selenium.webdriver.remote.webelement.WebElement (session=\"c343cbb1f867d0148dd6b53407c4457e\", element=\"e571a9ca-67c2-4847-9b3f-afa7efed3bed\")>,\n",
       " <selenium.webdriver.remote.webelement.WebElement (session=\"c343cbb1f867d0148dd6b53407c4457e\", element=\"d5192006-79fe-4109-9985-aa69f3f66a7e\")>]"
      ]
     },
     "execution_count": 232,
     "metadata": {},
     "output_type": "execute_result"
    }
   ],
   "source": [
    "pri=driver.find_elements_by_xpath(\"//a[@class='_3bPFwb']\")\n",
    "pri"
   ]
  },
  {
   "cell_type": "code",
   "execution_count": 233,
   "id": "c7e03be5",
   "metadata": {},
   "outputs": [],
   "source": [
    "for i in pri:\n",
    "    price.append(i.text.replace('\\n','').split('₹')[1])"
   ]
  },
  {
   "cell_type": "code",
   "execution_count": 234,
   "id": "04fdf591",
   "metadata": {},
   "outputs": [
    {
     "name": "stdout",
     "output_type": "stream",
     "text": [
      "80 79 80\n"
     ]
    }
   ],
   "source": [
    "print(len(Brand_name),len(Product_Description),len(price))"
   ]
  },
  {
   "cell_type": "code",
   "execution_count": 235,
   "id": "4d74404a",
   "metadata": {},
   "outputs": [],
   "source": [
    "#we hbave to scarp 100 data so going on another page by clicking on the next btton\n",
    "ne=driver.find_element_by_xpath(\"/html/body/div[1]/div/div[3]/div[1]/div[2]/div[12]/div/div/nav/a[12]\")\n",
    "ne.click()\n",
    "time.sleep(5)"
   ]
  },
  {
   "cell_type": "code",
   "execution_count": 236,
   "id": "27acc276",
   "metadata": {},
   "outputs": [
    {
     "data": {
      "text/plain": [
       "[<selenium.webdriver.remote.webelement.WebElement (session=\"c343cbb1f867d0148dd6b53407c4457e\", element=\"96512d01-09a4-49f3-8d75-814fa911a85a\")>,\n",
       " <selenium.webdriver.remote.webelement.WebElement (session=\"c343cbb1f867d0148dd6b53407c4457e\", element=\"05981bf4-ed53-4155-b987-038e5d0f77ab\")>,\n",
       " <selenium.webdriver.remote.webelement.WebElement (session=\"c343cbb1f867d0148dd6b53407c4457e\", element=\"088b22aa-d6a6-405a-8a69-a2021cc46c4d\")>,\n",
       " <selenium.webdriver.remote.webelement.WebElement (session=\"c343cbb1f867d0148dd6b53407c4457e\", element=\"65af11f4-685f-4968-860b-7353f6063fca\")>,\n",
       " <selenium.webdriver.remote.webelement.WebElement (session=\"c343cbb1f867d0148dd6b53407c4457e\", element=\"3c014198-4ba7-4156-a7b7-ae3d205221a2\")>,\n",
       " <selenium.webdriver.remote.webelement.WebElement (session=\"c343cbb1f867d0148dd6b53407c4457e\", element=\"dd4c547d-8794-410f-a235-287a5f666ebc\")>,\n",
       " <selenium.webdriver.remote.webelement.WebElement (session=\"c343cbb1f867d0148dd6b53407c4457e\", element=\"83e067d4-690a-4a5e-8e5d-500af1d41616\")>,\n",
       " <selenium.webdriver.remote.webelement.WebElement (session=\"c343cbb1f867d0148dd6b53407c4457e\", element=\"468138aa-6af9-4c2f-a755-14d652b1a1c0\")>,\n",
       " <selenium.webdriver.remote.webelement.WebElement (session=\"c343cbb1f867d0148dd6b53407c4457e\", element=\"d25f6abf-5762-4615-b1a6-5b2b942d9ddf\")>,\n",
       " <selenium.webdriver.remote.webelement.WebElement (session=\"c343cbb1f867d0148dd6b53407c4457e\", element=\"fcc6bc49-d6ab-42d5-a127-a2d713d63d8e\")>,\n",
       " <selenium.webdriver.remote.webelement.WebElement (session=\"c343cbb1f867d0148dd6b53407c4457e\", element=\"95623969-772d-4ca4-b0c8-c96841f71227\")>,\n",
       " <selenium.webdriver.remote.webelement.WebElement (session=\"c343cbb1f867d0148dd6b53407c4457e\", element=\"63683f71-31e9-4643-a45b-5d39b457ab48\")>,\n",
       " <selenium.webdriver.remote.webelement.WebElement (session=\"c343cbb1f867d0148dd6b53407c4457e\", element=\"d2788064-a24e-4707-ae4a-4da775c24bda\")>,\n",
       " <selenium.webdriver.remote.webelement.WebElement (session=\"c343cbb1f867d0148dd6b53407c4457e\", element=\"9acaee83-fcd1-4f07-8836-bf963b83bbcf\")>,\n",
       " <selenium.webdriver.remote.webelement.WebElement (session=\"c343cbb1f867d0148dd6b53407c4457e\", element=\"0ede21f0-a1be-4276-979d-aacbe05f132a\")>,\n",
       " <selenium.webdriver.remote.webelement.WebElement (session=\"c343cbb1f867d0148dd6b53407c4457e\", element=\"a09c62c1-e14d-404d-9761-db87b7ff0db7\")>,\n",
       " <selenium.webdriver.remote.webelement.WebElement (session=\"c343cbb1f867d0148dd6b53407c4457e\", element=\"650867ce-d8b2-4386-a99a-029a14ccd15f\")>,\n",
       " <selenium.webdriver.remote.webelement.WebElement (session=\"c343cbb1f867d0148dd6b53407c4457e\", element=\"5fe49b53-df90-4bfc-9838-1056cb6abdd5\")>,\n",
       " <selenium.webdriver.remote.webelement.WebElement (session=\"c343cbb1f867d0148dd6b53407c4457e\", element=\"0d84d96d-7d52-49ca-8d5b-2d13381d8ca7\")>,\n",
       " <selenium.webdriver.remote.webelement.WebElement (session=\"c343cbb1f867d0148dd6b53407c4457e\", element=\"452d942c-b110-40fd-b92c-bab0397df1b2\")>,\n",
       " <selenium.webdriver.remote.webelement.WebElement (session=\"c343cbb1f867d0148dd6b53407c4457e\", element=\"a79889da-d24f-41b9-acd0-b30082d3e95d\")>,\n",
       " <selenium.webdriver.remote.webelement.WebElement (session=\"c343cbb1f867d0148dd6b53407c4457e\", element=\"2afbdc58-7115-46ad-bb4f-1071fbbe3fd4\")>,\n",
       " <selenium.webdriver.remote.webelement.WebElement (session=\"c343cbb1f867d0148dd6b53407c4457e\", element=\"ed610c77-0d25-485d-b39d-d0f0dc98c9c1\")>,\n",
       " <selenium.webdriver.remote.webelement.WebElement (session=\"c343cbb1f867d0148dd6b53407c4457e\", element=\"0a843e01-da4e-48aa-8470-f6e0bcad90f8\")>,\n",
       " <selenium.webdriver.remote.webelement.WebElement (session=\"c343cbb1f867d0148dd6b53407c4457e\", element=\"50e66910-5f48-4909-8f56-7cd5f6ebf390\")>,\n",
       " <selenium.webdriver.remote.webelement.WebElement (session=\"c343cbb1f867d0148dd6b53407c4457e\", element=\"d2a560f6-a2e1-4099-abb5-478c3b129629\")>,\n",
       " <selenium.webdriver.remote.webelement.WebElement (session=\"c343cbb1f867d0148dd6b53407c4457e\", element=\"d52f8934-59f4-4e20-8934-b7af68dcb487\")>,\n",
       " <selenium.webdriver.remote.webelement.WebElement (session=\"c343cbb1f867d0148dd6b53407c4457e\", element=\"f371d30f-a815-4fa9-bba9-c84c393d2d39\")>,\n",
       " <selenium.webdriver.remote.webelement.WebElement (session=\"c343cbb1f867d0148dd6b53407c4457e\", element=\"dfce206a-3e8d-4364-a3ca-aec8d8f6251b\")>,\n",
       " <selenium.webdriver.remote.webelement.WebElement (session=\"c343cbb1f867d0148dd6b53407c4457e\", element=\"01ff714f-c51f-4942-9f74-ae6843fc6965\")>,\n",
       " <selenium.webdriver.remote.webelement.WebElement (session=\"c343cbb1f867d0148dd6b53407c4457e\", element=\"a495ea58-feda-40b1-b9bb-6f23d1985b69\")>,\n",
       " <selenium.webdriver.remote.webelement.WebElement (session=\"c343cbb1f867d0148dd6b53407c4457e\", element=\"fe57a823-0846-4783-b8f4-fe22478d6573\")>,\n",
       " <selenium.webdriver.remote.webelement.WebElement (session=\"c343cbb1f867d0148dd6b53407c4457e\", element=\"2aa41cc7-a45b-40d4-a240-bc0640fc93a1\")>,\n",
       " <selenium.webdriver.remote.webelement.WebElement (session=\"c343cbb1f867d0148dd6b53407c4457e\", element=\"2262dded-e473-43c9-bbec-d8e5f8c914ea\")>,\n",
       " <selenium.webdriver.remote.webelement.WebElement (session=\"c343cbb1f867d0148dd6b53407c4457e\", element=\"411f3d01-fc61-4789-b30b-49d79a897320\")>,\n",
       " <selenium.webdriver.remote.webelement.WebElement (session=\"c343cbb1f867d0148dd6b53407c4457e\", element=\"6a388851-19fb-4eaf-8c23-04ca44dcb0a0\")>,\n",
       " <selenium.webdriver.remote.webelement.WebElement (session=\"c343cbb1f867d0148dd6b53407c4457e\", element=\"3acbf805-8e29-4478-b446-ee6d80fa6cc9\")>,\n",
       " <selenium.webdriver.remote.webelement.WebElement (session=\"c343cbb1f867d0148dd6b53407c4457e\", element=\"d193fca9-347f-49d7-af32-fff0cc5d881b\")>,\n",
       " <selenium.webdriver.remote.webelement.WebElement (session=\"c343cbb1f867d0148dd6b53407c4457e\", element=\"34178116-fcfb-4986-a242-11b938bb3eeb\")>,\n",
       " <selenium.webdriver.remote.webelement.WebElement (session=\"c343cbb1f867d0148dd6b53407c4457e\", element=\"299b12fa-273c-4d29-9e4e-ef3142036363\")>]"
      ]
     },
     "execution_count": 236,
     "metadata": {},
     "output_type": "execute_result"
    }
   ],
   "source": [
    "brand=driver.find_elements_by_xpath(\"//div[@class='_2WkVRV']\")\n",
    "brand"
   ]
  },
  {
   "cell_type": "code",
   "execution_count": 237,
   "id": "009f87cc",
   "metadata": {},
   "outputs": [
    {
     "data": {
      "text/plain": [
       "['Arnette',\n",
       " 'Singco India',\n",
       " 'Fastrack',\n",
       " 'Fastrack',\n",
       " 'Elligator',\n",
       " 'SUNBEE',\n",
       " 'PIRASO',\n",
       " 'Arnette',\n",
       " 'Lee Topper',\n",
       " 'Fastrack',\n",
       " 'DAHAAZIL',\n",
       " 'Arnette',\n",
       " 'Mi',\n",
       " 'PIRASO',\n",
       " 'Mi',\n",
       " 'Arnette',\n",
       " 'New Specs',\n",
       " 'Fastrack',\n",
       " 'SHAAH COLLECTIONS',\n",
       " 'VINCENT CHASE',\n",
       " 'PIRASO',\n",
       " 'PIRASO',\n",
       " 'HIPPON',\n",
       " 'Singco India',\n",
       " 'SRPM',\n",
       " 'hipe',\n",
       " 'PIRASO',\n",
       " 'VINCENT CHASE',\n",
       " 'SUNBEE',\n",
       " 'DEIXELS',\n",
       " 'Elligator',\n",
       " 'Singco India',\n",
       " 'PIRASO',\n",
       " 'ROZZETTA CRAFT',\n",
       " 'Mi',\n",
       " 'Arnette',\n",
       " 'Fastrack',\n",
       " 'ROZZETTA CRAFT',\n",
       " 'kingsunglasses',\n",
       " 'Arnette',\n",
       " 'Lee Topper',\n",
       " 'New Specs',\n",
       " 'Silver Kartz',\n",
       " 'Sewell',\n",
       " 'ROZZETTA CRAFT',\n",
       " 'Fastrack',\n",
       " 'Fastrack',\n",
       " 'Arnette',\n",
       " 'Fastrack',\n",
       " 'United Colors of Benetton',\n",
       " 'Fastrack',\n",
       " 'AISLIN',\n",
       " 'kingsunglasses',\n",
       " 'Fastrack',\n",
       " 'PIRASO',\n",
       " 'john jacobs',\n",
       " 'SRPM',\n",
       " 'New Specs',\n",
       " 'kingsunglasses',\n",
       " 'ROYAL SON',\n",
       " 'AISLIN',\n",
       " 'ROZZETTA CRAFT',\n",
       " 'VINCENT CHASE',\n",
       " 'ROZZETTA CRAFT',\n",
       " 'PIRASO',\n",
       " 'Poloport',\n",
       " 'New Specs',\n",
       " 'AISLIN',\n",
       " 'Lee Topper',\n",
       " 'Fastrack',\n",
       " 'GANSTA',\n",
       " 'VINCENT CHASE',\n",
       " 'NuVew',\n",
       " 'Fastrack',\n",
       " 'kingsunglasses',\n",
       " 'ROZZETTA CRAFT',\n",
       " 'Fastrack',\n",
       " 'hipe',\n",
       " 'ROYAL SON',\n",
       " 'VINCENT CHASE',\n",
       " 'VINCENT CHASE',\n",
       " 'Fastrack',\n",
       " 'PHENOMENAL',\n",
       " 'Arnette',\n",
       " 'Rich Club',\n",
       " 'AISLIN',\n",
       " 'Rich Club',\n",
       " 'Arnette',\n",
       " 'VINCENT CHASE',\n",
       " 'Singco India',\n",
       " 'PHENOMENAL',\n",
       " 'Arnette',\n",
       " 'ROYAL SON',\n",
       " 'PHENOMENAL',\n",
       " 'New Specs',\n",
       " 'Arnette',\n",
       " 'AISLIN',\n",
       " 'ROZZETTA CRAFT',\n",
       " 'United Colors of Benetton',\n",
       " 'ROYAL SON',\n",
       " 'Elligator',\n",
       " 'ROZZETTA CRAFT',\n",
       " 'Singco India',\n",
       " 'AISLIN',\n",
       " 'Elligator',\n",
       " 'New Specs',\n",
       " 'Fastrack',\n",
       " 'ROZZETTA CRAFT',\n",
       " 'Singco India',\n",
       " 'Fastrack',\n",
       " 'Fastrack',\n",
       " 'VINCENT CHASE',\n",
       " 'hipe',\n",
       " 'Poloport',\n",
       " 'Urbanic',\n",
       " 'ROZZETTA CRAFT',\n",
       " 'Roadster',\n",
       " 'GANSTA',\n",
       " 'ROZZETTA CRAFT',\n",
       " 'SKYZA INDIA']"
      ]
     },
     "execution_count": 237,
     "metadata": {},
     "output_type": "execute_result"
    }
   ],
   "source": [
    "for i in brand:\n",
    "    Brand_name.append(i.text)\n",
    "Brand_name"
   ]
  },
  {
   "cell_type": "code",
   "execution_count": 238,
   "id": "d12812af",
   "metadata": {},
   "outputs": [
    {
     "data": {
      "text/plain": [
       "[<selenium.webdriver.remote.webelement.WebElement (session=\"c343cbb1f867d0148dd6b53407c4457e\", element=\"2136a487-dfb0-4564-aec7-bac6a3bf1038\")>,\n",
       " <selenium.webdriver.remote.webelement.WebElement (session=\"c343cbb1f867d0148dd6b53407c4457e\", element=\"1c3de01e-b3a0-4b9e-80b8-1ee6a8380c1d\")>,\n",
       " <selenium.webdriver.remote.webelement.WebElement (session=\"c343cbb1f867d0148dd6b53407c4457e\", element=\"2ed093e8-f20d-4c84-b801-2ac5ea7eb334\")>,\n",
       " <selenium.webdriver.remote.webelement.WebElement (session=\"c343cbb1f867d0148dd6b53407c4457e\", element=\"23440461-3647-4dcb-a1f1-8e2b99a18052\")>,\n",
       " <selenium.webdriver.remote.webelement.WebElement (session=\"c343cbb1f867d0148dd6b53407c4457e\", element=\"4997f8f1-ebab-4563-9f6d-486e0d2366aa\")>,\n",
       " <selenium.webdriver.remote.webelement.WebElement (session=\"c343cbb1f867d0148dd6b53407c4457e\", element=\"9e070275-d1e3-4285-bc50-bc0faa913900\")>,\n",
       " <selenium.webdriver.remote.webelement.WebElement (session=\"c343cbb1f867d0148dd6b53407c4457e\", element=\"3ba537f6-c374-4fb1-90a9-177e53a472ce\")>,\n",
       " <selenium.webdriver.remote.webelement.WebElement (session=\"c343cbb1f867d0148dd6b53407c4457e\", element=\"036fa1cc-6270-4717-91eb-f445a0bb5355\")>,\n",
       " <selenium.webdriver.remote.webelement.WebElement (session=\"c343cbb1f867d0148dd6b53407c4457e\", element=\"6048ffbb-caa5-4747-8805-58f8240b3859\")>,\n",
       " <selenium.webdriver.remote.webelement.WebElement (session=\"c343cbb1f867d0148dd6b53407c4457e\", element=\"1f7ca184-9ec3-409f-9fb2-7dcae1af0593\")>,\n",
       " <selenium.webdriver.remote.webelement.WebElement (session=\"c343cbb1f867d0148dd6b53407c4457e\", element=\"be963383-3f43-443c-85ef-d461f05386a8\")>,\n",
       " <selenium.webdriver.remote.webelement.WebElement (session=\"c343cbb1f867d0148dd6b53407c4457e\", element=\"523bd4a5-d007-4f3d-a484-92cdf39a2165\")>,\n",
       " <selenium.webdriver.remote.webelement.WebElement (session=\"c343cbb1f867d0148dd6b53407c4457e\", element=\"52d0649b-cd51-4c6b-abb6-a280ebf69718\")>,\n",
       " <selenium.webdriver.remote.webelement.WebElement (session=\"c343cbb1f867d0148dd6b53407c4457e\", element=\"a8da6ac8-a325-4dc0-a7d3-cb5cf11772cc\")>,\n",
       " <selenium.webdriver.remote.webelement.WebElement (session=\"c343cbb1f867d0148dd6b53407c4457e\", element=\"7b1bfea8-1407-4bd1-b4c8-1ffb32dd87f8\")>,\n",
       " <selenium.webdriver.remote.webelement.WebElement (session=\"c343cbb1f867d0148dd6b53407c4457e\", element=\"b744f181-6360-4228-9dc4-0709b1e66ed9\")>,\n",
       " <selenium.webdriver.remote.webelement.WebElement (session=\"c343cbb1f867d0148dd6b53407c4457e\", element=\"b730b044-fcd9-4f21-94ea-dafcf5ee59e4\")>,\n",
       " <selenium.webdriver.remote.webelement.WebElement (session=\"c343cbb1f867d0148dd6b53407c4457e\", element=\"a02afd8c-1fa9-4f3c-a289-bfbfa76bea9f\")>,\n",
       " <selenium.webdriver.remote.webelement.WebElement (session=\"c343cbb1f867d0148dd6b53407c4457e\", element=\"4e8a117f-8b96-435a-a3d9-46877f88f8ce\")>,\n",
       " <selenium.webdriver.remote.webelement.WebElement (session=\"c343cbb1f867d0148dd6b53407c4457e\", element=\"ab369464-855d-4826-81ea-3ec697a65642\")>,\n",
       " <selenium.webdriver.remote.webelement.WebElement (session=\"c343cbb1f867d0148dd6b53407c4457e\", element=\"f14e75be-2457-4124-9870-545d82b21e40\")>,\n",
       " <selenium.webdriver.remote.webelement.WebElement (session=\"c343cbb1f867d0148dd6b53407c4457e\", element=\"b21129b3-c68f-426a-8ea3-0d5e45324bd7\")>,\n",
       " <selenium.webdriver.remote.webelement.WebElement (session=\"c343cbb1f867d0148dd6b53407c4457e\", element=\"79f2dd21-9b0a-44d1-9fc1-2feb00ca997b\")>,\n",
       " <selenium.webdriver.remote.webelement.WebElement (session=\"c343cbb1f867d0148dd6b53407c4457e\", element=\"78549e5b-3559-4497-8745-24a9254013a0\")>,\n",
       " <selenium.webdriver.remote.webelement.WebElement (session=\"c343cbb1f867d0148dd6b53407c4457e\", element=\"c259b2fa-53ec-45d0-a103-ed3dc25f15fc\")>,\n",
       " <selenium.webdriver.remote.webelement.WebElement (session=\"c343cbb1f867d0148dd6b53407c4457e\", element=\"1fe3013d-b2c4-424e-a271-39a05721ea68\")>,\n",
       " <selenium.webdriver.remote.webelement.WebElement (session=\"c343cbb1f867d0148dd6b53407c4457e\", element=\"16a750a4-cb34-4c94-9cc5-ade90b1e3305\")>,\n",
       " <selenium.webdriver.remote.webelement.WebElement (session=\"c343cbb1f867d0148dd6b53407c4457e\", element=\"c27d4b5e-b989-43fe-8ec7-13e16d6c9457\")>,\n",
       " <selenium.webdriver.remote.webelement.WebElement (session=\"c343cbb1f867d0148dd6b53407c4457e\", element=\"12cedbde-cd4c-4304-837e-a1f37aa17b3f\")>,\n",
       " <selenium.webdriver.remote.webelement.WebElement (session=\"c343cbb1f867d0148dd6b53407c4457e\", element=\"228fe907-04f1-48b3-a7a1-be64b1c606bd\")>,\n",
       " <selenium.webdriver.remote.webelement.WebElement (session=\"c343cbb1f867d0148dd6b53407c4457e\", element=\"8a147eac-4083-492d-b08f-50aeb90aec0e\")>,\n",
       " <selenium.webdriver.remote.webelement.WebElement (session=\"c343cbb1f867d0148dd6b53407c4457e\", element=\"f14d0ea9-b564-4f4a-83f9-af6b6639574f\")>,\n",
       " <selenium.webdriver.remote.webelement.WebElement (session=\"c343cbb1f867d0148dd6b53407c4457e\", element=\"af33ba54-ec5c-43e3-9c96-32fd73c84c87\")>,\n",
       " <selenium.webdriver.remote.webelement.WebElement (session=\"c343cbb1f867d0148dd6b53407c4457e\", element=\"975b6dba-0e97-4c2f-bb46-85ff636e0704\")>,\n",
       " <selenium.webdriver.remote.webelement.WebElement (session=\"c343cbb1f867d0148dd6b53407c4457e\", element=\"c33be5d2-583d-46ce-a7cf-7a45a1b6091a\")>,\n",
       " <selenium.webdriver.remote.webelement.WebElement (session=\"c343cbb1f867d0148dd6b53407c4457e\", element=\"a45040c8-c9eb-4413-bec3-1d911a93af90\")>,\n",
       " <selenium.webdriver.remote.webelement.WebElement (session=\"c343cbb1f867d0148dd6b53407c4457e\", element=\"222f21bb-4771-4dd4-96e3-4e3092028df7\")>,\n",
       " <selenium.webdriver.remote.webelement.WebElement (session=\"c343cbb1f867d0148dd6b53407c4457e\", element=\"2acab50c-a791-4da7-94ac-3b8cfc91fd17\")>,\n",
       " <selenium.webdriver.remote.webelement.WebElement (session=\"c343cbb1f867d0148dd6b53407c4457e\", element=\"62c0c50c-0f4b-48c5-9f1e-e9833f1a6744\")>]"
      ]
     },
     "execution_count": 238,
     "metadata": {},
     "output_type": "execute_result"
    }
   ],
   "source": [
    "Description=driver.find_elements_by_xpath(\"//a[@class='IRpwTa']\")\n",
    "Description"
   ]
  },
  {
   "cell_type": "code",
   "execution_count": 239,
   "id": "2fd57dc7",
   "metadata": {},
   "outputs": [],
   "source": [
    "for i in Description:\n",
    "    Product_Description.append(i.text) "
   ]
  },
  {
   "cell_type": "code",
   "execution_count": 240,
   "id": "66c223fc",
   "metadata": {},
   "outputs": [
    {
     "data": {
      "text/plain": [
       "[<selenium.webdriver.remote.webelement.WebElement (session=\"c343cbb1f867d0148dd6b53407c4457e\", element=\"c1c7cfc2-1a1f-4b74-abb5-8e5377db8cff\")>,\n",
       " <selenium.webdriver.remote.webelement.WebElement (session=\"c343cbb1f867d0148dd6b53407c4457e\", element=\"b5847afe-6431-4537-b2d4-24d5dead4b7b\")>,\n",
       " <selenium.webdriver.remote.webelement.WebElement (session=\"c343cbb1f867d0148dd6b53407c4457e\", element=\"a7845594-1331-47f2-84a7-c4a5699dce1f\")>,\n",
       " <selenium.webdriver.remote.webelement.WebElement (session=\"c343cbb1f867d0148dd6b53407c4457e\", element=\"08ce2eb8-6fdd-4e47-8729-d1d74e071d4a\")>,\n",
       " <selenium.webdriver.remote.webelement.WebElement (session=\"c343cbb1f867d0148dd6b53407c4457e\", element=\"0cad54b2-0a93-406b-9260-a9c41ee017f3\")>,\n",
       " <selenium.webdriver.remote.webelement.WebElement (session=\"c343cbb1f867d0148dd6b53407c4457e\", element=\"44bc492b-628c-4a54-a7f4-5e18d157cda1\")>,\n",
       " <selenium.webdriver.remote.webelement.WebElement (session=\"c343cbb1f867d0148dd6b53407c4457e\", element=\"79d706d5-97fb-4b2e-b395-7846dc645f2a\")>,\n",
       " <selenium.webdriver.remote.webelement.WebElement (session=\"c343cbb1f867d0148dd6b53407c4457e\", element=\"91fa75d1-cd12-479d-8f4a-ca7e0887c66e\")>,\n",
       " <selenium.webdriver.remote.webelement.WebElement (session=\"c343cbb1f867d0148dd6b53407c4457e\", element=\"b10a05a9-3462-450e-b761-294d700e0cd3\")>,\n",
       " <selenium.webdriver.remote.webelement.WebElement (session=\"c343cbb1f867d0148dd6b53407c4457e\", element=\"464efde1-f91e-4fec-a75f-2650695dbca5\")>,\n",
       " <selenium.webdriver.remote.webelement.WebElement (session=\"c343cbb1f867d0148dd6b53407c4457e\", element=\"7ad6134a-7c56-417f-af90-ea4a05b7989b\")>,\n",
       " <selenium.webdriver.remote.webelement.WebElement (session=\"c343cbb1f867d0148dd6b53407c4457e\", element=\"6dea51bb-a5ea-4ae8-aef6-3394b97a7e59\")>,\n",
       " <selenium.webdriver.remote.webelement.WebElement (session=\"c343cbb1f867d0148dd6b53407c4457e\", element=\"74a1e53b-8610-44f1-92ef-383400c8d91d\")>,\n",
       " <selenium.webdriver.remote.webelement.WebElement (session=\"c343cbb1f867d0148dd6b53407c4457e\", element=\"bd9bcd5c-cab5-4d41-bb1d-39386caa0b79\")>,\n",
       " <selenium.webdriver.remote.webelement.WebElement (session=\"c343cbb1f867d0148dd6b53407c4457e\", element=\"b4fbec8c-3ee7-4407-8a8b-148b6b394a3e\")>,\n",
       " <selenium.webdriver.remote.webelement.WebElement (session=\"c343cbb1f867d0148dd6b53407c4457e\", element=\"98ca40cd-7851-46e2-a990-6cdfee6cbec3\")>,\n",
       " <selenium.webdriver.remote.webelement.WebElement (session=\"c343cbb1f867d0148dd6b53407c4457e\", element=\"847e6bfa-4f33-4181-a16a-bf475f2af488\")>,\n",
       " <selenium.webdriver.remote.webelement.WebElement (session=\"c343cbb1f867d0148dd6b53407c4457e\", element=\"e0572f6a-ac24-4fc1-b448-e759c0cb50fd\")>,\n",
       " <selenium.webdriver.remote.webelement.WebElement (session=\"c343cbb1f867d0148dd6b53407c4457e\", element=\"852a4b9c-940d-4228-9761-6240d3fbdfb2\")>,\n",
       " <selenium.webdriver.remote.webelement.WebElement (session=\"c343cbb1f867d0148dd6b53407c4457e\", element=\"03a49503-4b5b-4a14-a5d9-64b009665965\")>,\n",
       " <selenium.webdriver.remote.webelement.WebElement (session=\"c343cbb1f867d0148dd6b53407c4457e\", element=\"1531bab7-4ee9-46ba-9e30-2381fa282511\")>,\n",
       " <selenium.webdriver.remote.webelement.WebElement (session=\"c343cbb1f867d0148dd6b53407c4457e\", element=\"e8478399-5053-4734-8c79-a94559c68257\")>,\n",
       " <selenium.webdriver.remote.webelement.WebElement (session=\"c343cbb1f867d0148dd6b53407c4457e\", element=\"e9c71e45-e65f-4fe3-a768-26727426dcbf\")>,\n",
       " <selenium.webdriver.remote.webelement.WebElement (session=\"c343cbb1f867d0148dd6b53407c4457e\", element=\"689d5aad-5fe6-4480-a06f-d0288c620539\")>,\n",
       " <selenium.webdriver.remote.webelement.WebElement (session=\"c343cbb1f867d0148dd6b53407c4457e\", element=\"a1a6cd5d-e968-401c-928d-ddfa03991861\")>,\n",
       " <selenium.webdriver.remote.webelement.WebElement (session=\"c343cbb1f867d0148dd6b53407c4457e\", element=\"444a4c91-0d4c-402a-8fe9-0f2e599b21bc\")>,\n",
       " <selenium.webdriver.remote.webelement.WebElement (session=\"c343cbb1f867d0148dd6b53407c4457e\", element=\"0976bae1-4559-42a7-bd66-f311cec770ca\")>,\n",
       " <selenium.webdriver.remote.webelement.WebElement (session=\"c343cbb1f867d0148dd6b53407c4457e\", element=\"c70c4003-950e-4452-91d7-3b8bcdbf9607\")>,\n",
       " <selenium.webdriver.remote.webelement.WebElement (session=\"c343cbb1f867d0148dd6b53407c4457e\", element=\"fe48b9ee-9a67-410d-a64c-92063d0854d0\")>,\n",
       " <selenium.webdriver.remote.webelement.WebElement (session=\"c343cbb1f867d0148dd6b53407c4457e\", element=\"9605c0b2-fd68-43f0-ab2e-606b6b58f179\")>,\n",
       " <selenium.webdriver.remote.webelement.WebElement (session=\"c343cbb1f867d0148dd6b53407c4457e\", element=\"56ad29dc-6710-4e25-aded-44e236f37a1c\")>,\n",
       " <selenium.webdriver.remote.webelement.WebElement (session=\"c343cbb1f867d0148dd6b53407c4457e\", element=\"e7122bfb-bb38-4d72-a2e8-a77a44ce0275\")>,\n",
       " <selenium.webdriver.remote.webelement.WebElement (session=\"c343cbb1f867d0148dd6b53407c4457e\", element=\"502e262a-80b0-4730-a2da-1cd617cf3849\")>,\n",
       " <selenium.webdriver.remote.webelement.WebElement (session=\"c343cbb1f867d0148dd6b53407c4457e\", element=\"861ebbd2-0a7e-45a8-8b5b-a1d54e6fb4d7\")>,\n",
       " <selenium.webdriver.remote.webelement.WebElement (session=\"c343cbb1f867d0148dd6b53407c4457e\", element=\"2c45fd63-0589-4a81-8d92-db97edcfed50\")>,\n",
       " <selenium.webdriver.remote.webelement.WebElement (session=\"c343cbb1f867d0148dd6b53407c4457e\", element=\"9ccaea12-55b7-4a75-ad59-bdb517fb0484\")>,\n",
       " <selenium.webdriver.remote.webelement.WebElement (session=\"c343cbb1f867d0148dd6b53407c4457e\", element=\"535ec8bf-5e95-463c-9038-6a3fb1f08189\")>,\n",
       " <selenium.webdriver.remote.webelement.WebElement (session=\"c343cbb1f867d0148dd6b53407c4457e\", element=\"9d20d301-a790-4e7e-8e59-7236b888ec1c\")>,\n",
       " <selenium.webdriver.remote.webelement.WebElement (session=\"c343cbb1f867d0148dd6b53407c4457e\", element=\"48934f0e-343b-4146-a647-eaf1d1ad8ec0\")>,\n",
       " <selenium.webdriver.remote.webelement.WebElement (session=\"c343cbb1f867d0148dd6b53407c4457e\", element=\"72948e57-b778-4617-a304-19c90e03029d\")>]"
      ]
     },
     "execution_count": 240,
     "metadata": {},
     "output_type": "execute_result"
    }
   ],
   "source": [
    "pri=driver.find_elements_by_xpath(\"//a[@class='_3bPFwb']\")\n",
    "pri"
   ]
  },
  {
   "cell_type": "code",
   "execution_count": 241,
   "id": "79d45f2a",
   "metadata": {},
   "outputs": [],
   "source": [
    "for i in pri:\n",
    "    price.append(i.text.replace('\\n','').split('₹')[1])"
   ]
  },
  {
   "cell_type": "code",
   "execution_count": 242,
   "id": "2f354b1f",
   "metadata": {},
   "outputs": [
    {
     "name": "stdout",
     "output_type": "stream",
     "text": [
      "120 118 120\n"
     ]
    }
   ],
   "source": [
    "print(len(Brand_name),len(Product_Description),len(price))"
   ]
  },
  {
   "cell_type": "code",
   "execution_count": 243,
   "id": "096be618",
   "metadata": {},
   "outputs": [
    {
     "data": {
      "text/html": [
       "<div>\n",
       "<style scoped>\n",
       "    .dataframe tbody tr th:only-of-type {\n",
       "        vertical-align: middle;\n",
       "    }\n",
       "\n",
       "    .dataframe tbody tr th {\n",
       "        vertical-align: top;\n",
       "    }\n",
       "\n",
       "    .dataframe thead th {\n",
       "        text-align: right;\n",
       "    }\n",
       "</style>\n",
       "<table border=\"1\" class=\"dataframe\">\n",
       "  <thead>\n",
       "    <tr style=\"text-align: right;\">\n",
       "      <th></th>\n",
       "      <th>Brand Name</th>\n",
       "      <th>Product Description</th>\n",
       "      <th>Price</th>\n",
       "    </tr>\n",
       "  </thead>\n",
       "  <tbody>\n",
       "    <tr>\n",
       "      <th>0</th>\n",
       "      <td>Arnette</td>\n",
       "      <td>Others Rectangular Sunglasses (56)</td>\n",
       "      <td>4,149</td>\n",
       "    </tr>\n",
       "    <tr>\n",
       "      <th>1</th>\n",
       "      <td>Singco India</td>\n",
       "      <td>Gradient, Toughened Glass Lens, UV Protection ...</td>\n",
       "      <td>614</td>\n",
       "    </tr>\n",
       "    <tr>\n",
       "      <th>2</th>\n",
       "      <td>Fastrack</td>\n",
       "      <td>UV Protection Wayfarer Sunglasses (Free Size)</td>\n",
       "      <td>669</td>\n",
       "    </tr>\n",
       "    <tr>\n",
       "      <th>3</th>\n",
       "      <td>Fastrack</td>\n",
       "      <td>UV Protection Rectangular Sunglasses (Free Size)</td>\n",
       "      <td>525</td>\n",
       "    </tr>\n",
       "    <tr>\n",
       "      <th>4</th>\n",
       "      <td>Elligator</td>\n",
       "      <td>UV Protection Round Sunglasses (54)</td>\n",
       "      <td>305</td>\n",
       "    </tr>\n",
       "    <tr>\n",
       "      <th>...</th>\n",
       "      <td>...</td>\n",
       "      <td>...</td>\n",
       "      <td>...</td>\n",
       "    </tr>\n",
       "    <tr>\n",
       "      <th>95</th>\n",
       "      <td>Arnette</td>\n",
       "      <td>UV Protection, Gradient Round, Cat-eye Sunglas...</td>\n",
       "      <td>3,399</td>\n",
       "    </tr>\n",
       "    <tr>\n",
       "      <th>96</th>\n",
       "      <td>AISLIN</td>\n",
       "      <td>UV Protection, Gradient Retro Square Sunglasse...</td>\n",
       "      <td>448</td>\n",
       "    </tr>\n",
       "    <tr>\n",
       "      <th>97</th>\n",
       "      <td>ROZZETTA CRAFT</td>\n",
       "      <td>Mirrored, UV Protection Round Sunglasses (57)</td>\n",
       "      <td>299</td>\n",
       "    </tr>\n",
       "    <tr>\n",
       "      <th>98</th>\n",
       "      <td>United Colors of Benetton</td>\n",
       "      <td>UV Protection Retro Square, Round Sunglasses (54)</td>\n",
       "      <td>949</td>\n",
       "    </tr>\n",
       "    <tr>\n",
       "      <th>99</th>\n",
       "      <td>ROYAL SON</td>\n",
       "      <td>UV Protection, Gradient Rectangular Sunglasses...</td>\n",
       "      <td>649</td>\n",
       "    </tr>\n",
       "  </tbody>\n",
       "</table>\n",
       "<p>100 rows × 3 columns</p>\n",
       "</div>"
      ],
      "text/plain": [
       "                   Brand Name  \\\n",
       "0                     Arnette   \n",
       "1                Singco India   \n",
       "2                    Fastrack   \n",
       "3                    Fastrack   \n",
       "4                   Elligator   \n",
       "..                        ...   \n",
       "95                    Arnette   \n",
       "96                     AISLIN   \n",
       "97             ROZZETTA CRAFT   \n",
       "98  United Colors of Benetton   \n",
       "99                  ROYAL SON   \n",
       "\n",
       "                                  Product Description  Price  \n",
       "0                  Others Rectangular Sunglasses (56)  4,149  \n",
       "1   Gradient, Toughened Glass Lens, UV Protection ...    614  \n",
       "2       UV Protection Wayfarer Sunglasses (Free Size)    669  \n",
       "3    UV Protection Rectangular Sunglasses (Free Size)    525  \n",
       "4                 UV Protection Round Sunglasses (54)    305  \n",
       "..                                                ...    ...  \n",
       "95  UV Protection, Gradient Round, Cat-eye Sunglas...  3,399  \n",
       "96  UV Protection, Gradient Retro Square Sunglasse...    448  \n",
       "97      Mirrored, UV Protection Round Sunglasses (57)    299  \n",
       "98  UV Protection Retro Square, Round Sunglasses (54)    949  \n",
       "99  UV Protection, Gradient Rectangular Sunglasses...    649  \n",
       "\n",
       "[100 rows x 3 columns]"
      ]
     },
     "execution_count": 243,
     "metadata": {},
     "output_type": "execute_result"
    }
   ],
   "source": [
    "df=pd.DataFrame({('Brand Name'):Brand_name[0:100],('Product Description'):Product_Description[0:100],('Price'):price[0:100]})\n",
    "df"
   ]
  },
  {
   "cell_type": "code",
   "execution_count": 244,
   "id": "840a3cc5",
   "metadata": {},
   "outputs": [],
   "source": [
    "driver.close()"
   ]
  },
  {
   "cell_type": "code",
   "execution_count": 245,
   "id": "35d91115",
   "metadata": {},
   "outputs": [],
   "source": [
    "#Q5: Scrape 100 reviews data from flipkart.com for iphone11 phone. You have to go the link: \n",
    "#https://www.flipkart.com/apple-iphone-11-black-64-gb-includes- earpods-power- adapter/p/itm0f37c2240b217?pid=MOBFKCTSVZAXUHGR&lid=LSTMOBFKC TSVZAXUHGREPBFGI&marketplace.\n",
    "#When you will open the above link you will reach to the below shown webpage .\n",
    "#These are:\n",
    "#1. Rating \n",
    "#2. Review summary \n",
    "#3. Full review#4. You have to scrape this data for first 100 reviews. "
   ]
  },
  {
   "cell_type": "code",
   "execution_count": 246,
   "id": "8205402a",
   "metadata": {},
   "outputs": [],
   "source": [
    "#connecting web driver to the installed libaray\n",
    "driver = webdriver.Chrome(\"C:/Users/Ankit anand/selenium/chromedriver.exe\")\n",
    "#commanding driver to open the url\n",
    "driver.get('https://www.flipkart.com/apple-iphone-11-black-64-gb-includes-%20earpods-power-%20adapter/p/itm0f37c2240b217?pid=MOBFKCTSVZAXUHGR&lid=LSTMOBFKC%20TSVZAXUHGREPBFGI&marketplace.')\n",
    "#commanding driver to wait for 5 sec \n",
    "time.sleep(5)\n",
    "#clickinig on the link for all reviews\n",
    "cli=driver.find_element_by_xpath(\"//div[@class='_3UAT2v _16PBlm']/span\")\n",
    "cli.click()\n",
    "time.sleep(5)"
   ]
  },
  {
   "cell_type": "code",
   "execution_count": 247,
   "id": "ca57bbff",
   "metadata": {},
   "outputs": [
    {
     "data": {
      "text/plain": [
       "[<selenium.webdriver.remote.webelement.WebElement (session=\"a1a5a2a639579a1b766bb8cbfcc82b1e\", element=\"70039fd5-0a38-4a1c-8223-0b73199ffa2e\")>,\n",
       " <selenium.webdriver.remote.webelement.WebElement (session=\"a1a5a2a639579a1b766bb8cbfcc82b1e\", element=\"96f0ca1f-a8a1-4794-a7b0-6f9922d1465d\")>,\n",
       " <selenium.webdriver.remote.webelement.WebElement (session=\"a1a5a2a639579a1b766bb8cbfcc82b1e\", element=\"637467ca-9f8f-4439-b233-cbc81d69f2f7\")>,\n",
       " <selenium.webdriver.remote.webelement.WebElement (session=\"a1a5a2a639579a1b766bb8cbfcc82b1e\", element=\"d35ee5f0-e0ba-4247-9ae9-775539217cda\")>,\n",
       " <selenium.webdriver.remote.webelement.WebElement (session=\"a1a5a2a639579a1b766bb8cbfcc82b1e\", element=\"6dc2581a-5cb5-448c-aca8-3c5058c550c1\")>,\n",
       " <selenium.webdriver.remote.webelement.WebElement (session=\"a1a5a2a639579a1b766bb8cbfcc82b1e\", element=\"5f342f74-0274-4c2b-a06d-e88fd9e7ee3d\")>,\n",
       " <selenium.webdriver.remote.webelement.WebElement (session=\"a1a5a2a639579a1b766bb8cbfcc82b1e\", element=\"c84ce20b-84f8-435a-8c24-763e62c60951\")>,\n",
       " <selenium.webdriver.remote.webelement.WebElement (session=\"a1a5a2a639579a1b766bb8cbfcc82b1e\", element=\"a09b0b74-ff1b-4a61-bd6b-cbc48e6acf7d\")>,\n",
       " <selenium.webdriver.remote.webelement.WebElement (session=\"a1a5a2a639579a1b766bb8cbfcc82b1e\", element=\"303ba99d-1da2-4776-8f14-2ffd2f3a7022\")>,\n",
       " <selenium.webdriver.remote.webelement.WebElement (session=\"a1a5a2a639579a1b766bb8cbfcc82b1e\", element=\"bac174d2-558b-4978-9252-4b4166f51e59\")>]"
      ]
     },
     "execution_count": 247,
     "metadata": {},
     "output_type": "execute_result"
    }
   ],
   "source": [
    "rating=driver.find_elements_by_xpath(\"//div[@class='_3LWZlK _1BLPMq']\")\n",
    "rating"
   ]
  },
  {
   "cell_type": "code",
   "execution_count": 248,
   "id": "bf507e4a",
   "metadata": {},
   "outputs": [],
   "source": [
    "ratings=[]\n",
    "for i in rating:\n",
    "    ratings.append(i.text)    "
   ]
  },
  {
   "cell_type": "code",
   "execution_count": 249,
   "id": "0dcbb5bd",
   "metadata": {},
   "outputs": [
    {
     "data": {
      "text/plain": [
       "[<selenium.webdriver.remote.webelement.WebElement (session=\"a1a5a2a639579a1b766bb8cbfcc82b1e\", element=\"1577d063-9dba-4fc7-81e5-50362b19a884\")>,\n",
       " <selenium.webdriver.remote.webelement.WebElement (session=\"a1a5a2a639579a1b766bb8cbfcc82b1e\", element=\"bc16cb0f-cf81-479e-92fd-3b5a90945eb3\")>,\n",
       " <selenium.webdriver.remote.webelement.WebElement (session=\"a1a5a2a639579a1b766bb8cbfcc82b1e\", element=\"c40dac93-df56-4117-ac6b-22ee97ad4d30\")>,\n",
       " <selenium.webdriver.remote.webelement.WebElement (session=\"a1a5a2a639579a1b766bb8cbfcc82b1e\", element=\"30257b68-6260-4eea-9b1a-d2daa638ddb7\")>,\n",
       " <selenium.webdriver.remote.webelement.WebElement (session=\"a1a5a2a639579a1b766bb8cbfcc82b1e\", element=\"dc3c39b2-5b25-477b-ac1c-9c6e352133e9\")>,\n",
       " <selenium.webdriver.remote.webelement.WebElement (session=\"a1a5a2a639579a1b766bb8cbfcc82b1e\", element=\"be0a41f2-2693-43e5-9acc-b480758b22f5\")>,\n",
       " <selenium.webdriver.remote.webelement.WebElement (session=\"a1a5a2a639579a1b766bb8cbfcc82b1e\", element=\"6dcd4ee6-55c7-4fcf-ac78-b5c8a5528b0f\")>,\n",
       " <selenium.webdriver.remote.webelement.WebElement (session=\"a1a5a2a639579a1b766bb8cbfcc82b1e\", element=\"991357fb-5d0d-47af-b4ea-8abf9e6810ed\")>,\n",
       " <selenium.webdriver.remote.webelement.WebElement (session=\"a1a5a2a639579a1b766bb8cbfcc82b1e\", element=\"406e6e88-ba8b-46ac-a34e-99c5f5f95f00\")>,\n",
       " <selenium.webdriver.remote.webelement.WebElement (session=\"a1a5a2a639579a1b766bb8cbfcc82b1e\", element=\"ba753ed5-ed92-4105-bad3-bb7c7f931424\")>]"
      ]
     },
     "execution_count": 249,
     "metadata": {},
     "output_type": "execute_result"
    }
   ],
   "source": [
    "summ=driver.find_elements_by_xpath('//p[@class=\"_2-N8zT\"]')\n",
    "summ"
   ]
  },
  {
   "cell_type": "code",
   "execution_count": 250,
   "id": "8c64e80a",
   "metadata": {},
   "outputs": [],
   "source": [
    "summary=[]\n",
    "for i in summ:\n",
    "    summary.append(i.text)   "
   ]
  },
  {
   "cell_type": "code",
   "execution_count": 251,
   "id": "a3710784",
   "metadata": {},
   "outputs": [
    {
     "data": {
      "text/plain": [
       "[<selenium.webdriver.remote.webelement.WebElement (session=\"a1a5a2a639579a1b766bb8cbfcc82b1e\", element=\"436868a6-2a12-49ac-a4a0-7b09f2ee4c23\")>,\n",
       " <selenium.webdriver.remote.webelement.WebElement (session=\"a1a5a2a639579a1b766bb8cbfcc82b1e\", element=\"227f1e9e-7895-44bc-99fd-4cbd327d0f2b\")>,\n",
       " <selenium.webdriver.remote.webelement.WebElement (session=\"a1a5a2a639579a1b766bb8cbfcc82b1e\", element=\"8198b971-ba3c-4a4a-81d4-2f142a147b7f\")>,\n",
       " <selenium.webdriver.remote.webelement.WebElement (session=\"a1a5a2a639579a1b766bb8cbfcc82b1e\", element=\"26f77c05-3b1f-417d-baed-6ec3cd3c672d\")>,\n",
       " <selenium.webdriver.remote.webelement.WebElement (session=\"a1a5a2a639579a1b766bb8cbfcc82b1e\", element=\"8e5053f6-03e2-4794-942d-f0c4d880ac2d\")>,\n",
       " <selenium.webdriver.remote.webelement.WebElement (session=\"a1a5a2a639579a1b766bb8cbfcc82b1e\", element=\"21c2bf83-9c13-4ec9-a252-0d5690521466\")>,\n",
       " <selenium.webdriver.remote.webelement.WebElement (session=\"a1a5a2a639579a1b766bb8cbfcc82b1e\", element=\"aa091775-9683-442c-9a48-ff456015f564\")>,\n",
       " <selenium.webdriver.remote.webelement.WebElement (session=\"a1a5a2a639579a1b766bb8cbfcc82b1e\", element=\"9f54cba9-23d1-4b48-84eb-69447b81e76e\")>,\n",
       " <selenium.webdriver.remote.webelement.WebElement (session=\"a1a5a2a639579a1b766bb8cbfcc82b1e\", element=\"5ee20174-484a-461f-900e-be255885d90b\")>,\n",
       " <selenium.webdriver.remote.webelement.WebElement (session=\"a1a5a2a639579a1b766bb8cbfcc82b1e\", element=\"3c32fadd-9d7f-41f5-a60b-5614ccb730bb\")>]"
      ]
     },
     "execution_count": 251,
     "metadata": {},
     "output_type": "execute_result"
    }
   ],
   "source": [
    "full=driver.find_elements_by_xpath(\"//div[@class='t-ZTKy']/div/div\")\n",
    "full"
   ]
  },
  {
   "cell_type": "code",
   "execution_count": 252,
   "id": "684656ab",
   "metadata": {},
   "outputs": [],
   "source": [
    "Full_review=[]\n",
    "for i in full:\n",
    "    Full_review.append(i.text.replace('\\n',''))   "
   ]
  },
  {
   "cell_type": "code",
   "execution_count": 253,
   "id": "e0a88c01",
   "metadata": {},
   "outputs": [],
   "source": [
    "nex=driver.find_element_by_xpath(\"//a[@class='_1LKTO3']\")\n",
    "nex.click()\n",
    "time.sleep(5)"
   ]
  },
  {
   "cell_type": "code",
   "execution_count": 254,
   "id": "05d4f27d",
   "metadata": {
    "scrolled": false
   },
   "outputs": [
    {
     "data": {
      "text/plain": [
       "[<selenium.webdriver.remote.webelement.WebElement (session=\"a1a5a2a639579a1b766bb8cbfcc82b1e\", element=\"70039fd5-0a38-4a1c-8223-0b73199ffa2e\")>,\n",
       " <selenium.webdriver.remote.webelement.WebElement (session=\"a1a5a2a639579a1b766bb8cbfcc82b1e\", element=\"96f0ca1f-a8a1-4794-a7b0-6f9922d1465d\")>,\n",
       " <selenium.webdriver.remote.webelement.WebElement (session=\"a1a5a2a639579a1b766bb8cbfcc82b1e\", element=\"637467ca-9f8f-4439-b233-cbc81d69f2f7\")>,\n",
       " <selenium.webdriver.remote.webelement.WebElement (session=\"a1a5a2a639579a1b766bb8cbfcc82b1e\", element=\"d35ee5f0-e0ba-4247-9ae9-775539217cda\")>,\n",
       " <selenium.webdriver.remote.webelement.WebElement (session=\"a1a5a2a639579a1b766bb8cbfcc82b1e\", element=\"6dc2581a-5cb5-448c-aca8-3c5058c550c1\")>,\n",
       " <selenium.webdriver.remote.webelement.WebElement (session=\"a1a5a2a639579a1b766bb8cbfcc82b1e\", element=\"5f342f74-0274-4c2b-a06d-e88fd9e7ee3d\")>,\n",
       " <selenium.webdriver.remote.webelement.WebElement (session=\"a1a5a2a639579a1b766bb8cbfcc82b1e\", element=\"c84ce20b-84f8-435a-8c24-763e62c60951\")>,\n",
       " <selenium.webdriver.remote.webelement.WebElement (session=\"a1a5a2a639579a1b766bb8cbfcc82b1e\", element=\"a09b0b74-ff1b-4a61-bd6b-cbc48e6acf7d\")>,\n",
       " <selenium.webdriver.remote.webelement.WebElement (session=\"a1a5a2a639579a1b766bb8cbfcc82b1e\", element=\"303ba99d-1da2-4776-8f14-2ffd2f3a7022\")>,\n",
       " <selenium.webdriver.remote.webelement.WebElement (session=\"a1a5a2a639579a1b766bb8cbfcc82b1e\", element=\"bac174d2-558b-4978-9252-4b4166f51e59\")>]"
      ]
     },
     "execution_count": 254,
     "metadata": {},
     "output_type": "execute_result"
    }
   ],
   "source": [
    "#copy paste of above cells form pton edit\n",
    "rating=driver.find_elements_by_xpath(\"//div[@class='_3LWZlK _1BLPMq']\")\n",
    "rating"
   ]
  },
  {
   "cell_type": "code",
   "execution_count": 255,
   "id": "5795a3a5",
   "metadata": {},
   "outputs": [],
   "source": [
    "for i in rating:\n",
    "    ratings.append(i.text)"
   ]
  },
  {
   "cell_type": "code",
   "execution_count": 256,
   "id": "19916bdb",
   "metadata": {
    "scrolled": true
   },
   "outputs": [
    {
     "data": {
      "text/plain": [
       "[<selenium.webdriver.remote.webelement.WebElement (session=\"a1a5a2a639579a1b766bb8cbfcc82b1e\", element=\"1577d063-9dba-4fc7-81e5-50362b19a884\")>,\n",
       " <selenium.webdriver.remote.webelement.WebElement (session=\"a1a5a2a639579a1b766bb8cbfcc82b1e\", element=\"bc16cb0f-cf81-479e-92fd-3b5a90945eb3\")>,\n",
       " <selenium.webdriver.remote.webelement.WebElement (session=\"a1a5a2a639579a1b766bb8cbfcc82b1e\", element=\"c40dac93-df56-4117-ac6b-22ee97ad4d30\")>,\n",
       " <selenium.webdriver.remote.webelement.WebElement (session=\"a1a5a2a639579a1b766bb8cbfcc82b1e\", element=\"30257b68-6260-4eea-9b1a-d2daa638ddb7\")>,\n",
       " <selenium.webdriver.remote.webelement.WebElement (session=\"a1a5a2a639579a1b766bb8cbfcc82b1e\", element=\"dc3c39b2-5b25-477b-ac1c-9c6e352133e9\")>,\n",
       " <selenium.webdriver.remote.webelement.WebElement (session=\"a1a5a2a639579a1b766bb8cbfcc82b1e\", element=\"be0a41f2-2693-43e5-9acc-b480758b22f5\")>,\n",
       " <selenium.webdriver.remote.webelement.WebElement (session=\"a1a5a2a639579a1b766bb8cbfcc82b1e\", element=\"6dcd4ee6-55c7-4fcf-ac78-b5c8a5528b0f\")>,\n",
       " <selenium.webdriver.remote.webelement.WebElement (session=\"a1a5a2a639579a1b766bb8cbfcc82b1e\", element=\"991357fb-5d0d-47af-b4ea-8abf9e6810ed\")>,\n",
       " <selenium.webdriver.remote.webelement.WebElement (session=\"a1a5a2a639579a1b766bb8cbfcc82b1e\", element=\"406e6e88-ba8b-46ac-a34e-99c5f5f95f00\")>,\n",
       " <selenium.webdriver.remote.webelement.WebElement (session=\"a1a5a2a639579a1b766bb8cbfcc82b1e\", element=\"ba753ed5-ed92-4105-bad3-bb7c7f931424\")>]"
      ]
     },
     "execution_count": 256,
     "metadata": {},
     "output_type": "execute_result"
    }
   ],
   "source": [
    "summ=driver.find_elements_by_xpath('//p[@class=\"_2-N8zT\"]')\n",
    "summ"
   ]
  },
  {
   "cell_type": "code",
   "execution_count": 257,
   "id": "8e153391",
   "metadata": {},
   "outputs": [],
   "source": [
    "for i in summ:\n",
    "    summary.append(i.text) "
   ]
  },
  {
   "cell_type": "code",
   "execution_count": 258,
   "id": "23459ee7",
   "metadata": {
    "scrolled": true
   },
   "outputs": [
    {
     "data": {
      "text/plain": [
       "[<selenium.webdriver.remote.webelement.WebElement (session=\"a1a5a2a639579a1b766bb8cbfcc82b1e\", element=\"436868a6-2a12-49ac-a4a0-7b09f2ee4c23\")>,\n",
       " <selenium.webdriver.remote.webelement.WebElement (session=\"a1a5a2a639579a1b766bb8cbfcc82b1e\", element=\"227f1e9e-7895-44bc-99fd-4cbd327d0f2b\")>,\n",
       " <selenium.webdriver.remote.webelement.WebElement (session=\"a1a5a2a639579a1b766bb8cbfcc82b1e\", element=\"8198b971-ba3c-4a4a-81d4-2f142a147b7f\")>,\n",
       " <selenium.webdriver.remote.webelement.WebElement (session=\"a1a5a2a639579a1b766bb8cbfcc82b1e\", element=\"26f77c05-3b1f-417d-baed-6ec3cd3c672d\")>,\n",
       " <selenium.webdriver.remote.webelement.WebElement (session=\"a1a5a2a639579a1b766bb8cbfcc82b1e\", element=\"8e5053f6-03e2-4794-942d-f0c4d880ac2d\")>,\n",
       " <selenium.webdriver.remote.webelement.WebElement (session=\"a1a5a2a639579a1b766bb8cbfcc82b1e\", element=\"21c2bf83-9c13-4ec9-a252-0d5690521466\")>,\n",
       " <selenium.webdriver.remote.webelement.WebElement (session=\"a1a5a2a639579a1b766bb8cbfcc82b1e\", element=\"aa091775-9683-442c-9a48-ff456015f564\")>,\n",
       " <selenium.webdriver.remote.webelement.WebElement (session=\"a1a5a2a639579a1b766bb8cbfcc82b1e\", element=\"9f54cba9-23d1-4b48-84eb-69447b81e76e\")>,\n",
       " <selenium.webdriver.remote.webelement.WebElement (session=\"a1a5a2a639579a1b766bb8cbfcc82b1e\", element=\"5ee20174-484a-461f-900e-be255885d90b\")>,\n",
       " <selenium.webdriver.remote.webelement.WebElement (session=\"a1a5a2a639579a1b766bb8cbfcc82b1e\", element=\"3c32fadd-9d7f-41f5-a60b-5614ccb730bb\")>]"
      ]
     },
     "execution_count": 258,
     "metadata": {},
     "output_type": "execute_result"
    }
   ],
   "source": [
    "full=driver.find_elements_by_xpath(\"//div[@class='t-ZTKy']/div/div\")\n",
    "full"
   ]
  },
  {
   "cell_type": "code",
   "execution_count": 259,
   "id": "48b0b1f9",
   "metadata": {},
   "outputs": [],
   "source": [
    "for i in full:\n",
    "    Full_review.append(i.text.replace('\\n',''))"
   ]
  },
  {
   "cell_type": "code",
   "execution_count": 260,
   "id": "31a48e3e",
   "metadata": {},
   "outputs": [],
   "source": [
    "nex=driver.find_element_by_xpath('//a[@class=\"_1LKTO3\"]')\n",
    "nex.click()\n",
    "time.sleep(5)"
   ]
  },
  {
   "cell_type": "code",
   "execution_count": 261,
   "id": "6929113e",
   "metadata": {},
   "outputs": [
    {
     "data": {
      "text/plain": [
       "[<selenium.webdriver.remote.webelement.WebElement (session=\"a1a5a2a639579a1b766bb8cbfcc82b1e\", element=\"dc64141c-0ee3-4af9-9ca9-9bd88597cca3\")>,\n",
       " <selenium.webdriver.remote.webelement.WebElement (session=\"a1a5a2a639579a1b766bb8cbfcc82b1e\", element=\"9f2a6fe9-8919-4adf-9bba-8e46678362e0\")>,\n",
       " <selenium.webdriver.remote.webelement.WebElement (session=\"a1a5a2a639579a1b766bb8cbfcc82b1e\", element=\"a1c8c940-f5e2-4d1b-aac3-eff1668f7aa9\")>,\n",
       " <selenium.webdriver.remote.webelement.WebElement (session=\"a1a5a2a639579a1b766bb8cbfcc82b1e\", element=\"8d5416a7-ece4-431c-95ca-734519f49e78\")>,\n",
       " <selenium.webdriver.remote.webelement.WebElement (session=\"a1a5a2a639579a1b766bb8cbfcc82b1e\", element=\"3356c2a7-2b1d-4d1d-891b-53e250570bb0\")>,\n",
       " <selenium.webdriver.remote.webelement.WebElement (session=\"a1a5a2a639579a1b766bb8cbfcc82b1e\", element=\"32d7d41d-110b-401d-9835-cdaa5809376e\")>,\n",
       " <selenium.webdriver.remote.webelement.WebElement (session=\"a1a5a2a639579a1b766bb8cbfcc82b1e\", element=\"f6c70076-816d-49de-9e8c-fb08c4daec73\")>,\n",
       " <selenium.webdriver.remote.webelement.WebElement (session=\"a1a5a2a639579a1b766bb8cbfcc82b1e\", element=\"2289f99a-e154-411e-b3d0-1c0b84b0e963\")>,\n",
       " <selenium.webdriver.remote.webelement.WebElement (session=\"a1a5a2a639579a1b766bb8cbfcc82b1e\", element=\"0a177b71-f0c6-44f9-b0a6-0f2485aa3ec9\")>,\n",
       " <selenium.webdriver.remote.webelement.WebElement (session=\"a1a5a2a639579a1b766bb8cbfcc82b1e\", element=\"c6baf3a9-c950-4959-a4cb-0c41b66c40e7\")>]"
      ]
     },
     "execution_count": 261,
     "metadata": {},
     "output_type": "execute_result"
    }
   ],
   "source": [
    "rating=driver.find_elements_by_xpath(\"//div[@class='_3LWZlK _1BLPMq']\")\n",
    "rating"
   ]
  },
  {
   "cell_type": "code",
   "execution_count": 262,
   "id": "6569c203",
   "metadata": {},
   "outputs": [],
   "source": [
    "for i in rating:\n",
    "    ratings.append(i.text) "
   ]
  },
  {
   "cell_type": "code",
   "execution_count": 263,
   "id": "a12181df",
   "metadata": {},
   "outputs": [
    {
     "data": {
      "text/plain": [
       "[<selenium.webdriver.remote.webelement.WebElement (session=\"a1a5a2a639579a1b766bb8cbfcc82b1e\", element=\"43fbee81-2472-4526-99f3-8a255d6568cd\")>,\n",
       " <selenium.webdriver.remote.webelement.WebElement (session=\"a1a5a2a639579a1b766bb8cbfcc82b1e\", element=\"be9d00b5-9be1-41cc-994f-25af0f31a18f\")>,\n",
       " <selenium.webdriver.remote.webelement.WebElement (session=\"a1a5a2a639579a1b766bb8cbfcc82b1e\", element=\"853610d2-9ff2-46d1-990f-5194447bbd12\")>,\n",
       " <selenium.webdriver.remote.webelement.WebElement (session=\"a1a5a2a639579a1b766bb8cbfcc82b1e\", element=\"68665981-19f6-4216-827b-342e3ac2b638\")>,\n",
       " <selenium.webdriver.remote.webelement.WebElement (session=\"a1a5a2a639579a1b766bb8cbfcc82b1e\", element=\"081443e9-7a6c-4607-8ad4-b47c12ebb307\")>,\n",
       " <selenium.webdriver.remote.webelement.WebElement (session=\"a1a5a2a639579a1b766bb8cbfcc82b1e\", element=\"2b5f0b3a-3b54-49e8-97dd-d3b303b11bab\")>,\n",
       " <selenium.webdriver.remote.webelement.WebElement (session=\"a1a5a2a639579a1b766bb8cbfcc82b1e\", element=\"66d3cbb5-7dde-4287-8856-ccca4073e3e2\")>,\n",
       " <selenium.webdriver.remote.webelement.WebElement (session=\"a1a5a2a639579a1b766bb8cbfcc82b1e\", element=\"e7371fc3-5681-4ad1-a4b0-396f99d68c69\")>,\n",
       " <selenium.webdriver.remote.webelement.WebElement (session=\"a1a5a2a639579a1b766bb8cbfcc82b1e\", element=\"ae7b6d51-ff1f-4e87-8659-5827ed1b2485\")>,\n",
       " <selenium.webdriver.remote.webelement.WebElement (session=\"a1a5a2a639579a1b766bb8cbfcc82b1e\", element=\"e202c077-ff1d-49f9-ba80-1c3a76970538\")>]"
      ]
     },
     "execution_count": 263,
     "metadata": {},
     "output_type": "execute_result"
    }
   ],
   "source": [
    "summ=driver.find_elements_by_xpath('//p[@class=\"_2-N8zT\"]')\n",
    "summ"
   ]
  },
  {
   "cell_type": "code",
   "execution_count": 264,
   "id": "e62f7ee0",
   "metadata": {},
   "outputs": [],
   "source": [
    "for i in summ:\n",
    "    summary.append(i.text)"
   ]
  },
  {
   "cell_type": "code",
   "execution_count": 265,
   "id": "17389b25",
   "metadata": {},
   "outputs": [
    {
     "data": {
      "text/plain": [
       "[<selenium.webdriver.remote.webelement.WebElement (session=\"a1a5a2a639579a1b766bb8cbfcc82b1e\", element=\"74f24803-1a4a-43e3-9325-e4cd6a375e76\")>,\n",
       " <selenium.webdriver.remote.webelement.WebElement (session=\"a1a5a2a639579a1b766bb8cbfcc82b1e\", element=\"7b99af44-f25c-4760-8651-b87a1162d7ee\")>,\n",
       " <selenium.webdriver.remote.webelement.WebElement (session=\"a1a5a2a639579a1b766bb8cbfcc82b1e\", element=\"9f69cfd5-4721-494d-8321-71604f7dab26\")>,\n",
       " <selenium.webdriver.remote.webelement.WebElement (session=\"a1a5a2a639579a1b766bb8cbfcc82b1e\", element=\"8efe0fb9-2c44-4689-b5f9-8dd792f288a2\")>,\n",
       " <selenium.webdriver.remote.webelement.WebElement (session=\"a1a5a2a639579a1b766bb8cbfcc82b1e\", element=\"5de2902a-a2ee-4c60-a8b2-1e1e042c3efa\")>,\n",
       " <selenium.webdriver.remote.webelement.WebElement (session=\"a1a5a2a639579a1b766bb8cbfcc82b1e\", element=\"6a2151df-f37b-489f-8daa-cb2227f6e0d7\")>,\n",
       " <selenium.webdriver.remote.webelement.WebElement (session=\"a1a5a2a639579a1b766bb8cbfcc82b1e\", element=\"04af04a8-c271-4f39-8f8f-e8c82d2dc396\")>,\n",
       " <selenium.webdriver.remote.webelement.WebElement (session=\"a1a5a2a639579a1b766bb8cbfcc82b1e\", element=\"01d955e5-88fd-4670-83ab-843faf249bed\")>,\n",
       " <selenium.webdriver.remote.webelement.WebElement (session=\"a1a5a2a639579a1b766bb8cbfcc82b1e\", element=\"34056910-731e-4f50-92bc-e0b2f62067bc\")>,\n",
       " <selenium.webdriver.remote.webelement.WebElement (session=\"a1a5a2a639579a1b766bb8cbfcc82b1e\", element=\"3697c4b7-f832-460e-a5bd-591bd2d63bd4\")>]"
      ]
     },
     "execution_count": 265,
     "metadata": {},
     "output_type": "execute_result"
    }
   ],
   "source": [
    "full=driver.find_elements_by_xpath(\"//div[@class='t-ZTKy']/div/div\")\n",
    "full"
   ]
  },
  {
   "cell_type": "code",
   "execution_count": 266,
   "id": "2d52d063",
   "metadata": {},
   "outputs": [],
   "source": [
    "for i in full:\n",
    "    Full_review.append(i.text.replace('\\n',''))  "
   ]
  },
  {
   "cell_type": "code",
   "execution_count": 267,
   "id": "6bb06f0b",
   "metadata": {},
   "outputs": [],
   "source": [
    "nex=driver.find_element_by_xpath(\"/html/body/div/div/div[3]/div/div/div[2]/div[13]/div/div/nav/a[12]\")\n",
    "nex.click()\n",
    "time.sleep(5)"
   ]
  },
  {
   "cell_type": "code",
   "execution_count": 268,
   "id": "3a6e854e",
   "metadata": {
    "scrolled": true
   },
   "outputs": [
    {
     "data": {
      "text/plain": [
       "[<selenium.webdriver.remote.webelement.WebElement (session=\"a1a5a2a639579a1b766bb8cbfcc82b1e\", element=\"1fac2b30-649a-4452-a946-5f5ce141caa3\")>,\n",
       " <selenium.webdriver.remote.webelement.WebElement (session=\"a1a5a2a639579a1b766bb8cbfcc82b1e\", element=\"0b50c0cb-dc99-4e4c-ae01-b1df1f8d95c0\")>,\n",
       " <selenium.webdriver.remote.webelement.WebElement (session=\"a1a5a2a639579a1b766bb8cbfcc82b1e\", element=\"890868d7-dabf-4b49-a576-f307898bb6ba\")>,\n",
       " <selenium.webdriver.remote.webelement.WebElement (session=\"a1a5a2a639579a1b766bb8cbfcc82b1e\", element=\"2fde42a8-7121-4d98-ae89-fff68dbe96f4\")>,\n",
       " <selenium.webdriver.remote.webelement.WebElement (session=\"a1a5a2a639579a1b766bb8cbfcc82b1e\", element=\"ac6cd4ff-c8dc-415d-9090-a8d7815f1e87\")>,\n",
       " <selenium.webdriver.remote.webelement.WebElement (session=\"a1a5a2a639579a1b766bb8cbfcc82b1e\", element=\"88c6f618-b2a8-4c59-85b8-b8da8b4631ba\")>,\n",
       " <selenium.webdriver.remote.webelement.WebElement (session=\"a1a5a2a639579a1b766bb8cbfcc82b1e\", element=\"5f00191f-bad6-4886-bfea-b57c4ce8510f\")>,\n",
       " <selenium.webdriver.remote.webelement.WebElement (session=\"a1a5a2a639579a1b766bb8cbfcc82b1e\", element=\"b86de91a-df3b-48e3-a03f-6e3223f2b6e3\")>,\n",
       " <selenium.webdriver.remote.webelement.WebElement (session=\"a1a5a2a639579a1b766bb8cbfcc82b1e\", element=\"62da4ea9-f475-410f-84ea-4c20bd4225b2\")>,\n",
       " <selenium.webdriver.remote.webelement.WebElement (session=\"a1a5a2a639579a1b766bb8cbfcc82b1e\", element=\"4b0f9f0b-910b-4a95-99f5-bd1a4938a500\")>]"
      ]
     },
     "execution_count": 268,
     "metadata": {},
     "output_type": "execute_result"
    }
   ],
   "source": [
    "#copy paste of above cells form pton edit\n",
    "rating=driver.find_elements_by_xpath(\"//div[@class='_3LWZlK _1BLPMq']\")\n",
    "rating"
   ]
  },
  {
   "cell_type": "code",
   "execution_count": 269,
   "id": "ea4a894c",
   "metadata": {},
   "outputs": [],
   "source": [
    "for i in rating:\n",
    "    ratings.append(i.text)"
   ]
  },
  {
   "cell_type": "code",
   "execution_count": 270,
   "id": "3c3bfc19",
   "metadata": {
    "scrolled": false
   },
   "outputs": [
    {
     "data": {
      "text/plain": [
       "[<selenium.webdriver.remote.webelement.WebElement (session=\"a1a5a2a639579a1b766bb8cbfcc82b1e\", element=\"aea9aff1-2167-4f60-b871-ae960feae1d8\")>,\n",
       " <selenium.webdriver.remote.webelement.WebElement (session=\"a1a5a2a639579a1b766bb8cbfcc82b1e\", element=\"d5327ef5-f984-4c8c-847c-5d453012b747\")>,\n",
       " <selenium.webdriver.remote.webelement.WebElement (session=\"a1a5a2a639579a1b766bb8cbfcc82b1e\", element=\"646e8228-be63-41b0-a4e9-74a5ffdd7c78\")>,\n",
       " <selenium.webdriver.remote.webelement.WebElement (session=\"a1a5a2a639579a1b766bb8cbfcc82b1e\", element=\"fd023875-c0ab-4999-95c4-654c6fca2e11\")>,\n",
       " <selenium.webdriver.remote.webelement.WebElement (session=\"a1a5a2a639579a1b766bb8cbfcc82b1e\", element=\"8283980f-b6a8-4d04-8621-1f0756e5faef\")>,\n",
       " <selenium.webdriver.remote.webelement.WebElement (session=\"a1a5a2a639579a1b766bb8cbfcc82b1e\", element=\"fea2498c-c153-4aa7-b908-b93ea826ab5e\")>,\n",
       " <selenium.webdriver.remote.webelement.WebElement (session=\"a1a5a2a639579a1b766bb8cbfcc82b1e\", element=\"07ce3eac-cde0-4162-8bef-cbb5621052f5\")>,\n",
       " <selenium.webdriver.remote.webelement.WebElement (session=\"a1a5a2a639579a1b766bb8cbfcc82b1e\", element=\"dde821db-549b-48b5-a23a-98cdfad6a550\")>,\n",
       " <selenium.webdriver.remote.webelement.WebElement (session=\"a1a5a2a639579a1b766bb8cbfcc82b1e\", element=\"86198cf9-a3e7-4906-9071-2be26a2722d9\")>,\n",
       " <selenium.webdriver.remote.webelement.WebElement (session=\"a1a5a2a639579a1b766bb8cbfcc82b1e\", element=\"2e7e20b9-1c86-41a9-b239-a829807af4bd\")>]"
      ]
     },
     "execution_count": 270,
     "metadata": {},
     "output_type": "execute_result"
    }
   ],
   "source": [
    "summ=driver.find_elements_by_xpath('//p[@class=\"_2-N8zT\"]')\n",
    "summ"
   ]
  },
  {
   "cell_type": "code",
   "execution_count": 271,
   "id": "983c8401",
   "metadata": {},
   "outputs": [],
   "source": [
    "for i in summ:\n",
    "    summary.append(i.text) "
   ]
  },
  {
   "cell_type": "code",
   "execution_count": 272,
   "id": "a4d7ea82",
   "metadata": {
    "scrolled": false
   },
   "outputs": [
    {
     "data": {
      "text/plain": [
       "[<selenium.webdriver.remote.webelement.WebElement (session=\"a1a5a2a639579a1b766bb8cbfcc82b1e\", element=\"ea0b3434-bfda-497e-b163-903eb0ab1605\")>,\n",
       " <selenium.webdriver.remote.webelement.WebElement (session=\"a1a5a2a639579a1b766bb8cbfcc82b1e\", element=\"a1bafc5b-dde5-4473-a054-d1242d49e5fa\")>,\n",
       " <selenium.webdriver.remote.webelement.WebElement (session=\"a1a5a2a639579a1b766bb8cbfcc82b1e\", element=\"55ff93a2-7ffe-4bed-b5cc-31704e2d1c42\")>,\n",
       " <selenium.webdriver.remote.webelement.WebElement (session=\"a1a5a2a639579a1b766bb8cbfcc82b1e\", element=\"f92d0a4c-51d8-4d57-9164-58433244e0a4\")>,\n",
       " <selenium.webdriver.remote.webelement.WebElement (session=\"a1a5a2a639579a1b766bb8cbfcc82b1e\", element=\"2a10b25d-0ac9-4ce5-8057-15c244f13cdb\")>,\n",
       " <selenium.webdriver.remote.webelement.WebElement (session=\"a1a5a2a639579a1b766bb8cbfcc82b1e\", element=\"632fe004-e08d-4b25-ab54-b8864931e550\")>,\n",
       " <selenium.webdriver.remote.webelement.WebElement (session=\"a1a5a2a639579a1b766bb8cbfcc82b1e\", element=\"46a4af82-02f2-4e84-bd7f-551cc1532607\")>,\n",
       " <selenium.webdriver.remote.webelement.WebElement (session=\"a1a5a2a639579a1b766bb8cbfcc82b1e\", element=\"dfc9d328-c894-4450-928c-8a9ad1b9aded\")>,\n",
       " <selenium.webdriver.remote.webelement.WebElement (session=\"a1a5a2a639579a1b766bb8cbfcc82b1e\", element=\"20fb5ea8-e1da-4dd6-9ed1-fd60055b7caf\")>,\n",
       " <selenium.webdriver.remote.webelement.WebElement (session=\"a1a5a2a639579a1b766bb8cbfcc82b1e\", element=\"4dda4d33-2453-46d0-865e-de32a9e667aa\")>]"
      ]
     },
     "execution_count": 272,
     "metadata": {},
     "output_type": "execute_result"
    }
   ],
   "source": [
    "full=driver.find_elements_by_xpath(\"//div[@class='t-ZTKy']/div/div\")\n",
    "full"
   ]
  },
  {
   "cell_type": "code",
   "execution_count": 273,
   "id": "ade3e30e",
   "metadata": {},
   "outputs": [],
   "source": [
    "for i in full:\n",
    "    Full_review.append(i.text.replace('\\n',''))\n",
    " "
   ]
  },
  {
   "cell_type": "code",
   "execution_count": 274,
   "id": "9567e6c4",
   "metadata": {},
   "outputs": [],
   "source": [
    "nex=driver.find_element_by_xpath(\"/html/body/div/div/div[3]/div/div/div[2]/div[13]/div/div/nav/a[12]\")\n",
    "nex.click()\n",
    "time.sleep(5)"
   ]
  },
  {
   "cell_type": "code",
   "execution_count": 275,
   "id": "d7228942",
   "metadata": {
    "scrolled": true
   },
   "outputs": [
    {
     "data": {
      "text/plain": [
       "[<selenium.webdriver.remote.webelement.WebElement (session=\"a1a5a2a639579a1b766bb8cbfcc82b1e\", element=\"f7e9bb9f-9884-4041-8105-871acb6c82ac\")>,\n",
       " <selenium.webdriver.remote.webelement.WebElement (session=\"a1a5a2a639579a1b766bb8cbfcc82b1e\", element=\"d518955c-ceb8-4616-bf4c-8bacf21495c2\")>,\n",
       " <selenium.webdriver.remote.webelement.WebElement (session=\"a1a5a2a639579a1b766bb8cbfcc82b1e\", element=\"751ec523-861a-498f-9eb4-044433cfce94\")>,\n",
       " <selenium.webdriver.remote.webelement.WebElement (session=\"a1a5a2a639579a1b766bb8cbfcc82b1e\", element=\"29fae3c9-e69f-4ef0-a9b1-0f35d6da4e87\")>,\n",
       " <selenium.webdriver.remote.webelement.WebElement (session=\"a1a5a2a639579a1b766bb8cbfcc82b1e\", element=\"9dbcae5f-513e-41ac-8120-26659acf80a6\")>,\n",
       " <selenium.webdriver.remote.webelement.WebElement (session=\"a1a5a2a639579a1b766bb8cbfcc82b1e\", element=\"0865d642-f214-4a07-bda1-ae77335191d3\")>,\n",
       " <selenium.webdriver.remote.webelement.WebElement (session=\"a1a5a2a639579a1b766bb8cbfcc82b1e\", element=\"3956e2e5-ee86-45dc-b6c1-6773318585a4\")>,\n",
       " <selenium.webdriver.remote.webelement.WebElement (session=\"a1a5a2a639579a1b766bb8cbfcc82b1e\", element=\"95bcbc08-c820-488b-8235-aca86d4448d0\")>,\n",
       " <selenium.webdriver.remote.webelement.WebElement (session=\"a1a5a2a639579a1b766bb8cbfcc82b1e\", element=\"65d45175-95fa-484b-be74-26729ac73806\")>,\n",
       " <selenium.webdriver.remote.webelement.WebElement (session=\"a1a5a2a639579a1b766bb8cbfcc82b1e\", element=\"1ae31ef8-04f5-485b-8105-42a14bf0638f\")>]"
      ]
     },
     "execution_count": 275,
     "metadata": {},
     "output_type": "execute_result"
    }
   ],
   "source": [
    "#copy paste of above cells form pton edit\n",
    "rating=driver.find_elements_by_xpath(\"//div[@class='_3LWZlK _1BLPMq']\")\n",
    "rating"
   ]
  },
  {
   "cell_type": "code",
   "execution_count": 276,
   "id": "91a04934",
   "metadata": {},
   "outputs": [],
   "source": [
    "for i in rating:\n",
    "    ratings.append(i.text)"
   ]
  },
  {
   "cell_type": "code",
   "execution_count": 277,
   "id": "dfcd9585",
   "metadata": {
    "scrolled": false
   },
   "outputs": [
    {
     "data": {
      "text/plain": [
       "[<selenium.webdriver.remote.webelement.WebElement (session=\"a1a5a2a639579a1b766bb8cbfcc82b1e\", element=\"95292a75-0706-4c67-8b44-930803267d1e\")>,\n",
       " <selenium.webdriver.remote.webelement.WebElement (session=\"a1a5a2a639579a1b766bb8cbfcc82b1e\", element=\"1859d32a-40dc-4b7c-8373-fa68c9af3d63\")>,\n",
       " <selenium.webdriver.remote.webelement.WebElement (session=\"a1a5a2a639579a1b766bb8cbfcc82b1e\", element=\"8e40f00a-cdcf-466c-ba03-1ebc5e6fc647\")>,\n",
       " <selenium.webdriver.remote.webelement.WebElement (session=\"a1a5a2a639579a1b766bb8cbfcc82b1e\", element=\"9e695bf3-2061-4c50-94c5-e9cf4cef4e48\")>,\n",
       " <selenium.webdriver.remote.webelement.WebElement (session=\"a1a5a2a639579a1b766bb8cbfcc82b1e\", element=\"90c17b5f-4379-474b-b8b3-b67aa7da3496\")>,\n",
       " <selenium.webdriver.remote.webelement.WebElement (session=\"a1a5a2a639579a1b766bb8cbfcc82b1e\", element=\"70a2ff52-6040-47a7-95bb-23a75db8569e\")>,\n",
       " <selenium.webdriver.remote.webelement.WebElement (session=\"a1a5a2a639579a1b766bb8cbfcc82b1e\", element=\"528dbb6d-6788-47d0-a365-dedb4f5d7943\")>,\n",
       " <selenium.webdriver.remote.webelement.WebElement (session=\"a1a5a2a639579a1b766bb8cbfcc82b1e\", element=\"0607ed83-901e-4a53-8ddd-54d4146800f5\")>,\n",
       " <selenium.webdriver.remote.webelement.WebElement (session=\"a1a5a2a639579a1b766bb8cbfcc82b1e\", element=\"0635a416-d455-4bfa-87e0-bc6a9f2c7939\")>,\n",
       " <selenium.webdriver.remote.webelement.WebElement (session=\"a1a5a2a639579a1b766bb8cbfcc82b1e\", element=\"b252157d-9f15-451b-b5ec-e1f1f97ebab1\")>]"
      ]
     },
     "execution_count": 277,
     "metadata": {},
     "output_type": "execute_result"
    }
   ],
   "source": [
    "summ=driver.find_elements_by_xpath('//p[@class=\"_2-N8zT\"]')\n",
    "summ"
   ]
  },
  {
   "cell_type": "code",
   "execution_count": 278,
   "id": "baa66610",
   "metadata": {},
   "outputs": [],
   "source": [
    "for i in summ:\n",
    "    summary.append(i.text) "
   ]
  },
  {
   "cell_type": "code",
   "execution_count": 279,
   "id": "74de8015",
   "metadata": {
    "scrolled": false
   },
   "outputs": [
    {
     "data": {
      "text/plain": [
       "[<selenium.webdriver.remote.webelement.WebElement (session=\"a1a5a2a639579a1b766bb8cbfcc82b1e\", element=\"c84df32d-a6ad-4848-9026-c157b3d58eee\")>,\n",
       " <selenium.webdriver.remote.webelement.WebElement (session=\"a1a5a2a639579a1b766bb8cbfcc82b1e\", element=\"1cc08718-3ff6-4687-9f1f-65d90a46cba8\")>,\n",
       " <selenium.webdriver.remote.webelement.WebElement (session=\"a1a5a2a639579a1b766bb8cbfcc82b1e\", element=\"693846ac-ab0b-404d-80d6-7753674473c9\")>,\n",
       " <selenium.webdriver.remote.webelement.WebElement (session=\"a1a5a2a639579a1b766bb8cbfcc82b1e\", element=\"e5b5114c-7157-4149-ae4b-a40e86c497d1\")>,\n",
       " <selenium.webdriver.remote.webelement.WebElement (session=\"a1a5a2a639579a1b766bb8cbfcc82b1e\", element=\"1936150b-1f17-4102-b84a-dc185d211148\")>,\n",
       " <selenium.webdriver.remote.webelement.WebElement (session=\"a1a5a2a639579a1b766bb8cbfcc82b1e\", element=\"e0468f39-88a0-439a-a452-94d1f404df76\")>,\n",
       " <selenium.webdriver.remote.webelement.WebElement (session=\"a1a5a2a639579a1b766bb8cbfcc82b1e\", element=\"4805d88b-f2c5-4b35-9037-02e232d27877\")>,\n",
       " <selenium.webdriver.remote.webelement.WebElement (session=\"a1a5a2a639579a1b766bb8cbfcc82b1e\", element=\"0a0fc22e-4eed-46b3-a8fd-76fd806928db\")>,\n",
       " <selenium.webdriver.remote.webelement.WebElement (session=\"a1a5a2a639579a1b766bb8cbfcc82b1e\", element=\"866c8258-3c1c-415c-8bb3-e1716c4d92de\")>,\n",
       " <selenium.webdriver.remote.webelement.WebElement (session=\"a1a5a2a639579a1b766bb8cbfcc82b1e\", element=\"44e28204-171c-48bf-aa00-87e34c761a45\")>]"
      ]
     },
     "execution_count": 279,
     "metadata": {},
     "output_type": "execute_result"
    }
   ],
   "source": [
    "full=driver.find_elements_by_xpath(\"//div[@class='t-ZTKy']/div/div\")\n",
    "full"
   ]
  },
  {
   "cell_type": "code",
   "execution_count": 280,
   "id": "9b962230",
   "metadata": {},
   "outputs": [],
   "source": [
    "for i in full:\n",
    "    Full_review.append(i.text.replace('\\n',''))\n",
    " "
   ]
  },
  {
   "cell_type": "code",
   "execution_count": 281,
   "id": "afd78585",
   "metadata": {},
   "outputs": [
    {
     "data": {
      "text/plain": [
       "[<selenium.webdriver.remote.webelement.WebElement (session=\"a1a5a2a639579a1b766bb8cbfcc82b1e\", element=\"3eea3910-333c-4e91-8694-97bfd4cc25ae\")>,\n",
       " <selenium.webdriver.remote.webelement.WebElement (session=\"a1a5a2a639579a1b766bb8cbfcc82b1e\", element=\"6d6536e0-ae67-4d1c-8aac-d65721a4b63c\")>,\n",
       " <selenium.webdriver.remote.webelement.WebElement (session=\"a1a5a2a639579a1b766bb8cbfcc82b1e\", element=\"1d079598-9a20-49d1-acb7-be2dc01d0060\")>,\n",
       " <selenium.webdriver.remote.webelement.WebElement (session=\"a1a5a2a639579a1b766bb8cbfcc82b1e\", element=\"88843093-bc54-4938-8a28-b67d80235ca2\")>,\n",
       " <selenium.webdriver.remote.webelement.WebElement (session=\"a1a5a2a639579a1b766bb8cbfcc82b1e\", element=\"ab9b88f7-42fd-4d10-8fd8-e240725e3c30\")>,\n",
       " <selenium.webdriver.remote.webelement.WebElement (session=\"a1a5a2a639579a1b766bb8cbfcc82b1e\", element=\"158d7e5f-dc5d-4b7c-926e-9e88901a68a1\")>,\n",
       " <selenium.webdriver.remote.webelement.WebElement (session=\"a1a5a2a639579a1b766bb8cbfcc82b1e\", element=\"3642b3e9-6561-4e90-9470-ba5d09a49c71\")>,\n",
       " <selenium.webdriver.remote.webelement.WebElement (session=\"a1a5a2a639579a1b766bb8cbfcc82b1e\", element=\"44a3895c-ca00-4fe4-9cfc-11acf5ff4fd8\")>,\n",
       " <selenium.webdriver.remote.webelement.WebElement (session=\"a1a5a2a639579a1b766bb8cbfcc82b1e\", element=\"d4f45f58-3488-4ef3-bc57-07c757526dfd\")>,\n",
       " <selenium.webdriver.remote.webelement.WebElement (session=\"a1a5a2a639579a1b766bb8cbfcc82b1e\", element=\"739b605a-390d-4971-bfff-ca9a8d356866\")>]"
      ]
     },
     "execution_count": 281,
     "metadata": {},
     "output_type": "execute_result"
    }
   ],
   "source": [
    "nex=driver.find_element_by_xpath(\"/html/body/div/div/div[3]/div/div/div[2]/div[13]/div/div/nav/a[12]\")\n",
    "nex.click()\n",
    "time.sleep(5)\n",
    "#copy paste of above cells form pton edit\n",
    "rating=driver.find_elements_by_xpath(\"//div[@class='_3LWZlK _1BLPMq']\")\n",
    "rating\n",
    "summ=driver.find_elements_by_xpath('//p[@class=\"_2-N8zT\"]')\n",
    "summ\n",
    "full=driver.find_elements_by_xpath(\"//div[@class='t-ZTKy']/div/div\")\n",
    "full"
   ]
  },
  {
   "cell_type": "code",
   "execution_count": 282,
   "id": "20d3d020",
   "metadata": {},
   "outputs": [],
   "source": [
    "for i in rating:\n",
    "    ratings.append(i.text)\n",
    "for i in summ:\n",
    "    summary.append(i.text) \n",
    "for i in full:\n",
    "    Full_review.append(i.text.replace('\\n',''))    "
   ]
  },
  {
   "cell_type": "code",
   "execution_count": 283,
   "id": "a65e34f5",
   "metadata": {},
   "outputs": [
    {
     "name": "stdout",
     "output_type": "stream",
     "text": [
      "59 60 60\n"
     ]
    }
   ],
   "source": [
    "print(len(ratings),len(summary),len(Full_review))"
   ]
  },
  {
   "cell_type": "code",
   "execution_count": 284,
   "id": "c9c42a38",
   "metadata": {},
   "outputs": [],
   "source": [
    "nex=driver.find_element_by_xpath(\"/html/body/div/div/div[3]/div/div/div[2]/div[13]/div/div/nav/a[12]\")\n",
    "nex.click()\n",
    "time.sleep(5)\n",
    "#copy paste of above cells form pton edit\n",
    "rating=driver.find_elements_by_xpath(\"//div[@class='_3LWZlK _1BLPMq']\")\n",
    "rating\n",
    "summ=driver.find_elements_by_xpath('//p[@class=\"_2-N8zT\"]')\n",
    "summ\n",
    "full=driver.find_elements_by_xpath(\"//div[@class='t-ZTKy']/div/div\")\n",
    "full\n",
    "\n",
    "for i in rating:\n",
    "    ratings.append(i.text)\n",
    "for i in summ:\n",
    "    summary.append(i.text) \n",
    "for i in full:\n",
    "    Full_review.append(i.text.replace('\\n','')) "
   ]
  },
  {
   "cell_type": "code",
   "execution_count": 285,
   "id": "c76b1804",
   "metadata": {},
   "outputs": [
    {
     "name": "stdout",
     "output_type": "stream",
     "text": [
      "69 70 70\n"
     ]
    }
   ],
   "source": [
    "print(len(ratings),len(summary),len(Full_review))"
   ]
  },
  {
   "cell_type": "code",
   "execution_count": 286,
   "id": "fe19587f",
   "metadata": {},
   "outputs": [],
   "source": [
    "nex=driver.find_element_by_xpath(\"/html/body/div/div/div[3]/div/div/div[2]/div[13]/div/div/nav/a[12]\")\n",
    "nex.click()\n",
    "time.sleep(5)\n",
    "#copy paste of above cells form pton edit\n",
    "rating=driver.find_elements_by_xpath(\"//div[@class='_3LWZlK _1BLPMq']\")\n",
    "rating\n",
    "summ=driver.find_elements_by_xpath('//p[@class=\"_2-N8zT\"]')\n",
    "summ\n",
    "full=driver.find_elements_by_xpath(\"//div[@class='t-ZTKy']/div/div\")\n",
    "full\n",
    "\n",
    "for i in rating:\n",
    "    ratings.append(i.text)\n",
    "for i in summ:\n",
    "    summary.append(i.text) \n",
    "for i in full:\n",
    "    Full_review.append(i.text.replace('\\n','')) "
   ]
  },
  {
   "cell_type": "code",
   "execution_count": 287,
   "id": "c9ad4750",
   "metadata": {},
   "outputs": [],
   "source": [
    "nex=driver.find_element_by_xpath(\"/html/body/div/div/div[3]/div/div/div[2]/div[13]/div/div/nav/a[12]\")\n",
    "nex.click()\n",
    "time.sleep(5)\n",
    "#copy paste of above cells form pton edit\n",
    "rating=driver.find_elements_by_xpath(\"//div[@class='_3LWZlK _1BLPMq']\")\n",
    "rating\n",
    "summ=driver.find_elements_by_xpath('//p[@class=\"_2-N8zT\"]')\n",
    "summ\n",
    "full=driver.find_elements_by_xpath(\"//div[@class='t-ZTKy']/div/div\")\n",
    "full\n",
    "\n",
    "for i in rating:\n",
    "    ratings.append(i.text)\n",
    "for i in summ:\n",
    "    summary.append(i.text) \n",
    "for i in full:\n",
    "    Full_review.append(i.text.replace('\\n','')) "
   ]
  },
  {
   "cell_type": "code",
   "execution_count": 288,
   "id": "c3830c31",
   "metadata": {},
   "outputs": [],
   "source": [
    "nex=driver.find_element_by_xpath(\"/html/body/div/div/div[3]/div/div/div[2]/div[13]/div/div/nav/a[12]\")\n",
    "nex.click()\n",
    "time.sleep(5)\n",
    "#copy paste of above cells form pton edit\n",
    "rating=driver.find_elements_by_xpath(\"//div[@class='_3LWZlK _1BLPMq']\")\n",
    "rating\n",
    "summ=driver.find_elements_by_xpath('//p[@class=\"_2-N8zT\"]')\n",
    "summ\n",
    "full=driver.find_elements_by_xpath(\"//div[@class='t-ZTKy']/div/div\")\n",
    "full\n",
    "\n",
    "for i in rating:\n",
    "    ratings.append(i.text)\n",
    "for i in summ:\n",
    "    summary.append(i.text) \n",
    "for i in full:\n",
    "    Full_review.append(i.text.replace('\\n','')) "
   ]
  },
  {
   "cell_type": "code",
   "execution_count": 289,
   "id": "81f6d94b",
   "metadata": {},
   "outputs": [
    {
     "name": "stdout",
     "output_type": "stream",
     "text": [
      "97 100 100\n"
     ]
    }
   ],
   "source": [
    "print(len(ratings),len(summary),len(Full_review))"
   ]
  },
  {
   "cell_type": "code",
   "execution_count": 290,
   "id": "45a994c2",
   "metadata": {},
   "outputs": [],
   "source": [
    "nex=driver.find_element_by_xpath(\"/html/body/div/div/div[3]/div/div/div[2]/div[13]/div/div/nav/a[12]\")\n",
    "nex.click()\n",
    "time.sleep(5)\n",
    "#copy paste of above cells form pton edit\n",
    "rating=driver.find_elements_by_xpath(\"//div[@class='_3LWZlK _1BLPMq']\")\n",
    "rating\n",
    "summ=driver.find_elements_by_xpath('//p[@class=\"_2-N8zT\"]')\n",
    "summ\n",
    "full=driver.find_elements_by_xpath(\"//div[@class='t-ZTKy']/div/div\")\n",
    "full\n",
    "\n",
    "for i in rating:\n",
    "    ratings.append(i.text)\n",
    "for i in summ:\n",
    "    summary.append(i.text) \n",
    "for i in full:\n",
    "    Full_review.append(i.text.replace('\\n','')) "
   ]
  },
  {
   "cell_type": "code",
   "execution_count": 291,
   "id": "84ece7f2",
   "metadata": {},
   "outputs": [
    {
     "name": "stdout",
     "output_type": "stream",
     "text": [
      "107 110 110\n"
     ]
    }
   ],
   "source": [
    "print(len(ratings),len(summary),len(Full_review))"
   ]
  },
  {
   "cell_type": "code",
   "execution_count": 292,
   "id": "da625b2e",
   "metadata": {},
   "outputs": [
    {
     "data": {
      "text/html": [
       "<div>\n",
       "<style scoped>\n",
       "    .dataframe tbody tr th:only-of-type {\n",
       "        vertical-align: middle;\n",
       "    }\n",
       "\n",
       "    .dataframe tbody tr th {\n",
       "        vertical-align: top;\n",
       "    }\n",
       "\n",
       "    .dataframe thead th {\n",
       "        text-align: right;\n",
       "    }\n",
       "</style>\n",
       "<table border=\"1\" class=\"dataframe\">\n",
       "  <thead>\n",
       "    <tr style=\"text-align: right;\">\n",
       "      <th></th>\n",
       "      <th>Ratings</th>\n",
       "      <th>Review Summary</th>\n",
       "      <th>Full Review</th>\n",
       "    </tr>\n",
       "  </thead>\n",
       "  <tbody>\n",
       "    <tr>\n",
       "      <th>0</th>\n",
       "      <td>5</td>\n",
       "      <td>Brilliant</td>\n",
       "      <td>The Best Phone for the MoneyThe iPhone 11 offe...</td>\n",
       "    </tr>\n",
       "    <tr>\n",
       "      <th>1</th>\n",
       "      <td>5</td>\n",
       "      <td>Simply awesome</td>\n",
       "      <td>Really satisfied with the Product I received.....</td>\n",
       "    </tr>\n",
       "    <tr>\n",
       "      <th>2</th>\n",
       "      <td>5</td>\n",
       "      <td>Best in the market!</td>\n",
       "      <td>Great iPhone very snappy experience as apple k...</td>\n",
       "    </tr>\n",
       "    <tr>\n",
       "      <th>3</th>\n",
       "      <td>5</td>\n",
       "      <td>Perfect product!</td>\n",
       "      <td>Amazing phone with great cameras and better ba...</td>\n",
       "    </tr>\n",
       "    <tr>\n",
       "      <th>4</th>\n",
       "      <td>5</td>\n",
       "      <td>Fabulous!</td>\n",
       "      <td>This is my first iOS phone. I am very happy wi...</td>\n",
       "    </tr>\n",
       "    <tr>\n",
       "      <th>...</th>\n",
       "      <td>...</td>\n",
       "      <td>...</td>\n",
       "      <td>...</td>\n",
       "    </tr>\n",
       "    <tr>\n",
       "      <th>95</th>\n",
       "      <td>5</td>\n",
       "      <td>Super!</td>\n",
       "      <td>Did an upgrade from 6s plus to iphone 11.Ao fa...</td>\n",
       "    </tr>\n",
       "    <tr>\n",
       "      <th>96</th>\n",
       "      <td>4</td>\n",
       "      <td>Classy product</td>\n",
       "      <td>Gifted my man on his 30th birthday 🎂 He loves ...</td>\n",
       "    </tr>\n",
       "    <tr>\n",
       "      <th>97</th>\n",
       "      <td>5</td>\n",
       "      <td>Worth every penny</td>\n",
       "      <td>Here is the thingThe only reason why you shoul...</td>\n",
       "    </tr>\n",
       "    <tr>\n",
       "      <th>98</th>\n",
       "      <td>5</td>\n",
       "      <td>Excellent</td>\n",
       "      <td>It was amazing experience for me. Honestly i a...</td>\n",
       "    </tr>\n",
       "    <tr>\n",
       "      <th>99</th>\n",
       "      <td>5</td>\n",
       "      <td>Nice product</td>\n",
       "      <td>If you are looking for a premium phone under 5...</td>\n",
       "    </tr>\n",
       "  </tbody>\n",
       "</table>\n",
       "<p>100 rows × 3 columns</p>\n",
       "</div>"
      ],
      "text/plain": [
       "   Ratings       Review Summary  \\\n",
       "0        5            Brilliant   \n",
       "1        5       Simply awesome   \n",
       "2        5  Best in the market!   \n",
       "3        5     Perfect product!   \n",
       "4        5            Fabulous!   \n",
       "..     ...                  ...   \n",
       "95       5               Super!   \n",
       "96       4       Classy product   \n",
       "97       5    Worth every penny   \n",
       "98       5            Excellent   \n",
       "99       5         Nice product   \n",
       "\n",
       "                                          Full Review  \n",
       "0   The Best Phone for the MoneyThe iPhone 11 offe...  \n",
       "1   Really satisfied with the Product I received.....  \n",
       "2   Great iPhone very snappy experience as apple k...  \n",
       "3   Amazing phone with great cameras and better ba...  \n",
       "4   This is my first iOS phone. I am very happy wi...  \n",
       "..                                                ...  \n",
       "95  Did an upgrade from 6s plus to iphone 11.Ao fa...  \n",
       "96  Gifted my man on his 30th birthday 🎂 He loves ...  \n",
       "97  Here is the thingThe only reason why you shoul...  \n",
       "98  It was amazing experience for me. Honestly i a...  \n",
       "99  If you are looking for a premium phone under 5...  \n",
       "\n",
       "[100 rows x 3 columns]"
      ]
     },
     "execution_count": 292,
     "metadata": {},
     "output_type": "execute_result"
    }
   ],
   "source": [
    "df=pd.DataFrame({('Ratings'):ratings[0:100],('Review Summary'):summary[0:100],('Full Review'):Full_review[0:100]})\n",
    "df"
   ]
  },
  {
   "cell_type": "code",
   "execution_count": 293,
   "id": "d20b84d5",
   "metadata": {},
   "outputs": [],
   "source": [
    "driver.close()"
   ]
  },
  {
   "cell_type": "code",
   "execution_count": 303,
   "id": "2ce75121",
   "metadata": {},
   "outputs": [],
   "source": [
    "#Q6: Scrape data for first 100 sneakers you find when you visit flipkart.com \n",
    "    #andsearch for “sneakers” in the search field. You have to scrape 4 attributes of each sneaker:\n",
    "        #1. Brand \n",
    "        #2. Product Description \n",
    "        #3. Price"
   ]
  },
  {
   "cell_type": "code",
   "execution_count": 304,
   "id": "05f5595c",
   "metadata": {},
   "outputs": [],
   "source": [
    "#connecting web driver to the installed libaray\n",
    "driver = webdriver.Chrome(\"C:/Users/Ankit anand/selenium/chromedriver.exe\")\n",
    "#commanding driver to open the url\n",
    "driver.get('https://www.flipkart.com/')\n",
    "#commanding driver to wait for 5 sec \n",
    "time.sleep(5)\n",
    "#clicking on the close button for the pop-up\n",
    "clo=driver.find_element_by_xpath(\"//button[@class='_2KpZ6l _2doB4z']\")\n",
    "clo.click()\n",
    "# entering search terms in searchbox\n",
    "boox=driver.find_element_by_xpath(\"/html/body/div[1]/div/div[1]/div[1]/div[2]/div[2]/form/div/div/input\")\n",
    "boox.send_keys('sneakers')\n",
    "#clicking on the search button \n",
    "button=driver.find_element_by_xpath(\"//button[@class='L0Z3Pu']\")\n",
    "button.click()\n",
    "time.sleep(5)\n",
    "#creating empty lists \n",
    "Brand_name=[]\n",
    "Product_Description=[]\n",
    "price=[]\n",
    "\n",
    "#start scrapping of data\n",
    "brand=driver.find_elements_by_xpath(\"//div[@class='_2WkVRV']\")\n",
    "brand\n",
    "Description=driver.find_elements_by_xpath(\"//a[@class='IRpwTa']\")\n",
    "Description\n",
    "pri=driver.find_elements_by_xpath(\"//a[@class='_3bPFwb']\")\n",
    "pri\n",
    "\n",
    "\n",
    "for i in brand:\n",
    "    Brand_name.append(i.text)\n",
    "for i in Description:\n",
    "    Product_Description.append(i.text) \n",
    "for i in pri:\n",
    "    price.append(i.text.replace('\\n','').split('₹')[1])"
   ]
  },
  {
   "cell_type": "code",
   "execution_count": 305,
   "id": "0543b3bc",
   "metadata": {},
   "outputs": [
    {
     "name": "stdout",
     "output_type": "stream",
     "text": [
      "40 34 40\n"
     ]
    }
   ],
   "source": [
    "print(len(Brand_name),len(Product_Description),len(price))"
   ]
  },
  {
   "cell_type": "code",
   "execution_count": 306,
   "id": "c22fe596",
   "metadata": {},
   "outputs": [],
   "source": [
    "#we hbave to scarp 100 data so going on another page by clicking on the next btton\n",
    "ne=driver.find_element_by_xpath(\"/html/body/div/div/div[3]/div[1]/div[2]/div[12]/div/div/nav/a[11]\")\n",
    "ne.click()\n",
    "time.sleep(5)"
   ]
  },
  {
   "cell_type": "code",
   "execution_count": 307,
   "id": "be374b41",
   "metadata": {},
   "outputs": [],
   "source": [
    "brand=driver.find_elements_by_xpath(\"//div[@class='_2WkVRV']\")\n",
    "brand\n",
    "Description=driver.find_elements_by_xpath(\"//a[@class='IRpwTa']\")\n",
    "Description\n",
    "pri=driver.find_elements_by_xpath(\"//a[@class='_3bPFwb']\")\n",
    "pri\n",
    "\n",
    "\n",
    "for i in brand:\n",
    "    Brand_name.append(i.text)\n",
    "for i in Description:\n",
    "    Product_Description.append(i.text) \n",
    "for i in pri:\n",
    "    price.append(i.text.replace('\\n','').split('₹')[1])"
   ]
  },
  {
   "cell_type": "code",
   "execution_count": 308,
   "id": "bc392fe0",
   "metadata": {},
   "outputs": [],
   "source": [
    "#we hbave to scarp 100 data so going on another page by clicking on the next btton\n",
    "ne=driver.find_element_by_xpath(\"/html/body/div/div/div[3]/div[1]/div[2]/div[12]/div/div/nav/a[11]\")\n",
    "ne.click()\n",
    "time.sleep(5)\n",
    "brand=driver.find_elements_by_xpath(\"//div[@class='_2WkVRV']\")\n",
    "brand\n",
    "Description=driver.find_elements_by_xpath(\"//a[@class='IRpwTa']\")\n",
    "Description\n",
    "pri=driver.find_elements_by_xpath(\"//a[@class='_3bPFwb']\")\n",
    "pri\n",
    "\n",
    "\n",
    "for i in brand:\n",
    "    Brand_name.append(i.text)\n",
    "for i in Description:\n",
    "    Product_Description.append(i.text) \n",
    "for i in pri:\n",
    "    price.append(i.text.replace('\\n','').split('₹')[1])"
   ]
  },
  {
   "cell_type": "code",
   "execution_count": 309,
   "id": "46dab156",
   "metadata": {},
   "outputs": [
    {
     "name": "stdout",
     "output_type": "stream",
     "text": [
      "120 101 120\n"
     ]
    }
   ],
   "source": [
    "print(len(Brand_name),len(Product_Description),len(price))"
   ]
  },
  {
   "cell_type": "code",
   "execution_count": 310,
   "id": "90582a56",
   "metadata": {
    "scrolled": true
   },
   "outputs": [
    {
     "data": {
      "text/html": [
       "<div>\n",
       "<style scoped>\n",
       "    .dataframe tbody tr th:only-of-type {\n",
       "        vertical-align: middle;\n",
       "    }\n",
       "\n",
       "    .dataframe tbody tr th {\n",
       "        vertical-align: top;\n",
       "    }\n",
       "\n",
       "    .dataframe thead th {\n",
       "        text-align: right;\n",
       "    }\n",
       "</style>\n",
       "<table border=\"1\" class=\"dataframe\">\n",
       "  <thead>\n",
       "    <tr style=\"text-align: right;\">\n",
       "      <th></th>\n",
       "      <th>Brand Name</th>\n",
       "      <th>Product Description</th>\n",
       "      <th>Price</th>\n",
       "    </tr>\n",
       "  </thead>\n",
       "  <tbody>\n",
       "    <tr>\n",
       "      <th>0</th>\n",
       "      <td>BRUTON</td>\n",
       "      <td>Modern Trendy Sneakers Shoes Sneakers For Men</td>\n",
       "      <td>505</td>\n",
       "    </tr>\n",
       "    <tr>\n",
       "      <th>1</th>\n",
       "      <td>EZDEZARIO</td>\n",
       "      <td>Shoes in Black Color Party wear/Outdoor/Casual...</td>\n",
       "      <td>349</td>\n",
       "    </tr>\n",
       "    <tr>\n",
       "      <th>2</th>\n",
       "      <td>URBANBOX</td>\n",
       "      <td>Canvas shoes for Men Sneakers For Men</td>\n",
       "      <td>148</td>\n",
       "    </tr>\n",
       "    <tr>\n",
       "      <th>3</th>\n",
       "      <td>BRUTON</td>\n",
       "      <td>Sneakers For Men</td>\n",
       "      <td>299</td>\n",
       "    </tr>\n",
       "    <tr>\n",
       "      <th>4</th>\n",
       "      <td>Labbin</td>\n",
       "      <td>STYLISH MENS BLACK AND WHITE SNEAKER Sneakers ...</td>\n",
       "      <td>449</td>\n",
       "    </tr>\n",
       "    <tr>\n",
       "      <th>...</th>\n",
       "      <td>...</td>\n",
       "      <td>...</td>\n",
       "      <td>...</td>\n",
       "    </tr>\n",
       "    <tr>\n",
       "      <th>95</th>\n",
       "      <td>Peelu</td>\n",
       "      <td>Boom Sneakers For Men</td>\n",
       "      <td>516</td>\n",
       "    </tr>\n",
       "    <tr>\n",
       "      <th>96</th>\n",
       "      <td>PUMA</td>\n",
       "      <td>Sneakers For Men</td>\n",
       "      <td>1,979</td>\n",
       "    </tr>\n",
       "    <tr>\n",
       "      <th>97</th>\n",
       "      <td>K' Footlance</td>\n",
       "      <td>Stylish and Trendy New Design Lightweight,Casu...</td>\n",
       "      <td>399</td>\n",
       "    </tr>\n",
       "    <tr>\n",
       "      <th>98</th>\n",
       "      <td>PUMA</td>\n",
       "      <td>UP Sneakers For Men</td>\n",
       "      <td>3,782</td>\n",
       "    </tr>\n",
       "    <tr>\n",
       "      <th>99</th>\n",
       "      <td>Extoes</td>\n",
       "      <td>Sneakers For Men</td>\n",
       "      <td>498</td>\n",
       "    </tr>\n",
       "  </tbody>\n",
       "</table>\n",
       "<p>100 rows × 3 columns</p>\n",
       "</div>"
      ],
      "text/plain": [
       "      Brand Name                                Product Description  Price\n",
       "0         BRUTON      Modern Trendy Sneakers Shoes Sneakers For Men    505\n",
       "1      EZDEZARIO  Shoes in Black Color Party wear/Outdoor/Casual...    349\n",
       "2       URBANBOX              Canvas shoes for Men Sneakers For Men    148\n",
       "3         BRUTON                                   Sneakers For Men    299\n",
       "4         Labbin  STYLISH MENS BLACK AND WHITE SNEAKER Sneakers ...    449\n",
       "..           ...                                                ...    ...\n",
       "95         Peelu                              Boom Sneakers For Men    516\n",
       "96          PUMA                                   Sneakers For Men  1,979\n",
       "97  K' Footlance  Stylish and Trendy New Design Lightweight,Casu...    399\n",
       "98          PUMA                                UP Sneakers For Men  3,782\n",
       "99        Extoes                                   Sneakers For Men    498\n",
       "\n",
       "[100 rows x 3 columns]"
      ]
     },
     "execution_count": 310,
     "metadata": {},
     "output_type": "execute_result"
    }
   ],
   "source": [
    "df=pd.DataFrame({('Brand Name'):Brand_name[0:100],('Product Description'):Product_Description[0:100],('Price'):price[0:100]})\n",
    "df"
   ]
  },
  {
   "cell_type": "code",
   "execution_count": 311,
   "id": "bae8849d",
   "metadata": {},
   "outputs": [],
   "source": [
    "driver.close()"
   ]
  },
  {
   "cell_type": "code",
   "execution_count": 312,
   "id": "cedc98e3",
   "metadata": {},
   "outputs": [],
   "source": [
    "#Q7: Go to the link - https://www.myntra.com/shoes \n",
    "#Set Price filter to “Rs. 7149 to Rs. 14099 ” , Color filter to “Black”, as shown inthe below image."
   ]
  },
  {
   "cell_type": "code",
   "execution_count": 313,
   "id": "2e85ef7b",
   "metadata": {},
   "outputs": [],
   "source": [
    "#connecting web driver to the installed libaray\n",
    "driver = webdriver.Chrome(\"C:/Users/Ankit anand/selenium/chromedriver.exe\")\n",
    "#commanding driver to open the url\n",
    "driver.get('https://www.myntra.com/shoes')\n",
    "#commanding driver to wait for 5 sec \n",
    "time.sleep(5)\n",
    "\n",
    "#clicking on the filters\n",
    "color=driver.find_element_by_xpath(\"/html/body/div[2]/div/div[1]/main/div[3]/div[1]/section/div/div[6]/ul/li[1]/label/div\")\n",
    "color.click()\n",
    "time.sleep(5)\n",
    "#clicking on the another filters\n",
    "price_range=driver.find_element_by_xpath(\"/html/body/div[2]/div/div[1]/main/div[3]/div[1]/section/div/div[5]/ul/li[2]/label/div\")\n",
    "price_range.click()\n",
    "time.sleep(5)\n",
    "\n",
    "#start scarpping\n",
    "brandd=[]# creating empty list\n",
    "discription=[]\n",
    "price=[]\n",
    "brand=driver.find_elements_by_xpath(\"//div[@class='product-productMetaInfo']/h3\")\n",
    "brand\n",
    "dis=driver.find_elements_by_xpath(\"//h4[@class='product-product']\")\n",
    "dis\n",
    "pri= driver.find_elements_by_xpath(\"//div[@class='product-price']\")\n",
    "pri\n",
    "\n",
    "for i in brand:\n",
    "    brandd.append(i.text)\n",
    "for i in dis:\n",
    "    discription.append(i.text)\n",
    "for i in pri:\n",
    "    price.append(i.text)"
   ]
  },
  {
   "cell_type": "code",
   "execution_count": 314,
   "id": "e84326c0",
   "metadata": {},
   "outputs": [
    {
     "name": "stdout",
     "output_type": "stream",
     "text": [
      "50 50 50\n"
     ]
    }
   ],
   "source": [
    "print(len(brandd),len(discription),len(price))"
   ]
  },
  {
   "cell_type": "code",
   "execution_count": 315,
   "id": "40d13497",
   "metadata": {},
   "outputs": [],
   "source": [
    "ne=driver.find_element_by_xpath(\"//li[@class='pagination-next']\")\n",
    "ne.click()\n",
    "time.sleep(5)   "
   ]
  },
  {
   "cell_type": "code",
   "execution_count": 316,
   "id": "4dda01a8",
   "metadata": {},
   "outputs": [],
   "source": [
    "brand=driver.find_elements_by_xpath(\"//div[@class='product-productMetaInfo']/h3\")\n",
    "brand\n",
    "dis=driver.find_elements_by_xpath(\"//h4[@class='product-product']\")\n",
    "dis\n",
    "pri= driver.find_elements_by_xpath(\"//div[@class='product-price']\")\n",
    "pri\n",
    "\n",
    "for i in brand:\n",
    "    brandd.append(i.text)\n",
    "for i in dis:\n",
    "    discription.append(i.text)\n",
    "for i in pri:\n",
    "    price.append(i.text)"
   ]
  },
  {
   "cell_type": "code",
   "execution_count": 317,
   "id": "da6e32bf",
   "metadata": {},
   "outputs": [
    {
     "name": "stdout",
     "output_type": "stream",
     "text": [
      "100 100 100\n"
     ]
    }
   ],
   "source": [
    "print(len(brandd),len(discription),len(price))"
   ]
  },
  {
   "cell_type": "code",
   "execution_count": 318,
   "id": "70ebbfb7",
   "metadata": {},
   "outputs": [
    {
     "data": {
      "text/html": [
       "<div>\n",
       "<style scoped>\n",
       "    .dataframe tbody tr th:only-of-type {\n",
       "        vertical-align: middle;\n",
       "    }\n",
       "\n",
       "    .dataframe tbody tr th {\n",
       "        vertical-align: top;\n",
       "    }\n",
       "\n",
       "    .dataframe thead th {\n",
       "        text-align: right;\n",
       "    }\n",
       "</style>\n",
       "<table border=\"1\" class=\"dataframe\">\n",
       "  <thead>\n",
       "    <tr style=\"text-align: right;\">\n",
       "      <th></th>\n",
       "      <th>Brand Name</th>\n",
       "      <th>Product Description</th>\n",
       "      <th>Price</th>\n",
       "    </tr>\n",
       "  </thead>\n",
       "  <tbody>\n",
       "    <tr>\n",
       "      <th>0</th>\n",
       "      <td>ALDO</td>\n",
       "      <td>Men Leather Driving Shoes</td>\n",
       "      <td>Rs. 12999</td>\n",
       "    </tr>\n",
       "    <tr>\n",
       "      <th>1</th>\n",
       "      <td>UNDER ARMOUR</td>\n",
       "      <td>Men Vantage 2 Running Shoes</td>\n",
       "      <td>Rs. 7999</td>\n",
       "    </tr>\n",
       "    <tr>\n",
       "      <th>2</th>\n",
       "      <td>ALDO</td>\n",
       "      <td>Men Woven Design Sneakers</td>\n",
       "      <td>Rs. 13999</td>\n",
       "    </tr>\n",
       "    <tr>\n",
       "      <th>3</th>\n",
       "      <td>Skechers</td>\n",
       "      <td>Men Max Cushioning Running</td>\n",
       "      <td>Rs. 7649Rs. 8999(15% OFF)</td>\n",
       "    </tr>\n",
       "    <tr>\n",
       "      <th>4</th>\n",
       "      <td>ALDO</td>\n",
       "      <td>Men Textured Slip-On Sneakers</td>\n",
       "      <td>Rs. 12999</td>\n",
       "    </tr>\n",
       "    <tr>\n",
       "      <th>...</th>\n",
       "      <td>...</td>\n",
       "      <td>...</td>\n",
       "      <td>...</td>\n",
       "    </tr>\n",
       "    <tr>\n",
       "      <th>95</th>\n",
       "      <td>Columbia</td>\n",
       "      <td>Women Trekking Shoes</td>\n",
       "      <td>Rs. 8999</td>\n",
       "    </tr>\n",
       "    <tr>\n",
       "      <th>96</th>\n",
       "      <td>Clarks</td>\n",
       "      <td>Men Leather Derbys</td>\n",
       "      <td>Rs. 9999</td>\n",
       "    </tr>\n",
       "    <tr>\n",
       "      <th>97</th>\n",
       "      <td>Saint G</td>\n",
       "      <td>Men Leather Chelsea Boots</td>\n",
       "      <td>Rs. 10710Rs. 11900(10% OFF)</td>\n",
       "    </tr>\n",
       "    <tr>\n",
       "      <th>98</th>\n",
       "      <td>UNDER ARMOUR</td>\n",
       "      <td>Women Charged Breeze Running</td>\n",
       "      <td>Rs. 8999</td>\n",
       "    </tr>\n",
       "    <tr>\n",
       "      <th>99</th>\n",
       "      <td>J.FONTINI</td>\n",
       "      <td>Men Black Leather Loafers</td>\n",
       "      <td>Rs. 8490</td>\n",
       "    </tr>\n",
       "  </tbody>\n",
       "</table>\n",
       "<p>100 rows × 3 columns</p>\n",
       "</div>"
      ],
      "text/plain": [
       "      Brand Name            Product Description                        Price\n",
       "0           ALDO      Men Leather Driving Shoes                    Rs. 12999\n",
       "1   UNDER ARMOUR    Men Vantage 2 Running Shoes                     Rs. 7999\n",
       "2           ALDO      Men Woven Design Sneakers                    Rs. 13999\n",
       "3       Skechers     Men Max Cushioning Running    Rs. 7649Rs. 8999(15% OFF)\n",
       "4           ALDO  Men Textured Slip-On Sneakers                    Rs. 12999\n",
       "..           ...                            ...                          ...\n",
       "95      Columbia           Women Trekking Shoes                     Rs. 8999\n",
       "96        Clarks             Men Leather Derbys                     Rs. 9999\n",
       "97       Saint G      Men Leather Chelsea Boots  Rs. 10710Rs. 11900(10% OFF)\n",
       "98  UNDER ARMOUR   Women Charged Breeze Running                     Rs. 8999\n",
       "99     J.FONTINI      Men Black Leather Loafers                     Rs. 8490\n",
       "\n",
       "[100 rows x 3 columns]"
      ]
     },
     "execution_count": 318,
     "metadata": {},
     "output_type": "execute_result"
    }
   ],
   "source": [
    "df=pd.DataFrame({('Brand Name'):brandd,('Product Description'):discription[0:100],('Price'):price[0:100]})\n",
    "df"
   ]
  },
  {
   "cell_type": "code",
   "execution_count": 319,
   "id": "640f5b54",
   "metadata": {},
   "outputs": [],
   "source": [
    "driver.close()"
   ]
  },
  {
   "cell_type": "code",
   "execution_count": 320,
   "id": "5f879a13",
   "metadata": {},
   "outputs": [],
   "source": [
    "#Go to webpage https://www.amazon.in/\n",
    "#Enter “Laptop” in the search field and then click the search icon.\n",
    "#Then set CPU Type filter to “Intel Core i7” and “Intel Core i9” as shown in the below image:\n",
    "#connecting web driver to the installed libaray\n",
    "driver = webdriver.Chrome(\"C:/Users/Ankit anand/selenium/chromedriver.exe\")\n",
    "#commanding driver to open the url\n",
    "driver.get('https://www.amazon.in/')\n",
    "#commanding driver to wait for 5 sec \n",
    "time.sleep(5)\n",
    "\n",
    "cli=driver.find_element_by_id(\"twotabsearchtextbox\")\n",
    "search=driver.find_element_by_xpath(\"//div[@class='nav-search-submit nav-sprite']\")\n",
    "cli.send_keys('Laptop')\n",
    "search.click()"
   ]
  },
  {
   "cell_type": "code",
   "execution_count": 321,
   "id": "5802371a",
   "metadata": {},
   "outputs": [],
   "source": [
    "driver.find_elements_by_xpath(\"//i[@class='a-icon a-icon-checkbox']\")[45].click()\n",
    "#unable to click on the both checkbox"
   ]
  },
  {
   "cell_type": "code",
   "execution_count": 322,
   "id": "ea4c2447",
   "metadata": {},
   "outputs": [],
   "source": [
    "#creating empty list \n",
    "Title=[]\n",
    "Ratings=[]\n",
    "Price=[]\n",
    "\n",
    "#start scrapping the data \n",
    "pro=driver.find_elements_by_xpath('//span[@class=\"a-size-medium a-color-base a-text-normal\"]')\n",
    "pro\n",
    "rate=driver.find_elements_by_xpath('//span[@class=\"a-icon-alt\"]')\n",
    "rate\n",
    "pri=driver.find_elements_by_xpath('//span[@class=\"a-price-whole\"]')\n",
    "pri\n",
    "for i in pro:\n",
    "    Title.append(i.text)\n",
    "for i in rate:\n",
    "    Ratings.append(i.text)\n",
    "for i in pri:\n",
    "    Price.append(i.text)"
   ]
  },
  {
   "cell_type": "code",
   "execution_count": 323,
   "id": "2806e029",
   "metadata": {},
   "outputs": [
    {
     "name": "stdout",
     "output_type": "stream",
     "text": [
      "30 32 30\n"
     ]
    }
   ],
   "source": [
    "print(len(Title),len(Ratings),len(Price))"
   ]
  },
  {
   "cell_type": "code",
   "execution_count": 324,
   "id": "a29af680",
   "metadata": {},
   "outputs": [
    {
     "data": {
      "text/html": [
       "<div>\n",
       "<style scoped>\n",
       "    .dataframe tbody tr th:only-of-type {\n",
       "        vertical-align: middle;\n",
       "    }\n",
       "\n",
       "    .dataframe tbody tr th {\n",
       "        vertical-align: top;\n",
       "    }\n",
       "\n",
       "    .dataframe thead th {\n",
       "        text-align: right;\n",
       "    }\n",
       "</style>\n",
       "<table border=\"1\" class=\"dataframe\">\n",
       "  <thead>\n",
       "    <tr style=\"text-align: right;\">\n",
       "      <th></th>\n",
       "      <th>Title</th>\n",
       "      <th>Ratings</th>\n",
       "      <th>Price</th>\n",
       "    </tr>\n",
       "  </thead>\n",
       "  <tbody>\n",
       "    <tr>\n",
       "      <th>0</th>\n",
       "      <td>MSI Sword 15 Gaming, Intel i5-11400H, 15.6\" FH...</td>\n",
       "      <td></td>\n",
       "      <td>75,800</td>\n",
       "    </tr>\n",
       "    <tr>\n",
       "      <th>1</th>\n",
       "      <td>MSI GF75 Thin, Intel i5-10300H, 17.3\" FHD IPS-...</td>\n",
       "      <td></td>\n",
       "      <td>58,990</td>\n",
       "    </tr>\n",
       "    <tr>\n",
       "      <th>2</th>\n",
       "      <td>Lenovo IdeaPad 3 10th Gen Intel Core i5 15.6\" ...</td>\n",
       "      <td></td>\n",
       "      <td>46,390</td>\n",
       "    </tr>\n",
       "    <tr>\n",
       "      <th>3</th>\n",
       "      <td>Lenovo ThinkBook 14 Intel Core i5 11th Gen 14\"...</td>\n",
       "      <td></td>\n",
       "      <td>61,990</td>\n",
       "    </tr>\n",
       "    <tr>\n",
       "      <th>4</th>\n",
       "      <td>ASUS TUF Gaming F15 (2021), 15.6\" (39.62 cms) ...</td>\n",
       "      <td></td>\n",
       "      <td>62,299</td>\n",
       "    </tr>\n",
       "    <tr>\n",
       "      <th>5</th>\n",
       "      <td>Lenovo IdeaPad Slim 3 11th Gen Intel Core i5 1...</td>\n",
       "      <td></td>\n",
       "      <td>50,890</td>\n",
       "    </tr>\n",
       "    <tr>\n",
       "      <th>6</th>\n",
       "      <td>(Renewed) Dell Latitude Hybrid Laptop E6330 In...</td>\n",
       "      <td></td>\n",
       "      <td>24,004</td>\n",
       "    </tr>\n",
       "    <tr>\n",
       "      <th>7</th>\n",
       "      <td>(Renewed) Dell Latitude E5470 Intel Core i5 6t...</td>\n",
       "      <td></td>\n",
       "      <td>27,424</td>\n",
       "    </tr>\n",
       "    <tr>\n",
       "      <th>8</th>\n",
       "      <td>(Refurbished) Dell Latitude Intel 2nd Gen Core...</td>\n",
       "      <td></td>\n",
       "      <td>18,837</td>\n",
       "    </tr>\n",
       "    <tr>\n",
       "      <th>9</th>\n",
       "      <td>HP 15s 11th Gen Intel Core i5 15.6 inch(39.6 c...</td>\n",
       "      <td></td>\n",
       "      <td>54,590</td>\n",
       "    </tr>\n",
       "  </tbody>\n",
       "</table>\n",
       "</div>"
      ],
      "text/plain": [
       "                                               Title Ratings   Price\n",
       "0  MSI Sword 15 Gaming, Intel i5-11400H, 15.6\" FH...          75,800\n",
       "1  MSI GF75 Thin, Intel i5-10300H, 17.3\" FHD IPS-...          58,990\n",
       "2  Lenovo IdeaPad 3 10th Gen Intel Core i5 15.6\" ...          46,390\n",
       "3  Lenovo ThinkBook 14 Intel Core i5 11th Gen 14\"...          61,990\n",
       "4  ASUS TUF Gaming F15 (2021), 15.6\" (39.62 cms) ...          62,299\n",
       "5  Lenovo IdeaPad Slim 3 11th Gen Intel Core i5 1...          50,890\n",
       "6  (Renewed) Dell Latitude Hybrid Laptop E6330 In...          24,004\n",
       "7  (Renewed) Dell Latitude E5470 Intel Core i5 6t...          27,424\n",
       "8  (Refurbished) Dell Latitude Intel 2nd Gen Core...          18,837\n",
       "9  HP 15s 11th Gen Intel Core i5 15.6 inch(39.6 c...          54,590"
      ]
     },
     "execution_count": 324,
     "metadata": {},
     "output_type": "execute_result"
    }
   ],
   "source": [
    "df=pd.DataFrame({('Title'):Title[0:10],('Ratings'):Ratings[0:10],('Price'):Price[0:10]})\n",
    "df"
   ]
  },
  {
   "cell_type": "code",
   "execution_count": 325,
   "id": "b1785111",
   "metadata": {},
   "outputs": [],
   "source": [
    "driver.close()"
   ]
  },
  {
   "cell_type": "code",
   "execution_count": 326,
   "id": "01fb8641",
   "metadata": {},
   "outputs": [],
   "source": [
    "#Q9: Write a python program to scrape data for first 10 job results for Data Scientist Designation in Noida\n",
    "#location. You have to scrape company name, No. of days ago when job was posted, Rating of the company.\n",
    "#connecting web driver to the installed libaray\n",
    "driver = webdriver.Chrome(\"C:/Users/Ankit anand/selenium/chromedriver.exe\")\n",
    "#commanding driver to open the url\n",
    "driver.get('https://www.ambitionbox.com/')\n",
    "#commanding driver to wait for 5 sec \n",
    "time.sleep(5)\n",
    "\n",
    "#clicking and sending keys as guided \n",
    "search=driver.find_element_by_xpath(\"/html/body/div[1]/nav/nav/a[6]\")\n",
    "search.click()\n",
    "time.sleep(5)\n",
    "cli=driver.find_element_by_xpath(\"//input[@class='input tt-input']\")\n",
    "cli.send_keys('Data Scientist')\n",
    "\n",
    "searh=driver.find_element_by_xpath(\"//span[@class='ctas-btn-medium']\")\n",
    "searh.click()\n",
    "time.sleep(5)\n",
    "loc=driver.find_element_by_xpath(\"/html/body/div/div/div/div[2]/div[1]/div[2]/div[1]/div/div/div/div[2]/div[1]/i\")\n",
    "loc.click()\n",
    "\n",
    "inp=driver.find_element_by_xpath(\"/html/body/div/div/div/div[2]/div[1]/div[2]/div[1]/div/div/div/div[2]/div[2]/div/div[2]/input\")\n",
    "inp.send_keys('noida')\n",
    "\n"
   ]
  },
  {
   "cell_type": "code",
   "execution_count": 327,
   "id": "308d22d5",
   "metadata": {},
   "outputs": [],
   "source": [
    "inp=driver.find_element_by_xpath(\"/html/body/div/div/div/div[2]/div[1]/div[2]/div[1]/div/div/div/div[2]/div[2]/div/div[2]/input\")\n",
    "inp.send_keys('noida')"
   ]
  },
  {
   "cell_type": "code",
   "execution_count": 328,
   "id": "b6d5c566",
   "metadata": {},
   "outputs": [],
   "source": [
    "clck=driver.find_element_by_xpath(\"/html/body/div/div/div/div[2]/div[1]/div[2]/div[1]/div/div/div/div[2]/div[2]/div/div[3]/div[1]/div[1]/div/label\")\n",
    "clck.click()"
   ]
  },
  {
   "cell_type": "code",
   "execution_count": 338,
   "id": "918d1012",
   "metadata": {},
   "outputs": [
    {
     "name": "stdout",
     "output_type": "stream",
     "text": [
      "10 10 10\n"
     ]
    }
   ],
   "source": [
    "# creating empty list \n",
    "company=[]\n",
    "exprience=[]\n",
    "job_title=[]\n",
    "\n",
    "\n",
    "#scarping job details\n",
    "\n",
    "job=driver.find_elements_by_xpath('//a[@class=\"title noclick\"]')\n",
    "job\n",
    "\n",
    "exp=driver.find_elements_by_xpath('//div[@class=\"job-basic-info show-flex\"]')\n",
    "exp\n",
    "\n",
    "com=driver.find_elements_by_xpath('//p[@class=\"company body-medium\"]')\n",
    "com\n",
    "\n",
    "for i in com:\n",
    "    company.append(i.text)\n",
    "for i in exp:\n",
    "    exprience.append(i.text)\n",
    "for i in job:\n",
    "    job_title.append(i.text)\n",
    "exprience.remove('2-6 Yrs\\n₹ 6.5-16.5 LPA\\nChennai, Pune, Delhi NCR +4 more\\ncnn, neural networks, theano +11 more')\n",
    "exprience \n",
    "print(len(company),len(exprience),len(job_title))"
   ]
  },
  {
   "cell_type": "code",
   "execution_count": 339,
   "id": "a57a8fbd",
   "metadata": {},
   "outputs": [
    {
     "data": {
      "text/html": [
       "<div>\n",
       "<style scoped>\n",
       "    .dataframe tbody tr th:only-of-type {\n",
       "        vertical-align: middle;\n",
       "    }\n",
       "\n",
       "    .dataframe tbody tr th {\n",
       "        vertical-align: top;\n",
       "    }\n",
       "\n",
       "    .dataframe thead th {\n",
       "        text-align: right;\n",
       "    }\n",
       "</style>\n",
       "<table border=\"1\" class=\"dataframe\">\n",
       "  <thead>\n",
       "    <tr style=\"text-align: right;\">\n",
       "      <th></th>\n",
       "      <th>Title</th>\n",
       "      <th>job</th>\n",
       "      <th>exprience</th>\n",
       "    </tr>\n",
       "  </thead>\n",
       "  <tbody>\n",
       "    <tr>\n",
       "      <th>0</th>\n",
       "      <td>EXL Services.com ( I ) Pvt. Ltd.</td>\n",
       "      <td>Data Scientist- AI/ML- R&amp;D</td>\n",
       "      <td>2-6 years\\n₹ 6.5-16.5 LPA\\nChennai, Pune, Delh...</td>\n",
       "    </tr>\n",
       "    <tr>\n",
       "      <th>1</th>\n",
       "      <td>GENPACT India Private Limited</td>\n",
       "      <td>Data Scientist</td>\n",
       "      <td>7-12 Yrs\\nNot Disclosed\\nBengaluru/Bangalore, ...</td>\n",
       "    </tr>\n",
       "    <tr>\n",
       "      <th>2</th>\n",
       "      <td>TECHNIP GLOBAL BUSINESS SERVICES PRIVATE LIMITED</td>\n",
       "      <td>Oracle HCM BI Technical Lead/Manager (People A...</td>\n",
       "      <td>7-12 Yrs\\nNot Disclosed\\nNoida\\nSecurity confi...</td>\n",
       "    </tr>\n",
       "    <tr>\n",
       "      <th>3</th>\n",
       "      <td>GENPACT India Private Limited</td>\n",
       "      <td>Hiring For Data Scientist + Python/R+ Predicti...</td>\n",
       "      <td>9-14 Yrs\\nNot Disclosed\\nGurgaon/Gurugram, Noi...</td>\n",
       "    </tr>\n",
       "    <tr>\n",
       "      <th>4</th>\n",
       "      <td>Bristlecone India Limited</td>\n",
       "      <td>Data Scientist - Immediate Joiners</td>\n",
       "      <td>5-8 Yrs\\nNot Disclosed\\nPune, Mumbai, Bengalur...</td>\n",
       "    </tr>\n",
       "    <tr>\n",
       "      <th>5</th>\n",
       "      <td>Zyoin</td>\n",
       "      <td>Data Scientist - Machine Learning (5-14 yrs)</td>\n",
       "      <td>5-14 Yrs\\nBengaluru/Bangalore, Noida\\nData Sci...</td>\n",
       "    </tr>\n",
       "    <tr>\n",
       "      <th>6</th>\n",
       "      <td>Ashkom Media India Private Limited</td>\n",
       "      <td>Data Scientist</td>\n",
       "      <td>3-6 Yrs\\nNot Disclosed\\nBengaluru/Bangalore, N...</td>\n",
       "    </tr>\n",
       "    <tr>\n",
       "      <th>7</th>\n",
       "      <td>Newgen Software Technologies Ltd.</td>\n",
       "      <td>Data Scientist- Fresher Opening - Newgen Softw...</td>\n",
       "      <td>0-2 Yrs\\n₹ 3-5 LPA\\nNoida\\npython, nlp, Statis...</td>\n",
       "    </tr>\n",
       "    <tr>\n",
       "      <th>8</th>\n",
       "      <td>JK Technosoft Ltd</td>\n",
       "      <td>Data Analyst / Data Scientist</td>\n",
       "      <td>5-7 Yrs\\nNot Disclosed\\nBengaluru/Bangalore, N...</td>\n",
       "    </tr>\n",
       "    <tr>\n",
       "      <th>9</th>\n",
       "      <td>Pitney Bowes India Pvt Ltd</td>\n",
       "      <td>Senior Data Scientist</td>\n",
       "      <td>6-10 Yrs\\nNot Disclosed\\nNoida\\nQuest</td>\n",
       "    </tr>\n",
       "  </tbody>\n",
       "</table>\n",
       "</div>"
      ],
      "text/plain": [
       "                                              Title  \\\n",
       "0                  EXL Services.com ( I ) Pvt. Ltd.   \n",
       "1                     GENPACT India Private Limited   \n",
       "2  TECHNIP GLOBAL BUSINESS SERVICES PRIVATE LIMITED   \n",
       "3                     GENPACT India Private Limited   \n",
       "4                         Bristlecone India Limited   \n",
       "5                                             Zyoin   \n",
       "6                Ashkom Media India Private Limited   \n",
       "7                 Newgen Software Technologies Ltd.   \n",
       "8                                 JK Technosoft Ltd   \n",
       "9                        Pitney Bowes India Pvt Ltd   \n",
       "\n",
       "                                                 job  \\\n",
       "0                         Data Scientist- AI/ML- R&D   \n",
       "1                                     Data Scientist   \n",
       "2  Oracle HCM BI Technical Lead/Manager (People A...   \n",
       "3  Hiring For Data Scientist + Python/R+ Predicti...   \n",
       "4                 Data Scientist - Immediate Joiners   \n",
       "5       Data Scientist - Machine Learning (5-14 yrs)   \n",
       "6                                     Data Scientist   \n",
       "7  Data Scientist- Fresher Opening - Newgen Softw...   \n",
       "8                      Data Analyst / Data Scientist   \n",
       "9                              Senior Data Scientist   \n",
       "\n",
       "                                           exprience  \n",
       "0  2-6 years\\n₹ 6.5-16.5 LPA\\nChennai, Pune, Delh...  \n",
       "1  7-12 Yrs\\nNot Disclosed\\nBengaluru/Bangalore, ...  \n",
       "2  7-12 Yrs\\nNot Disclosed\\nNoida\\nSecurity confi...  \n",
       "3  9-14 Yrs\\nNot Disclosed\\nGurgaon/Gurugram, Noi...  \n",
       "4  5-8 Yrs\\nNot Disclosed\\nPune, Mumbai, Bengalur...  \n",
       "5  5-14 Yrs\\nBengaluru/Bangalore, Noida\\nData Sci...  \n",
       "6  3-6 Yrs\\nNot Disclosed\\nBengaluru/Bangalore, N...  \n",
       "7  0-2 Yrs\\n₹ 3-5 LPA\\nNoida\\npython, nlp, Statis...  \n",
       "8  5-7 Yrs\\nNot Disclosed\\nBengaluru/Bangalore, N...  \n",
       "9              6-10 Yrs\\nNot Disclosed\\nNoida\\nQuest  "
      ]
     },
     "execution_count": 339,
     "metadata": {},
     "output_type": "execute_result"
    }
   ],
   "source": [
    "df=pd.DataFrame({('Title'):company[0:10],('job'):job_title[0:10],('exprience'):exprience[0:10]})\n",
    "df"
   ]
  },
  {
   "cell_type": "code",
   "execution_count": 344,
   "id": "bab22daf",
   "metadata": {},
   "outputs": [],
   "source": [
    "driver.close()"
   ]
  },
  {
   "cell_type": "code",
   "execution_count": 347,
   "id": "72bc4379",
   "metadata": {},
   "outputs": [],
   "source": [
    "#Q10: Write a python program to scrape the salary data for Data Scientist designation.\n",
    "#You have to scrape Company name, Number of salaries, Average salary, Minsalary, Max Salary.\n",
    "driver = webdriver.Chrome(\"C:/Users/Ankit anand/selenium/chromedriver.exe\")\n",
    "#commanding driver to open the url\n",
    "driver.get('https://www.ambitionbox.com/')\n",
    "#commanding driver to wait for 5 sec \n",
    "time.sleep(5)\n",
    "#clicking and sending keys as guided \n",
    "search=driver.find_element_by_xpath(\"/html/body/div[1]/nav/nav/a[4]\")\n",
    "search.click()\n",
    "time.sleep(5)\n",
    "\n",
    "cli=driver.find_element_by_id(\"jobProfileSearchbox\")\n",
    "cli.send_keys('Data Scientist')\n",
    "\n",
    "searh=driver.find_element_by_xpath(\"//div[@class='tt-menu tt-open']/div/div\")\n",
    "searh.click()\n",
    "time.sleep(5)"
   ]
  },
  {
   "cell_type": "code",
   "execution_count": 361,
   "id": "a027033e",
   "metadata": {},
   "outputs": [
    {
     "name": "stdout",
     "output_type": "stream",
     "text": [
      "10 10 10\n"
     ]
    }
   ],
   "source": [
    "#Scrape the data for the first 10 companies. Scrape the company name, total salary record, average\n",
    "#salary, minimum salary, maximum salary, experience required.\n",
    "\n",
    "\n",
    "#creating empty list\n",
    "company_name=[]\n",
    "total_salary_record=[]\n",
    "average_salary=[]\n",
    "minimum_salary=[]\n",
    "experience_required=[]\n",
    "\n",
    "com=driver.find_elements_by_xpath('//div[@class=\"name\"]/a')\n",
    "com\n",
    "\n",
    "total=driver.find_elements_by_xpath('//div[@class=\"name\"]/span')\n",
    "total\n",
    "\n",
    "exp=driver.find_elements_by_xpath('//div[@class=\"salaries sbold-list-header\"]')\n",
    "exp\n",
    "\n",
    "mini=driver.find_elements_by_xpath('//div[@class=\"value body-medium\"]')\n",
    "mini\n",
    "\n",
    "aver=driver.find_elements_by_xpath('//p[@class=\"averageCtc\"]')\n",
    "aver\n",
    "\n",
    "for i in com:\n",
    "    company_name.append(i.text)\n",
    "for i in exp:\n",
    "    experience_required.append(i.text.replace('\\n','').split('.')[1])\n",
    "for i in total:\n",
    "    total_salary_record.append(i.text)\n",
    "for i in mini:\n",
    "    minimum_salary.append(i.text)\n",
    "minimum_salary[0:20:2] \n",
    "for i in aver:\n",
    "    average_salary.append(i.text)\n",
    "print(len(company_name),len(experience_required),len(total_salary_record),len(minimum_salary))    "
   ]
  },
  {
   "cell_type": "code",
   "execution_count": 362,
   "id": "cdc2babd",
   "metadata": {},
   "outputs": [
    {
     "data": {
      "text/html": [
       "<div>\n",
       "<style scoped>\n",
       "    .dataframe tbody tr th:only-of-type {\n",
       "        vertical-align: middle;\n",
       "    }\n",
       "\n",
       "    .dataframe tbody tr th {\n",
       "        vertical-align: top;\n",
       "    }\n",
       "\n",
       "    .dataframe thead th {\n",
       "        text-align: right;\n",
       "    }\n",
       "</style>\n",
       "<table border=\"1\" class=\"dataframe\">\n",
       "  <thead>\n",
       "    <tr style=\"text-align: right;\">\n",
       "      <th></th>\n",
       "      <th>Company Name</th>\n",
       "      <th>Minimum Salary</th>\n",
       "      <th>Total Salary Record</th>\n",
       "      <th>Experience Required</th>\n",
       "      <th>Average Salary</th>\n",
       "    </tr>\n",
       "  </thead>\n",
       "  <tbody>\n",
       "    <tr>\n",
       "      <th>0</th>\n",
       "      <td>Walmart</td>\n",
       "      <td>₹ 25.0L</td>\n",
       "      <td>based on 11 salaries</td>\n",
       "      <td>3 yrs exp</td>\n",
       "      <td>₹ 29.7L</td>\n",
       "    </tr>\n",
       "    <tr>\n",
       "      <th>1</th>\n",
       "      <td>Ab Inbev</td>\n",
       "      <td>₹ 35.0L</td>\n",
       "      <td>based on 32 salaries</td>\n",
       "      <td>3-4 yrs exp</td>\n",
       "      <td>₹ 20.5L</td>\n",
       "    </tr>\n",
       "    <tr>\n",
       "      <th>2</th>\n",
       "      <td>Reliance Jio</td>\n",
       "      <td>₹ 15.0L</td>\n",
       "      <td>based on 10 salaries</td>\n",
       "      <td>4 yrs exp</td>\n",
       "      <td>₹ 18.9L</td>\n",
       "    </tr>\n",
       "    <tr>\n",
       "      <th>3</th>\n",
       "      <td>ZS</td>\n",
       "      <td>₹ 25.5L</td>\n",
       "      <td>based on 15 salaries</td>\n",
       "      <td>2 yrs exp</td>\n",
       "      <td>₹ 15.9L</td>\n",
       "    </tr>\n",
       "    <tr>\n",
       "      <th>4</th>\n",
       "      <td>Optum</td>\n",
       "      <td>₹ 5.6L</td>\n",
       "      <td>based on 27 salaries</td>\n",
       "      <td>3-4 yrs exp</td>\n",
       "      <td>₹ 15.2L</td>\n",
       "    </tr>\n",
       "    <tr>\n",
       "      <th>5</th>\n",
       "      <td>Fractal Analytics</td>\n",
       "      <td>₹ 26.2L</td>\n",
       "      <td>based on 81 salaries</td>\n",
       "      <td>2-4 yrs exp</td>\n",
       "      <td>₹ 15.2L</td>\n",
       "    </tr>\n",
       "    <tr>\n",
       "      <th>6</th>\n",
       "      <td>Tiger Analytics</td>\n",
       "      <td>₹ 9.8L</td>\n",
       "      <td>based on 46 salaries</td>\n",
       "      <td>2-4 yrs exp</td>\n",
       "      <td>₹ 14.8L</td>\n",
       "    </tr>\n",
       "    <tr>\n",
       "      <th>7</th>\n",
       "      <td>UnitedHealth</td>\n",
       "      <td>₹ 20.0L</td>\n",
       "      <td>based on 53 salaries</td>\n",
       "      <td>2-4 yrs exp</td>\n",
       "      <td>₹ 14.0L</td>\n",
       "    </tr>\n",
       "    <tr>\n",
       "      <th>8</th>\n",
       "      <td>Verizon</td>\n",
       "      <td>₹ 11.0L</td>\n",
       "      <td>based on 14 salaries</td>\n",
       "      <td>4 yrs exp</td>\n",
       "      <td>₹ 12.7L</td>\n",
       "    </tr>\n",
       "    <tr>\n",
       "      <th>9</th>\n",
       "      <td>Ganit Business Solutions</td>\n",
       "      <td>₹ 22.0L</td>\n",
       "      <td>based on 13 salaries</td>\n",
       "      <td>4 yrs exp</td>\n",
       "      <td>₹ 12.4L</td>\n",
       "    </tr>\n",
       "  </tbody>\n",
       "</table>\n",
       "</div>"
      ],
      "text/plain": [
       "               Company Name Minimum Salary   Total Salary Record  \\\n",
       "0                   Walmart        ₹ 25.0L  based on 11 salaries   \n",
       "1                  Ab Inbev        ₹ 35.0L  based on 32 salaries   \n",
       "2              Reliance Jio        ₹ 15.0L  based on 10 salaries   \n",
       "3                        ZS        ₹ 25.5L  based on 15 salaries   \n",
       "4                     Optum         ₹ 5.6L  based on 27 salaries   \n",
       "5         Fractal Analytics        ₹ 26.2L  based on 81 salaries   \n",
       "6           Tiger Analytics         ₹ 9.8L  based on 46 salaries   \n",
       "7              UnitedHealth        ₹ 20.0L  based on 53 salaries   \n",
       "8                   Verizon        ₹ 11.0L  based on 14 salaries   \n",
       "9  Ganit Business Solutions        ₹ 22.0L  based on 13 salaries   \n",
       "\n",
       "  Experience Required Average Salary  \n",
       "0           3 yrs exp        ₹ 29.7L  \n",
       "1         3-4 yrs exp        ₹ 20.5L  \n",
       "2           4 yrs exp        ₹ 18.9L  \n",
       "3           2 yrs exp        ₹ 15.9L  \n",
       "4         3-4 yrs exp        ₹ 15.2L  \n",
       "5         2-4 yrs exp        ₹ 15.2L  \n",
       "6         2-4 yrs exp        ₹ 14.8L  \n",
       "7         2-4 yrs exp        ₹ 14.0L  \n",
       "8           4 yrs exp        ₹ 12.7L  \n",
       "9           4 yrs exp        ₹ 12.4L  "
      ]
     },
     "execution_count": 362,
     "metadata": {},
     "output_type": "execute_result"
    }
   ],
   "source": [
    "df=pd.DataFrame({('Company Name'):company_name,('Minimum Salary'):minimum_salary[0:10],('Total Salary Record'):total_salary_record,('Experience Required'):experience_required,('Average Salary'):average_salary})\n",
    "df"
   ]
  },
  {
   "cell_type": "code",
   "execution_count": 363,
   "id": "7fa05928",
   "metadata": {},
   "outputs": [],
   "source": [
    "driver.close()"
   ]
  },
  {
   "cell_type": "code",
   "execution_count": null,
   "id": "de255759",
   "metadata": {},
   "outputs": [],
   "source": []
  }
 ],
 "metadata": {
  "kernelspec": {
   "display_name": "Python 3 (ipykernel)",
   "language": "python",
   "name": "python3"
  },
  "language_info": {
   "codemirror_mode": {
    "name": "ipython",
    "version": 3
   },
   "file_extension": ".py",
   "mimetype": "text/x-python",
   "name": "python",
   "nbconvert_exporter": "python",
   "pygments_lexer": "ipython3",
   "version": "3.9.7"
  }
 },
 "nbformat": 4,
 "nbformat_minor": 5
}
